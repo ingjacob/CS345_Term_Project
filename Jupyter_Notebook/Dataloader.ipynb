{
 "cells": [
  {
   "cell_type": "markdown",
   "id": "181e235d-06c1-4b0d-b714-ef59ef8410bb",
   "metadata": {},
   "source": [
    "# Music Genera Classification With the GTZAN dataset\n",
    "CS345 Fall 2024 Project   \n",
    "Wade McCaulley  \n",
    "Jacob Ingraham  "
   ]
  },
  {
   "cell_type": "markdown",
   "id": "3218ee2f",
   "metadata": {},
   "source": [
    "The topic we wish to address with this project is Music Genre Classification. Music Genre Classification has applications ranging from improved music recommendations to audio tagging for large audio libraries, which can help create more personalized music choices on platforms like Spotify. Since machine learning models specialize in extracting information from highly dimensional data, we believe that music data presents a strong opportunity. Since a song’s genre is one of the most defining aspects of a song, this classification is very well suited for machine learning. A genre is determined by many aspects such as the tempo, rhythm, instrumentation, and overall tone. \n",
    "\n",
    "This topic is interesting because music is an expression of emotion and a work of art. Many people prefer certain music genres because of how the songs impact their emotions. The idea of transforming songs into a collection of data points and accurately classifying them into genres is intriguing. This topic will also be challenging because audio data is very complex. Our models will have to find patterns hidden within the noise and complexity. "
   ]
  },
  {
   "cell_type": "code",
   "execution_count": 1,
   "id": "a98ce2c5-e32c-4b8e-a55b-ecb3acc9460c",
   "metadata": {},
   "outputs": [],
   "source": [
    "import numpy as np\n",
    "import pandas as pd\n",
    "import os\n",
    "import matplotlib.pyplot as plt\n",
    "from sklearn.model_selection import GridSearchCV\n",
    "import time"
   ]
  },
  {
   "cell_type": "code",
   "execution_count": 2,
   "id": "1cdc4e79-3859-4bcb-9e02-c04b647c2a12",
   "metadata": {},
   "outputs": [],
   "source": [
    "features_30_seconds_filepath = \"../Data/features_30_sec.csv\"\n",
    "features_3_seconds_filepath = \"../Data/features_3_sec.csv\"\n",
    "mel_spectrograms_filepath = \"../Data/images_original\"\n",
    "\n",
    "genres = [\"blues\", \"classical\" , \"country\", \"disco\", \"hiphop\", \"jazz\", \"metal\", \"pop\", \"reggae\", \"rock\"]"
   ]
  },
  {
   "cell_type": "markdown",
   "id": "a25018ed-539a-4884-8e36-e1c575e03ff1",
   "metadata": {},
   "source": [
    "### Datasets\n",
    "\n",
    "The dataset consists of 10 genres, each containing 100 audio files, with each file having a duration of 30 seconds. This dataset is often referred to as \"The MNIST of sounds,\" drawing a comparison to the well-known MNIST database of handwritten digits frequently used in CS345.\n",
    "\n",
    "We did not manually extract features from the audio files. Instead, we utilized pre-processed data.\n",
    "\n",
    "Music Generes:\n",
    "* Blues\n",
    "* Classical\n",
    "* Country\n",
    "* Disco\n",
    "* Hiphop\n",
    "* Jazz\n",
    "* Metal\n",
    "* Pop\n",
    "* Reggae\n",
    "* Rock\n",
    "\n",
    "### Images\n",
    "\n",
    "Images are visual representations of each audio file in the form of Mel Spectrograms. A Mel Spectrogram converts audio signals into a visual format that emphasizes frequency and amplitude over the duration of the 30-second audio file. This representation aligns with human perception of sound, as the frequency axis is transformed into the Mel scale. The Mel scale captures frequencies in a way that reflects how humans perceive pitch, allowing the audio to be digitally represented as a waveform. This visual format can then be utilized for further analysis or processing"
   ]
  },
  {
   "cell_type": "code",
   "execution_count": 3,
   "id": "906f4bc1-2f5d-4cfa-a837-2a3ce5d17674",
   "metadata": {},
   "outputs": [],
   "source": [
    "'''loads the CSVs. Features are everything but the first col(filename), and the lables. The lables are the last column''' \n",
    "def loadCSVs(filepath):\n",
    "    data = pd.read_csv(filepath, dtype = object, delimiter = ',').values\n",
    "    X = data[:,2:-1]\n",
    "    y = data[:,-1:]\n",
    "    return X, y"
   ]
  },
  {
   "cell_type": "code",
   "execution_count": 4,
   "id": "7f664227-1b71-494d-abea-47dfa3d340a5",
   "metadata": {},
   "outputs": [],
   "source": [
    "'''This will turn the genere lables into np.array of ints'''\n",
    "def lable_to_int(lables, genres):\n",
    "    lable_int = np.array(lables)\n",
    "    for i in range(len(genres)):\n",
    "        lable_int[lable_int==genres[i]]=i\n",
    "    return lable_int \n"
   ]
  },
  {
   "cell_type": "code",
   "execution_count": 5,
   "id": "66b3e3d7-b630-486c-b4de-df74a1dec118",
   "metadata": {},
   "outputs": [],
   "source": [
    "'''#this will turn the png where each pixel is represented by 4 values into a single value. The first three are colors, and I think the forth is transparancy.'''\n",
    "def gray_scale_images(images):\n",
    "    gray_images = np.dot(images[..., :3], [0.2989, 0.5870, 0.1140])\n",
    "    return np.array(gray_images)"
   ]
  },
  {
   "cell_type": "code",
   "execution_count": 6,
   "id": "fdb525d5-d3cf-43a6-947b-974aff3e4a16",
   "metadata": {},
   "outputs": [],
   "source": [
    "'''loads the mel spectrograms into a np array of images. Each image is 288, 432 pixels, and each pixel is represented by four values'''\n",
    "def load_mel_spectrograms():\n",
    "    image_features = []\n",
    "    image_lables = []\n",
    "    for genre in genres:\n",
    "        print(\"Loading\", genre)\n",
    "        images_file_path = mel_spectrograms_filepath + \"/\" + genre\n",
    "        png_files = [f for f in os.listdir(images_file_path) if f.endswith('.png')]\n",
    "\n",
    "        for file in png_files:\n",
    "            file_path = images_file_path +\"/\"+ file\n",
    "            image = plt.imread(file_path)  # Load the image\n",
    "            image_features.append(image)\n",
    "            image_lables.append(genre)\n",
    "\n",
    "    return np.array(image_features), np.array(image_lables)"
   ]
  },
  {
   "cell_type": "code",
   "execution_count": 7,
   "id": "ea624ba4-f7df-44e0-920c-4bec63122ff7",
   "metadata": {},
   "outputs": [
    {
     "name": "stdout",
     "output_type": "stream",
     "text": [
      "(1000, 57) (1000,)\n",
      "(9990, 57) (9990,)\n"
     ]
    }
   ],
   "source": [
    "string_X_30sec, y_30sec = loadCSVs(features_30_seconds_filepath)\n",
    "X_30sec = string_X_30sec.astype(np.float64)\n",
    "string_X_3sec, y_3sec = loadCSVs(features_3_seconds_filepath)\n",
    "X_3sec = string_X_3sec.astype(np.float64)\n",
    "\n",
    "# reshape y to a 1d array\n",
    "y_30sec = y_30sec.ravel()\n",
    "y_3sec = y_3sec.ravel()\n",
    "\n",
    "print(X_30sec.shape, y_30sec.shape)\n",
    "print(X_3sec.shape, y_3sec.shape)\n"
   ]
  },
  {
   "cell_type": "code",
   "execution_count": 8,
   "id": "4e833a67-c7af-4aac-b059-fafbcac845eb",
   "metadata": {},
   "outputs": [
    {
     "name": "stdout",
     "output_type": "stream",
     "text": [
      "Loading blues\n",
      "Loading classical\n",
      "Loading country\n",
      "Loading disco\n",
      "Loading hiphop\n",
      "Loading jazz\n",
      "Loading metal\n",
      "Loading pop\n",
      "Loading reggae\n",
      "Loading rock\n"
     ]
    },
    {
     "data": {
      "text/plain": [
       "((999, 288, 432, 4), (999,))"
      ]
     },
     "execution_count": 8,
     "metadata": {},
     "output_type": "execute_result"
    }
   ],
   "source": [
    "X_images, y_images = load_mel_spectrograms()\n",
    "y_images = lable_to_int(y_images,genres)\n",
    "X_images.shape, y_images.shape"
   ]
  },
  {
   "cell_type": "code",
   "execution_count": 9,
   "id": "93bc9022",
   "metadata": {},
   "outputs": [],
   "source": [
    "from sklearn.model_selection import train_test_split\n",
    "X_images_fulltrain, X_images_test, y_images_fulltrain, y_images_test = train_test_split(X_images, y_images, test_size=0.1, shuffle=True, random_state=7)\n",
    "X_images_train, X_images_val, y_images_train, y_images_val = train_test_split(X_images_fulltrain, y_images_fulltrain, test_size=0.2, shuffle=True, random_state=7)\n",
    "\n",
    "X_gray_train = gray_scale_images(X_images_train)\n",
    "X_gray_val = gray_scale_images(X_images_val)\n",
    "X_gray_test = gray_scale_images(X_images_test)"
   ]
  },
  {
   "cell_type": "code",
   "execution_count": 10,
   "id": "eb7fab7f-0d3b-4598-98f7-503e461ecfeb",
   "metadata": {},
   "outputs": [
    {
     "data": {
      "text/plain": [
       "((1000,), (9990,), (999,))"
      ]
     },
     "execution_count": 11,
     "metadata": {},
     "output_type": "execute_result"
    }
   ],
   "source": [
    "y_30sec_int = lable_to_int(y_30sec, genres)\n",
    "y_3sec_int = lable_to_int(y_3sec, genres)\n",
    "y_images_int = lable_to_int(y_images, genres)\n",
    "y_30sec_int.shape, y_3sec_int.shape, y_images_int.shape"
   ]
  },
  {
   "cell_type": "code",
   "execution_count": 12,
   "id": "2c7eb730-7c49-46a8-ba43-90d96b6354e4",
   "metadata": {},
   "outputs": [],
   "source": [
    "'''Create normalized and standardized versions of data'''\n",
    "X_30sec_norm = (X_30sec-np.min(X_30sec, axis=0))/(np.max(X_30sec,axis=0)-np.min(X_30sec,axis=0))\n",
    "X_3sec_norm = (X_3sec-np.min(X_3sec, axis=0))/(np.max(X_3sec,axis=0)-np.min(X_3sec,axis=0))\n",
    "X_30sec_std = (X_30sec-np.mean(X_30sec, axis=0))/(np.std(X_30sec, axis=0))\n",
    "X_3sec_std = (X_3sec-np.mean(X_3sec, axis=0))/(np.std(X_3sec, axis=0))"
   ]
  },
  {
   "cell_type": "code",
   "execution_count": 13,
   "id": "29bdc6be",
   "metadata": {},
   "outputs": [
    {
     "name": "stdout",
     "output_type": "stream",
     "text": [
      "True True\n",
      "True True\n",
      "-8.78829173176966e-18 1.0\n",
      "5.5902067966304e-18 1.0\n"
     ]
    }
   ],
   "source": [
    "'''Check norm and std data'''\n",
    "print(np.max(X_30sec_norm)==1,np.min(X_30sec_norm)==0)\n",
    "print(np.max(X_3sec_norm)==1,np.min(X_3sec_norm)==0)\n",
    "print(np.mean(X_30sec_std), np.std(X_30sec_std))\n",
    "print(np.mean(X_3sec_std), np.std(X_3sec_std))"
   ]
  },
  {
   "cell_type": "code",
   "execution_count": 24,
   "id": "d30fd646",
   "metadata": {},
   "outputs": [],
   "source": [
    "X_30sec_fulltrain, X_30sec_test, y_30sec_fulltrain, y_30sec_test = train_test_split(X_30sec, y_30sec, test_size=0.1, shuffle=True, random_state=7)\n",
    "X_30sec_train, X_30sec_val, y_30sec_train, y_30sec_val = train_test_split(X_30sec_fulltrain, y_30sec_fulltrain, test_size=0.2, shuffle=True, random_state=7)\n",
    "\n",
    "X_30sec_norm_fulltrain, X_30sec_norm_test = train_test_split(X_30sec_norm, test_size=0.1, shuffle=True, random_state=7)\n",
    "X_30sec_norm_train, X_30sec_norm_val = train_test_split(X_30sec_norm_fulltrain, test_size=0.2, shuffle=True, random_state=7)\n",
    "\n",
    "X_30sec_std_fulltrain, X_30sec_std_test = train_test_split(X_30sec_std, test_size=0.1, shuffle=True, random_state=7)\n",
    "X_30sec_std_train, X_30sec_std_val = train_test_split(X_30sec_std_fulltrain, test_size=0.2, shuffle=True, random_state=7)\n",
    "\n",
    "X_3sec_fulltrain, X_3sec_test, y_3sec_fulltrain, y_3sec_test = train_test_split(X_3sec, y_3sec, test_size=0.1, shuffle=True, random_state=7)\n",
    "X_3sec_train, X_3sec_val, y_3sec_train, y_3sec_val = train_test_split(X_3sec_fulltrain, y_3sec_fulltrain, test_size=0.2, shuffle=True, random_state=7)\n",
    "\n",
    "X_3sec_norm_fulltrain, X_3sec_norm_test = train_test_split(X_3sec_norm, test_size=0.1, shuffle=True, random_state=7)\n",
    "X_3sec_norm_train, X_3sec_norm_val = train_test_split(X_3sec_norm_fulltrain, test_size=0.2, shuffle=True, random_state=7)\n",
    "\n",
    "X_3sec_std_fulltrain, X_3sec_std_test = train_test_split(X_3sec_std, test_size=0.1, shuffle=True, random_state=7)\n",
    "X_3sec_std_train, X_3sec_std_val = train_test_split(X_3sec_std_fulltrain, test_size=0.2, shuffle=True, random_state=7)"
   ]
  },
  {
   "cell_type": "markdown",
   "id": "632557ab-66dc-457d-811e-af31a4b5ca60",
   "metadata": {},
   "source": [
    "## Model Selection\n",
    "\n",
    "For Model Selection we used stratified K-Fold cross-validation with shuffling to ensure that each fold is not composed of consecutive samples. This approach helps maintain approximately the same number of samples from each genre in each fold, preventing some classes from being underrepresented.\n",
    "\n",
    "We used accuracy_score as the metric for cross-validation. When accuracy_score is selected, it evaluates the model's performance based on its accuracy.\n",
    "\n",
    "To automate the search for the best hyperparameters, we utilized GridSearchCV. This step was extremely slow, as we aimed to set hyperparameters for each model in a consistent manner.\r\n",
    "\r\n",
    "The runtime for k-fold cross-validation is proportional to (O(n \\times k)), where (n) is the sample size and (k) is the number of folds. We selected 5 folds, which reduces computational complexity but increases runtime. There is a risk of overfitting if one split performs significantly better than others. Fewer folds may result in less reliable estimates.\r\n",
    "\r\n",
    "The results were outputted in a DataFrame for easy analysis. We chose the hyperparameters for the dataset with the best accuracy among all datasets.\r\n",
    "\r\n",
    "GridSearchCV and cross-validation are computationally intensive because they systematically test multiple parameter combinations and validate performance across data subsets. During this process, the model is trained multiple times—once for each fold of cross-validation for each parameter combination.\r\n",
    "\r\n",
    "A high-dimensional parameter grid increases the number of combinations exponentially. For example, if you have 5 hyperparameters A and 5 hyperparameters B, this requires 25 (5x5) different combinations. Adding a third hyperparameter C increases this to 125 (5x5x5) combinations."
   ]
  },
  {
   "cell_type": "markdown",
   "id": "e09c6432-1b43-4359-b6a2-6e1afe5ba8d3",
   "metadata": {},
   "source": [
    "#### Hyper parameter search\n",
    "\n",
    "The hyper parameter search can take a long time, making this selection process very long. In an effort to get the best results and still have the work book be fast enough to use throughout the course of the experiment we added code that would allow pulling hyperparameter information for csv files rather than calculating it directly. \n",
    "```python\n",
    "run_hp_selection = True  #hyper parameter selection will be from GridSearchCV and cross_val_score, on all calssifiers. This will take up to 15 minutes for to find hyper parameters for the svm, knn and random forest. \n",
    "\n",
    "run_hp_selection = False #Hyper paramter information will be loaded from csvs in ../dafarame folder in the project file. "
   ]
  },
  {
   "cell_type": "code",
   "execution_count": 14,
   "id": "89b7a383-0218-4ec0-8db7-65bcd4bfb010",
   "metadata": {},
   "outputs": [],
   "source": [
    "run_hp_selection = False\n"
   ]
  },
  {
   "cell_type": "code",
   "execution_count": 15,
   "id": "efb5e714-32ce-470f-86d6-a33a23a768ad",
   "metadata": {},
   "outputs": [],
   "source": [
    "from sklearn.model_selection import cross_val_score\n",
    "from sklearn.model_selection import StratifiedKFold"
   ]
  },
  {
   "cell_type": "code",
   "execution_count": 16,
   "id": "04cb6aea-915a-4cf9-89b4-e8d8aa9d4132",
   "metadata": {},
   "outputs": [],
   "source": [
    "def girdSearchClassifier(model, features, labels, paramgrid):\n",
    "    start_time = time.time()\n",
    "    cv = StratifiedKFold(n_splits=5, random_state=0, shuffle=True)\n",
    "    classifier = GridSearchCV(model, paramgrid)\n",
    "    classifier.fit(features, labels)\n",
    "    accuracies = cross_val_score(classifier.best_estimator_, features, labels, cv=cv, \n",
    "                           scoring='accuracy')\n",
    "    accuracy = np.mean(accuracies)\n",
    "    run_time = time.time() - start_time\n",
    "\n",
    "\n",
    "    return classifier.best_estimator_, accuracy, run_time"
   ]
  },
  {
   "cell_type": "code",
   "execution_count": 17,
   "id": "2fea6121-029d-4f37-8a02-a2325084fd9d",
   "metadata": {},
   "outputs": [],
   "source": [
    "features_datasets_30sec = [\n",
    "    (X_30sec, y_30sec, \"Features 30 sec\"),\n",
    "    (X_30sec_norm, y_30sec, \"Features 30 sec norm\"),\n",
    "    (X_30sec_std, y_30sec, \"Features 30 sec std\")\n",
    "]\n",
    "\n",
    "features_datasets_3sec = [\n",
    "    (X_3sec, y_3sec, \"Features 3 sec\"),\n",
    "    (X_3sec_norm, y_3sec, \"Features 3 sec norm\"),\n",
    "    (X_3sec_std, y_3sec, \"Features 3 sec std\")\n",
    "]\n",
    "\n",
    "features_datasets = [\n",
    "    (X_30sec, y_30sec, \"Features 30 sec\"),\n",
    "    (X_30sec_norm, y_30sec, \"Features 30 sec norm\"),\n",
    "    (X_30sec_std, y_30sec, \"Features 30 sec std\"),\n",
    "    (X_3sec, y_3sec, \"Features 3 sec\"),\n",
    "    (X_3sec_norm, y_3sec, \"Features 3 sec norm\"),\n",
    "    (X_3sec_std, y_3sec, \"Features 3 sec std\")\n",
    "]"
   ]
  },
  {
   "cell_type": "markdown",
   "id": "80a72e48-78da-46e4-87c1-4a51240ec4c0",
   "metadata": {},
   "source": [
    "## Majority Classifier"
   ]
  },
  {
   "cell_type": "code",
   "execution_count": 18,
   "id": "923f13fe-b3df-417b-912c-5afa7531741e",
   "metadata": {},
   "outputs": [],
   "source": [
    "#Just a place holder if we want to do it. "
   ]
  },
  {
   "cell_type": "markdown",
   "id": "ed679947-de17-4120-8bd7-e6297157328b",
   "metadata": {},
   "source": [
    "## Nearest Neighbor \n",
    "The Nearest Neighbor classifier operates by identifying the example in the training dataset whose features most closely match those of the data point that needs to be classified. It then assigns the label of this closest example to the new data point"
   ]
  },
  {
   "cell_type": "markdown",
   "id": "8be87950-99dc-4e5b-abf2-70666ef796b9",
   "metadata": {},
   "source": [
    "#### Nearest Neighbor Hyperparameters\n",
    "\n",
    "The number of neighbors, denoted as n_neighbors, is the most critical hyperparameter in the Nearest Neighbor classifier. It determines how many neighbors are considered when making a prediction.\r\n",
    "\r\n",
    "The performance of the nearest neighbor classifier can be enhanced by basing the classification on multiple neighbors. For this testing, we are using the k-Nearest Neighbors (k-NN) classifier, which compares the (k) nearest neighbors to make a decision.\n",
    "\n",
    "\n",
    "#### Nearest Neighbor Running Time\n",
    "The heares neighbor classifier has a running time of $O(N * d)$ where n is the number of training examples and d is the number of dimensions in the dataset"
   ]
  },
  {
   "cell_type": "code",
   "execution_count": 19,
   "id": "0f09c880-b8d1-4437-98de-4988901bbb54",
   "metadata": {},
   "outputs": [],
   "source": [
    "from sklearn.neighbors import KNeighborsClassifier\n",
    "\n",
    "def testKNN(features, labels, paramgrid, valFeatures, valLabels):\n",
    "\n",
    "    model = KNeighborsClassifier()\n",
    "    best_estimator, accuracy, run_time = girdSearchClassifier(model, features, labels, paramgrid)\n",
    "    y_pred = best_estimator.predict(valFeatures)\n",
    "    val_accuracy = np.mean(y_pred == valLabels)\n",
    "    \n",
    "    return best_estimator.get_params()['n_neighbors'], accuracy, val_accuracy, run_time\n",
    "    "
   ]
  },
  {
   "cell_type": "code",
   "execution_count": 20,
   "id": "a5997508-ef77-4ea6-871b-620020e68738",
   "metadata": {},
   "outputs": [
    {
     "name": "stdout",
     "output_type": "stream",
     "text": [
      "Skipping HP Selection for knn\n"
     ]
    }
   ],
   "source": [
    "knn_param_grid = {\n",
    "    'n_neighbors': [1,2,4,8,16,32,64,128, 256, 512]\n",
    "}\n",
    "\n",
    "if run_hp_selection:\n",
    "    print(\"knn run csv 30sec\")\n",
    "    knn_csv30sec_best_estimator, knn_csv30sec_accuracy, knn_csv30sec_val_accuracy, knn_csv30sec_time = testKNN(X_30sec_train, y_30sec_train, knn_param_grid, X_30sec_val, y_30sec_val)\n",
    "\n",
    "    print(\"knn run csv 30sec norm\")\n",
    "    knn_csv30sec_norm_best_estimator, knn_csv30sec_norm_accuracy, knn_csv30sec_norm_val_accuracy, knn_csv30sec_norm_time = testKNN(X_30sec_norm_train, y_30sec_train, knn_param_grid, X_30sec_norm_val, y_30sec_val)\n",
    "\n",
    "    print(\"knn run csv 30sec std\")\n",
    "    knn_csv30sec_std_best_estimator, knn_csv30sec_std_accuracy, knn_csv30sec_std_val_accuracy, knn_csv30sec_std_time = testKNN(X_30sec_std_train, y_30sec_train, knn_param_grid, X_30sec_std_val, y_30sec_val)\n",
    "\n",
    "    print(\"knn run csv 3sec\")\n",
    "    knn_csv3sec_best_estimator, knn_csv3sec_accuracy, knn_csv3sec_val_accuracy, knn_csv3sec_time = testKNN(X_3sec_train, y_3sec_train, knn_param_grid, X_3sec_val, y_3sec_val)\n",
    "\n",
    "    print(\"knn run csv 3sec norm\")\n",
    "    knn_csv3sec_norm_best_estimator, knn_csv3sec_norm_accuracy, knn_csv3sec_norm_val_accuracy, knn_csv3sec_norm_time = testKNN(X_3sec_norm_train, y_3sec_train, knn_param_grid, X_3sec_norm_val, y_3sec_val)\n",
    "\n",
    "    print(\"knn run csv 3sec std\")\n",
    "    knn_csv3sec_std_best_estimator, knn_csv3sec_std_accuracy, knn_csv3sec_std_val_accuracy, knn_csv3sec_std_time = testKNN(X_3sec_std_train, y_3sec_train, knn_param_grid, X_3sec_std_val, y_3sec_val)\n",
    "else:\n",
    "    print(\"Skipping HP Selection for knn\")\n",
    "    "
   ]
  },
  {
   "cell_type": "code",
   "execution_count": 21,
   "id": "a023741d-a77b-423d-9e50-21de1adcc9c1",
   "metadata": {},
   "outputs": [
    {
     "name": "stdout",
     "output_type": "stream",
     "text": [
      "loading df from ../dataframes/knndf.csv\n"
     ]
    },
    {
     "data": {
      "text/html": [
       "<div>\n",
       "<style scoped>\n",
       "    .dataframe tbody tr th:only-of-type {\n",
       "        vertical-align: middle;\n",
       "    }\n",
       "\n",
       "    .dataframe tbody tr th {\n",
       "        vertical-align: top;\n",
       "    }\n",
       "\n",
       "    .dataframe thead th {\n",
       "        text-align: right;\n",
       "    }\n",
       "</style>\n",
       "<table border=\"1\" class=\"dataframe\">\n",
       "  <thead>\n",
       "    <tr style=\"text-align: right;\">\n",
       "      <th></th>\n",
       "      <th>Dataset</th>\n",
       "      <th>Best n_neighbors</th>\n",
       "      <th>Accuracy</th>\n",
       "      <th>Validation Set Accuracy</th>\n",
       "      <th>Run Time</th>\n",
       "    </tr>\n",
       "  </thead>\n",
       "  <tbody>\n",
       "    <tr>\n",
       "      <th>0</th>\n",
       "      <td>Features 30 sec</td>\n",
       "      <td>16</td>\n",
       "      <td>0.292000</td>\n",
       "      <td>1.855467</td>\n",
       "    </tr>\n",
       "    <tr>\n",
       "      <th>1</th>\n",
       "      <td>Features 30 sec norm</td>\n",
       "      <td>8</td>\n",
       "      <td>0.673000</td>\n",
       "      <td>1.487725</td>\n",
       "    </tr>\n",
       "    <tr>\n",
       "      <th>2</th>\n",
       "      <td>Features 30 sec std</td>\n",
       "      <td>8</td>\n",
       "      <td>0.672000</td>\n",
       "      <td>1.513050</td>\n",
       "    </tr>\n",
       "    <tr>\n",
       "      <th>3</th>\n",
       "      <td>Features 3 sec</td>\n",
       "      <td>256</td>\n",
       "      <td>0.288789</td>\n",
       "      <td>12.041188</td>\n",
       "    </tr>\n",
       "    <tr>\n",
       "      <th>4</th>\n",
       "      <td>Features 3 sec norm</td>\n",
       "      <td>8</td>\n",
       "      <td>0.883784</td>\n",
       "      <td>10.810397</td>\n",
       "    </tr>\n",
       "    <tr>\n",
       "      <th>5</th>\n",
       "      <td>Features 3 sec std</td>\n",
       "      <td>8</td>\n",
       "      <td>0.866266</td>\n",
       "      <td>10.884346</td>\n",
       "    </tr>\n",
       "  </tbody>\n",
       "</table>\n",
       "</div>"
      ],
      "text/plain": [
       "                Dataset  Best n_neighbors  Accuracy   Run Time\n",
       "0       Features 30 sec                16  0.292000   1.855467\n",
       "1  Features 30 sec norm                 8  0.673000   1.487725\n",
       "2   Features 30 sec std                 8  0.672000   1.513050\n",
       "3        Features 3 sec               256  0.288789  12.041188\n",
       "4   Features 3 sec norm                 8  0.883784  10.810397\n",
       "5    Features 3 sec std                 8  0.866266  10.884346"
      ]
     },
     "execution_count": 21,
     "metadata": {},
     "output_type": "execute_result"
    }
   ],
   "source": [
    "knndf_filepath = \"../dataframes/knndf.csv\"\n",
    "if run_hp_selection:\n",
    "    knndf = pd.DataFrame({\n",
    "        \"Dataset\": [\"Features 30 sec\", \"Features 30 sec norm\", \"Features 30 sec std\", \"Features 3 sec\", \"Features 3 sec norm\", \"Features 3 sec std\"],\n",
    "        \"Best n_neighbors\": [\n",
    "            knn_csv30sec_best_estimator,\n",
    "            knn_csv30sec_norm_best_estimator,\n",
    "            knn_csv30sec_std_best_estimator,\n",
    "            knn_csv3sec_best_estimator,\n",
    "            knn_csv3sec_norm_best_estimator,\n",
    "            knn_csv3sec_std_best_estimator\n",
    "        ],\n",
    "        \"Accuracy\": [\n",
    "            knn_csv30sec_accuracy,\n",
    "            knn_csv30sec_norm_accuracy,\n",
    "            knn_csv30sec_std_accuracy,\n",
    "            knn_csv3sec_accuracy,\n",
    "            knn_csv3sec_norm_accuracy,\n",
    "            knn_csv3sec_std_accuracy\n",
    "        ],\n",
    "        \"Validation Set Accuracy\": [\n",
    "            knn_csv30sec_val_accuracy,\n",
    "            knn_csv30sec_norm_val_accuracy,\n",
    "            knn_csv30sec_std_val_accuracy,\n",
    "            knn_csv3sec_val_accuracy,\n",
    "            knn_csv3sec_norm_val_accuracy,\n",
    "            knn_csv3sec_std_val_accuracy\n",
    "        ],\n",
    "        \"Run Time\": [\n",
    "            knn_csv30sec_time,\n",
    "            knn_csv30sec_norm_time,\n",
    "            knn_csv30sec_std_time,\n",
    "            knn_csv3sec_time,\n",
    "            knn_csv3sec_norm_time,\n",
    "            knn_csv3sec_std_time\n",
    "        ]\n",
    "    })\n",
    "\n",
    "    knndf.to_csv(knndf_filepath, index=False)\n",
    "    print(\"saved df to\", knndf_filepath)\n",
    "else:\n",
    "    knndf = pd.read_csv(knndf_filepath)\n",
    "    print(\"loading df from\", knndf_filepath)\n",
    "\n",
    "knndf"
   ]
  },
  {
   "cell_type": "code",
   "execution_count": 22,
   "id": "628aa7eb-cc01-485d-b4e2-1e748ebc14a8",
   "metadata": {},
   "outputs": [],
   "source": [
    "knn_hp_avg_accuracy = knndf[\"Accuracy\"].mean()\n",
    "knn_avg_runtime = knndf[\"Run Time\"].mean()\n",
    "\n",
    "knn_n_hyperparameters = 10"
   ]
  },
  {
   "cell_type": "markdown",
   "id": "d9518009-d5ac-4a6e-afa6-b966672dfad0",
   "metadata": {},
   "source": [
    "The results indicate that using 8 neighbors in the k-Nearest Neighbors (k-NN) classifier yielded the best performance on the larger dataset, achieving the highest accuracy A smaller (k) can lead to a model that is sensitive to noise in the data and may overfit, while a larger (k) can smooth out the decision boundary too much, potentially missing important patterns which may result in under fitting. The choice of 8 neighbors for the k-NN classifier provided the best accuracy on the larger dataset by effectively balancing the trade-off between bias and variance.  \n",
    "\n",
    "The performance of k-NN improved when it was run on normalized and standardized data. This may be due to the algorithm's reliance on distance calculations. Scaling ensures that all features contribute equally to these calculations, preventing any single feature from disproportionately influencing the results. This leads to more accurate identification of nearest neighbors and better overall model performance.\n"
   ]
  },
  {
   "cell_type": "markdown",
   "id": "11292423-e20e-40c5-9613-7e4eb213dfe9",
   "metadata": {},
   "source": [
    "## SVM\n",
    "\n",
    "The SVM or Support Vector Machine (SVM) is a supervised machine learning algorithm used for classification and regression tasks. It is typically used for binary classification problems, where the goal is to separate data points into two distinct classes. In SVM, the algorithm finds the optimal hyperplane that separates the data points of different classes. In a two-dimensional space, this hyperplane is a line, while in higher dimensions, it becomes a plane or a hyperplane\n",
    "\n",
    "For this experiment we ran two different SVM models. The first was a svm with a linear kernal and tested for the optimal C paramater. We also tested the rbf kernel and looked for the optimal c and gamma parameters. \n",
    "\n",
    "- C Parameter: The C parameter is a regularization parameter that controls the trade-off between achieving a low training error and a low testing error. A large value of C aims to classify all training examples correctly, which might lead to overfitting. Conversely, a small value of C allows for a larger margin, potentially at the cost of some misclassifications, which may result in under fitting.\n",
    "- Gamma Parameter: In the RBF kernel, the gamma parameter defines the influence of a single training example. A low gamma value means a large influence (far-reaching), resulting in a smoother decision boundary. A high gamma value means a small influence (close), leading to a more complex decision boundary that can adapt to the training data but may result in over fitting.\n",
    "\n",
    "Linear Kernel: In a Llinear kernelthe  decision boundary is a hyperplane in the feature space. This means it separates data points from different classes in a linear fashio. They are most effective indata that is seperated by a straightline in 2d data or a plan in higher dimensions. \n",
    "\n",
    "RBF Kernel: In a RBF Kernel the decision boundry allows s for more complex decision boundaries. These can be curves, circles, or more intricate shape. The RBF Kernel is also known as a Gaussian kernelsn"
   ]
  },
  {
   "cell_type": "code",
   "execution_count": 23,
   "id": "61ebc0d8-5604-4271-9680-6a6ae1551d0e",
   "metadata": {},
   "outputs": [],
   "source": [
    "from sklearn import svm\n",
    "from sklearn.preprocessing import StandardScaler\n",
    "\n",
    "def testSVM(features, labels, paramgrid, valFeatures, valLabels):\n",
    "    X_standard_scaler = StandardScaler().fit(features)\n",
    "    features = X_standard_scaler.transform(features)\n",
    "    model = svm.SVC()\n",
    "    best_estimator, accuracy, run_time = girdSearchClassifier(model, features, labels, paramgrid)\n",
    "    y_pred = best_estimator.predict(valFeatures)\n",
    "    val_accuracy = np.mean(y_pred == valLabels)\n",
    "    \n",
    "    return best_estimator.get_params()['C'], best_estimator.get_params()['gamma'], accuracy, val_accuracy, run_time"
   ]
  },
  {
   "cell_type": "markdown",
   "id": "279672f4-a1bc-45f7-9cde-0edd01bdcf05",
   "metadata": {},
   "source": [
    "### Features 3 seconds to large a dataset. Quadratic run time for larger data sets. \n",
    "\n",
    "\n"
   ]
  },
  {
   "cell_type": "markdown",
   "id": "b9fcae82-17d4-4ebd-bac3-f92ba48a0c18",
   "metadata": {},
   "source": [
    "The computational complexity of SVM is between $On^2$ and $O(n^3)$ for training. This became computational expensive for this experiment. When combined with the kfold cross vaildation and gridsearch cv this became extreemly slow for the 10,000 example dataset with 3 seconds songs. Becuase of this we only examined the 1000 example 30 second data set. Below is an example of the exponential increase in training time based on the number of examples. "
   ]
  },
  {
   "cell_type": "code",
   "execution_count": 24,
   "id": "5d2d1e87-5841-4a4c-84a3-b6e4324e22f5",
   "metadata": {},
   "outputs": [
    {
     "name": "stdout",
     "output_type": "stream",
     "text": [
      "Using Stored Data\n"
     ]
    },
    {
     "data": {
      "image/png": "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",
      "text/plain": [
       "<Figure size 720x432 with 1 Axes>"
      ]
     },
     "metadata": {
      "needs_background": "light"
     },
     "output_type": "display_data"
    }
   ],
   "source": [
    "\n",
    "sizes = [100, 250, 500, 1000, 2500, 5000, 9000]\n",
    "\n",
    "linear_runtimes = []\n",
    "rbf_runtimes = []\n",
    "\n",
    "if run_hp_selection:\n",
    "    print(\"testing SVM run time on large datasets\")\n",
    "    X_train, X_test, y_train, y_test = train_test_split(X_3sec, y_3sec, test_size = 0.01, random_state = 1)\n",
    "\n",
    "\n",
    "    X_standard_scaler = StandardScaler().fit(X_train)\n",
    "    X_train = X_standard_scaler.transform(X_train)\n",
    "    for s in sizes:\n",
    "        start_time = time.time()\n",
    "        classifier = svm.SVC(C = 10, kernel='linear')\n",
    "        classifier.fit(X_train[:s], y_train[:s])\n",
    "        run_time = time.time() - start_time\n",
    "        linear_runtimes.append(run_time)\n",
    "\n",
    "    for s in sizes:\n",
    "        start_time = time.time()\n",
    "        classifier = svm.SVC(C = 10, gamma = .1, kernel='rbf')\n",
    "        classifier.fit(X_train[:s], y_train[:s])\n",
    "        run_time = time.time() - start_time\n",
    "        rbf_runtimes.append(run_time)\n",
    "    print(linear_runtimes)\n",
    "    print(rbf_runtimes)\n",
    "else:\n",
    "    print(\"Using Stored Data\")\n",
    "    linear_runtimes = [0.009013891220092773, 0.018990516662597656, 0.06360721588134766, 0.5105199813842773, 7.82561731338501, 25.664602994918823, 62.62019658088684]\n",
    "    rbf_runtimes = [0.00614476203918457, 0.018990278244018555, 0.07757711410522461, 0.3017876148223877, 1.5457541942596436, 5.705511093139648, 21.184448957443237]\n",
    "    \n",
    "np_linear_runtimes = np.array(linear_runtimes)\n",
    "np_rbf_runtimes = np.array(rbf_runtimes)\n",
    "\n",
    "plt.figure(figsize=(10, 6))\n",
    "plt.scatter(sizes, np_linear_runtimes, label = 'linear SVM')\n",
    "plt.scatter(sizes, np_rbf_runtimes, label = 'rbf SVM')\n",
    "plt.xlabel('training set size')\n",
    "plt.ylabel('time to run grid search')\n",
    "plt.legend()\n",
    "plt.show()"
   ]
  },
  {
   "cell_type": "markdown",
   "id": "68a83674-3fc4-4714-890e-90a25a004c3d",
   "metadata": {},
   "source": [
    "Gammas Tested: Small gamma means each datapoint has a small influence, and a large gamma means each datapoint has a large influence. if gamma='scale' (default) is passed then it uses 1 / (n_features * X.var()) as value of gamma. If auto is used it uses if ‘auto’, uses 1 / n_features for the value of gamma.   \n",
    "\n",
    "C: Used high C values to attempt to classify each training example which may lead to overfitting. We also tested low c values which allows for some miscalssifications but reduces the risk of overfitting. "
   ]
  },
  {
   "cell_type": "code",
   "execution_count": 25,
   "id": "0257912d-ce3d-466d-99bd-4126e3fd00eb",
   "metadata": {},
   "outputs": [
    {
     "name": "stdout",
     "output_type": "stream",
     "text": [
      "Skipping HP Selection for svm\n"
     ]
    }
   ],
   "source": [
    "gammas = [.001, .01, 1, 10, 100, 'auto', 'scale']\n",
    "Cs = [ .01, .1, 1, 10, 100]\n",
    "\n",
    "rbf_svm_param_grid = [\n",
    "  {'C': Cs, \n",
    "   'gamma': gammas, \n",
    "   'kernel': ['rbf']},\n",
    " ]\n",
    "linear_svm_param_grid = [\n",
    "  {'C': Cs, \n",
    "   'kernel': ['linear']},\n",
    " ]\n",
    "if run_hp_selection:\n",
    "    print(\"run csv 30sec\")\n",
    "    rbf_svm_csv30sec_best_estimator_c, rbf_svm_csv30sec_best_estimator_gamma, rbf_svm_csv30sec_accuracy, rbf_svm_csv30sec_val_accuracy, rbf_svm_csv30sec_time = testSVM(\n",
    "        X_30sec_train, y_30sec_train, rbf_svm_param_grid, X_30sec_val, y_30sec_val)\n",
    "\n",
    "    print(\"run csv 30sec norm\")\n",
    "    rbf_svm_csv30sec_norm_best_estimator_c, rbf_svm_csv30sec_norm_best_estimator_gamma, rbf_svm_csv30sec_norm_accuracy, rbf_svm_csv30sec_norm_val_accuracy, rbf_svm_csv30sec_norm_time = testSVM(\n",
    "        X_30sec_norm_train, y_30sec_train, rbf_svm_param_grid, X_30sec_norm_train, y_30sec_train)\n",
    "\n",
    "    print(\"run csv 30sec std\")\n",
    "    rbf_svm_csv30sec_std_best_estimator_c, rbf_svm_csv30sec_std_best_estimator_gamma, rbf_svm_csv30sec_std_accuracy, rbf_svm_csv30sec_std_val_accuracy, rbf_svm_csv30sec_std_time = testSVM(\n",
    "        X_30sec_std_train, y_30sec_train, rbf_svm_param_grid, X_30sec_std_val, y_30sec_val)\n",
    "\n",
    "    print(\"run csv 3sec\")\n",
    "    rbf_svm_csv3sec_best_estimator_c, rbf_svm_csv3sec_best_estimator_gamma, rbf_svm_csv3sec_accuracy, rbf_svm_csv3sec_val_accuracy, rbf_svm_csv3sec_time = testSVM(\n",
    "        X_3sec_train, y_3sec_train, rbf_svm_param_grid, X_3sec_val, y_3sec_val)\n",
    "\n",
    "    print(\"run csv 3sec norm\")\n",
    "    rbf_svm_csv3sec_norm_best_estimator_c, rbf_svm_csv3sec_norm_best_estimator_gamma, rbf_svm_csv3sec_norm_accuracy, rbf_svm_csv3sec_norm_val_accuracy, rbf_svm_csv3sec_norm_time = testSVM(\n",
    "        X_3sec_norm_train, y_3sec_train, rbf_svm_param_grid, X_3sec_norm_val, y_3sec_val)\n",
    "\n",
    "    print(\"run csv 3sec std\")\n",
    "    rbf_svm_csv3sec_std_best_estimator_c, rbf_svm_csv3sec_std_best_estimator_gamma, rbf_svm_csv3sec_std_accuracy, rbf_svm_csv3sec_std_val_accuracy, rbf_svm_csv3sec_std_time = testSVM(\n",
    "        X_3sec_std_train, y_3sec_train, rbf_svm_param_grid, X_3sec_std_val, y_3sec_val)\n",
    "\n",
    "    print(\"run csv 30sec linear\")\n",
    "    svm_csv30sec_best_estimator_c, svm_csv30sec_best_estimator_gamma, svm_csv30sec_accuracy, svm_csv30sec_val_accuracy, svm_csv30sec_time = testSVM(\n",
    "        X_30sec_train, y_30sec_train, linear_svm_param_grid, X_30sec_val, y_30sec_val)\n",
    "\n",
    "    print(\"run csv 30sec norm linear\")\n",
    "    svm_csv30sec_norm_best_estimator_c, svm_csv30sec_norm_best_estimator_gamma, svm_csv30sec_norm_accuracy, svm_csv30sec_norm_val_accuracy, svm_csv30sec_norm_time = testSVM(\n",
    "        X_30sec_norm_train, y_30sec_train, linear_svm_param_grid, X_30sec_norm_val, y_30sec_val)\n",
    "\n",
    "    print(\"run csv 30sec std linear\")\n",
    "    svm_csv30sec_std_best_estimator_c, svm_csv30sec_std_best_estimator_gamma, svm_csv30sec_std_accuracy, svm_csv30sec_std_val_accuracy, svm_csv30sec_std_time = testSVM(\n",
    "        X_30sec_std_train, y_30sec_train, linear_svm_param_grid, X_30sec_std_val, y_30sec_val)\n",
    "\n",
    "    print(\"run csv 3sec linear\")\n",
    "    svm_csv3sec_best_estimator_c, svm_csv3sec_best_estimator_gamma, svm_csv3sec_accuracy, svm_csv3sec_val_accuracy, svm_csv3sec_time = testSVM(\n",
    "        X_3sec_train, y_3sec_train, linear_svm_param_grid, X_3sec_val, y_3sec_val)\n",
    "\n",
    "    print(\"run csv 3sec norm linear\")\n",
    "    svm_csv3sec_norm_best_estimator_c, svm_csv3sec_norm_best_estimator_gamma, svm_csv3sec_norm_accuracy, svm_csv3sec_norm_val_accuracy, svm_csv3sec_norm_time = testSVM(\n",
    "        X_3sec_norm_train, y_3sec_train, linear_svm_param_grid, X_3sec_norm_val, y_3sec_val)\n",
    "\n",
    "    print(\"run csv 3sec std linear\")\n",
    "    svm_csv3sec_std_best_estimator_c, svm_csv3sec_std_best_estimator_gamma, svm_csv3sec_std_accuracy, svm_csv3sec_std_val_accuracy, svm_csv3sec_std_time = testSVM(\n",
    "        X_3sec_std_train, y_3sec_train, linear_svm_param_grid, X_3sec_std_val, y_3sec_val)"
    "else:\n",
    "    print(\"Skipping HP Selection for svm\")"
   ]
  },
  {
   "cell_type": "code",
   "execution_count": 26,
   "id": "ddb67b0a-a76e-4ee8-ab32-ccc649fd9757",
   "metadata": {},
   "outputs": [
    {
     "name": "stdout",
     "output_type": "stream",
     "text": [
      "loading df from ../dataframes/svmdf.csv\n"
     ]
    },
    {
     "data": {
      "text/html": [
       "<div>\n",
       "<style scoped>\n",
       "    .dataframe tbody tr th:only-of-type {\n",
       "        vertical-align: middle;\n",
       "    }\n",
       "\n",
       "    .dataframe tbody tr th {\n",
       "        vertical-align: top;\n",
       "    }\n",
       "\n",
       "    .dataframe thead th {\n",
       "        text-align: right;\n",
       "    }\n",
       "</style>\n",
       "<table border=\"1\" class=\"dataframe\">\n",
       "  <thead>\n",
       "    <tr style=\"text-align: right;\">\n",
       "      <th></th>\n",
       "      <th>Dataset</th>\n",
       "      <th>Kernal</th>\n",
       "      <th>Best C</th>\n",
       "      <th>Best gamma</th>\n",
       "      <th>Accuracy</th>\n",
       "      <th>Validation Set Accuracy</th>\n",
       "      <th>Run Time</th>\n",
       "    </tr>\n",
       "  </thead>\n",
       "  <tbody>\n",
       "    <tr>\n",
       "      <th>0</th>\n",
       "      <td>Features 30 sec</td>\n",
       "      <td>rbf</td>\n",
       "      <td>10.0</td>\n",
       "      <td>0.01</td>\n",
       "      <td>0.750</td>\n",
       "      <td>35.805319</td>\n",
       "    </tr>\n",
       "    <tr>\n",
       "      <th>1</th>\n",
       "      <td>Features 30 sec norm</td>\n",
       "      <td>rbf</td>\n",
       "      <td>10.0</td>\n",
       "      <td>0.01</td>\n",
       "      <td>0.750</td>\n",
       "      <td>37.103997</td>\n",
       "    </tr>\n",
       "    <tr>\n",
       "      <th>2</th>\n",
       "      <td>Features 30 sec std</td>\n",
       "      <td>rbf</td>\n",
       "      <td>10.0</td>\n",
       "      <td>0.01</td>\n",
       "      <td>0.750</td>\n",
       "      <td>37.758363</td>\n",
       "    </tr>\n",
       "    <tr>\n",
       "      <th>3</th>\n",
       "      <td>Features 3 sec</td>\n",
       "      <td>rbf</td>\n",
       "      <td>100.0</td>\n",
       "      <td>scale</td>\n",
       "      <td>0.904278</td>\n",
       "      <td>0.100100</td>\n",
       "      <td>280.946025</td>\n",
       "    </tr>\n",
       "    <tr>\n",
       "      <th>4</th>\n",
       "      <td>Features 3 sec norm</td>\n",
       "      <td>rbf</td>\n",
       "      <td>100.0</td>\n",
       "      <td>scale</td>\n",
       "      <td>0.904278</td>\n",
       "      <td>0.111111</td>\n",
       "      <td>281.077411</td>\n",
       "    </tr>\n",
       "    <tr>\n",
       "      <th>5</th>\n",
       "      <td>Features 3 sec std</td>\n",
       "      <td>rbf</td>\n",
       "      <td>100.0</td>\n",
       "      <td>scale</td>\n",
       "      <td>0.904278</td>\n",
       "      <td>0.915916</td>\n",
       "      <td>281.306002</td>\n",
       "    </tr>\n",
       "    <tr>\n",
       "      <th>6</th>\n",
       "      <td>Features 30 sec</td>\n",
       "      <td>linear</td>\n",
       "      <td>0.1</td>\n",
       "      <td>na</td>\n",
       "      <td>0.725</td>\n",
       "      <td>3.496420</td>\n",
       "    </tr>\n",
       "    <tr>\n",
       "      <th>7</th>\n",
       "      <td>Features 30 sec norm</td>\n",
       "      <td>linear</td>\n",
       "      <td>0.1</td>\n",
       "      <td>na</td>\n",
       "      <td>0.725</td>\n",
       "      <td>3.495232</td>\n",
       "    </tr>\n",
       "    <tr>\n",
       "      <th>8</th>\n",
       "      <td>Features 30 sec std</td>\n",
       "      <td>linear</td>\n",
       "      <td>0.1</td>\n",
       "      <td>na</td>\n",
       "      <td>0.725</td>\n",
       "      <td>3.518454</td>\n",
       "    </tr>\n",
       "  </tbody>\n",
       "</table>\n",
       "</div>"
      ],
      "text/plain": [
       "                Dataset  Kernal  Best C Best gamma  Accuracy   Run Time\n",
       "0       Features 30 sec     rbf    10.0       0.01     0.750  35.805319\n",
       "1  Features 30 sec norm     rbf    10.0       0.01     0.750  37.103997\n",
       "2   Features 30 sec std     rbf    10.0       0.01     0.750  37.758363\n",
       "3       Features 30 sec  linear     0.1         na     0.725   3.496420\n",
       "4  Features 30 sec norm  linear     0.1         na     0.725   3.495232\n",
       "5   Features 30 sec std  linear     0.1         na     0.725   3.518454"
      ]
     },
     "execution_count": 26,
     "metadata": {},
     "output_type": "execute_result"
    }
   ],
   "source": [
    "svmdf_filepath = \"../dataframes/svmdf.csv\"\n",
    "\n",
    "if run_hp_selection:\n",
    "    svmdf = pd.DataFrame({\n",
    "        \"Dataset\": [\"Features 30 sec\", \"Features 30 sec norm\", \"Features 30 sec std\", \"Features 3 sec\", \"Features 3 sec norm\", \"Features 3 sec std\", \"Features 30 sec\", \"Features 30 sec norm\", \"Features 30 sec std\", \"Features 3 sec\", \"Features 3 sec norm\", \"Features 3 sec std\",],\n",
    "        \"Kernal\": [\"rbf\", \"rbf\", \"rbf\", \"rbf\", \"rbf\", \"rbf\", \"linear\", \"linear\", \"linear\, \"linear\", \"linear\", \"linear\"],\n",
    "        \"Best C\": [\n",
    "            rbf_svm_csv30sec_best_estimator_c,\n",
    "            rbf_svm_csv30sec_norm_best_estimator_c,\n",
    "            rbf_svm_csv30sec_std_best_estimator_c,\n",
    "            rbf_svm_csv3sec_best_estimator_c,\n",
    "            rbf_svm_csv3sec_norm_best_estimator_c,\n",
    "            rbf_svm_csv3sec_std_best_estimator_c,\n",
    "            svm_csv30sec_best_estimator_c,\n",
    "            svm_csv30sec_norm_best_estimator_c,\n",
    "            svm_csv30sec_std_best_estimator_c\n",
    "            svm_csv3sec_best_estimator_c,\n",
    "            svm_csv3sec_norm_best_estimator_c,\n",
    "            svm_csv3sec_std_best_estimator_c\n",
    "        ],\n",
    "        \"Best gamma\": [\n",
    "            rbf_svm_csv30sec_best_estimator_gamma,\n",
    "            rbf_svm_csv30sec_norm_best_estimator_gamma,\n",
    "            rbf_svm_csv30sec_std_best_estimator_gamma,\n",
    "            rbf_svm_csv3sec_best_estimator_gamma,\n",
    "            rbf_svm_csv3sec_norm_best_estimator_gamma,\n",
    "            rbf_svm_csv3sec_std_best_estimator_gamma,\n",
    "            'na',  #svm_csv30sec_best_estimator_gamma ,\n",
    "            'na',  #svm_csv30sec_norm_best_estimator_gamma = 'na',\n",
    "            'na'   #svm_csv30sec_std_best_estimator_gamma = 'na'\n",
    "            'na',\n",
    "            'na',\n",
    "            'na'\n",
    "        ],\n",
    "        \"Accuracy\": [\n",
    "            rbf_svm_csv30sec_accuracy,\n",
    "            rbf_svm_csv30sec_norm_accuracy,\n",
    "            rbf_svm_csv30sec_std_accuracy,\n",
    "            rbf_svm_csv3sec_accuracy,\n",
    "            rbf_svm_csv3sec_norm_accuracy,\n",
    "            rbf_svm_csv3sec_std_accuracy,\n",
    "            svm_csv30sec_accuracy,\n",
    "            svm_csv30sec_norm_accuracy,\n",
    "            svm_csv30sec_std_accuracy\n",
    "            svm_csv3sec_accuracy,\n",
    "            svm_csv3sec_norm_accuracy,\n",
    "            svm_csv3sec_std_accuracy\n",
    "        ],\n",
    "        \"Run Time\": [\n",
    "            rbf_svm_csv30sec_time,\n",
    "            rbf_svm_csv30sec_norm_time,\n",
    "            rbf_svm_csv30sec_std_time,\n",
    "            rbf_svm_csv3sec_time,\n",
    "            rbf_svm_csv3sec_norm_time,\n",
    "            rbf_svm_csv3sec_std_time,\n",
    "            svm_csv30sec_time,\n",
    "            svm_csv30sec_norm_time,\n",
    "            svm_csv30sec_std_time\n",
    "            svm_csv3sec_time,\n",
    "            svm_csv3sec_norm_time,\n",
    "            svm_csv3sec_std_time\n",
    "        ]\n",
    "    })\n",
    "    svmdf.to_csv(svmdf_filepath, index=False)\n",
    "    print(\"saved df to\", svmdf_filepath)\n",
    "else:\n",
    "    svmdf = pd.read_csv(svmdf_filepath)\n",
    "    print(\"loading df from\", svmdf_filepath)\n",
    "    \n",
    "svmdf"
   ]
  },
  {
   "cell_type": "code",
   "execution_count": 27,
   "id": "5cea132a-fec1-4618-8778-2b6651da61ce",
   "metadata": {},
   "outputs": [],
   "source": [
    "svm_hp_avg_accuracy = svmdf[\"Accuracy\"].mean()\n",
    "svm_hp_avg_run_time = svmdf[\"Run Time\"].mean()\n",
    "\n",
    "svm_n_hyperparameters_c = 5\n",
    "svm_n_hyperparameters_gamma = 7"
   ]
  },
  {
   "cell_type": "markdown",
   "id": "62469afd-ee30-4bbe-b692-179c03b384ff",
   "metadata": {},
   "source": [
    "The choice of (C = 10) and (\\gamma = 0.01) for your SVM model with the RBF kernel provided the best results by effectively balancing the complexity of the decision boundary with the need to generalize well to new data. It is impoortant to note that for this dataset we only used the 30second features and not 3 second due to the exmponential increases when using the 3 second set. \n",
    "\n",
    "The accuracy was the same acros all datasets when using the same kerenl. This was due to the use of the SandardScaler which alwayse standardizes features by removing the mean and scaling to unit variance. It transforms the data so that it has a mean of 0 and a standard deviation of 1. This is particularly useful when the features have different units or variances"
   ]
  },
  {
   "cell_type": "markdown",
   "id": "a6676ab1-6a84-4daf-be20-4626ee12890d",
   "metadata": {},
   "source": [
    "## Random Forest \n",
    "\n",
    "A Random Forest Classifier is a supervised machine learning algorithm that is used for both classification and regression tasks. For this experiment we used it as a classifier.  It operates by constructing a multitude of decision trees during training and outputting the mode of the classes (classification) or mean prediction (regression) of the individual trees. Random Forest is known for its high accuracy and robustness, especially in classification tasks. It reduces the risk of overfitting by averaging the results of multiple trees, which lowers the variance and prediction error.\n",
    "\n",
    "While Random Forest is generally efficient, it can be computationally intensive with a large number of trees, which may slow down predictions. The algorithm can require significant memory, especially with large datasets and many trees"
   ]
  },
  {
   "cell_type": "code",
   "execution_count": 28,
   "id": "abc764f5-8a60-404f-8083-fce7d3373144",
   "metadata": {},
   "outputs": [],
   "source": [
    "from sklearn.tree import DecisionTreeClassifier\n",
    "from sklearn.ensemble import RandomForestClassifier\n",
    "\n",
    "def testRandomForest(features, labels, paramgrid, valFeatures, valLabels):\n",
    "    \n",
    "    model = RandomForestClassifier()\n",
    "    best_estimator, accuracy, run_time = girdSearchClassifier(model, features, labels, paramgrid)\n",
    "    y_pred = best_estimator.predict(valFeatures)\n",
    "    val_accuracy = np.mean(y_pred == valLabels)\n",
    "    \n",
    "    return best_estimator.get_params()['n_estimators'], best_estimator.get_params()['max_depth'], best_estimator.get_params()['bootstrap'], accuracy, val_accuracy, run_time"
   ]
  },
  {
   "cell_type": "markdown",
   "id": "710a8ab9-0101-4ca5-b112-aba140765c5b",
   "metadata": {},
   "source": [
    "#### Random Forest Parameters \n",
    "\n",
    "n-estimators: specifies the number of decision trees in the random forest. increasing the number of trees improves the model's performance because it reduces variance and helps the model generalize better. However, after a certain point, adding more trees yields diminishing returns in terms of accuracy and increases computational cost\n",
    "\n",
    "max_depth: determines the maximum depth of each tree in the forest A deeper tree can capture more information about the data, but it can also lead to overfitting if the depth is too high. Conversely, a shallow tree might underfit the data. A max depth of n allows all the trees to grow until all leaves are pur or until they contain fewer than min_samples_split. We used default min sample split of 2. This was primirly to keep the complexity of the hyper parameter selection to a reasonalble speed for this experiment.\n",
    "\n",
    "bootstrap: Determines weahter whether bootstrap samples are used when building trees. When bootstrapping the next classifier tree will attempt to focus on training examples that were miss classified. It can ensures diversity among trees by using random subsets of data, which helps in reducing overfitting."
   ]
  },
  {
   "cell_type": "code",
   "execution_count": null,
   "id": "7d3f067a-7c47-4124-a25a-68ca142ca86d",
   "metadata": {},
   "outputs": [
    {
     "name": "stdout",
     "output_type": "stream",
     "text": [
      "rf run csv 30sec\n",
      "rf run csv 30sec norm\n"
     ]
    }
   ],
   "source": [
    "random_forest_param_grid = {\n",
    "    'n_estimators': [1, 10, 50, 100, 200],\n",
    "    'max_depth': [10, 20, 30, None],\n",
    "    'bootstrap': [True, False],\n",
    "    'n_jobs': [-1]\n",
    "    \n",
    "}\n",
    "\n",
    "if run_hp_selection:\n",
    "    print(\"rf run csv 30sec\")\n",
    "    rf_csv30sec_best_estimator_nfeatures, rf_csv30sec_best_estimator_maxdepth, rf_csv30sec_best_estimator_bootstrap, rf_csv30sec_accuracy, rf_csv30sec_val_accuracy, rf_csv30sec_time = testRandomForest(\n",
    "        X_30sec_train, y_30sec_train, random_forest_param_grid, X_30sec_val, y_30sec_val)\n",
    "\n",
    "    print(\"rf run csv 30sec norm\")\n",
    "    rf_csv30sec_norm_best_estimator_nfeatures, rf_csv30sec_norm_best_estimator_maxdepth, rf_csv30sec_norm_best_estimator_bootstrap, rf_csv30sec_norm_accuracy, rf_csv30sec_norm_val_accuracy, rf_csv30sec_norm_time = testRandomForest(\n",
    "        X_30sec_norm_train, y_30sec_train, random_forest_param_grid, X_30sec_norm_val, y_30sec_val)\n",
    "\n",
    "    print(\"rf run csv 30sec std\")\n",
    "    rf_csv30sec_std_best_estimator_nfeatures, rf_csv30sec_std_best_estimator_maxdepth, rf_csv30sec_std_best_estimator_bootstrap, rf_csv30sec_std_accuracy, rf_csv30sec_std_val_accuracy, rf_csv30sec_std_time = testRandomForest(\n",
    "        X_30sec_std_train, y_30sec_train, random_forest_param_grid, X_30sec_std_val, y_30sec_val)\n",
    "\n",
    "    print(\"rf run csv 3sec \")\n",
    "    rf_csv3sec_best_estimator_nfeatures, rf_csv3sec_best_estimator_maxdepth, rf_csv3sec_best_estimator_bootstrap, rf_csv3sec_accuracy, rf_csv3sec_val_accuracy, rf_csv3sec_time = testRandomForest(\n",
    "        X_3sec_train, y_3sec_train, random_forest_param_grid, X_3sec_val, y_3sec_val)\n",
    "\n",
    "    print(\"rf run csv 3sec norm \")\n",
    "    rf_csv3sec_norm_best_estimator_nfeatures, rf_csv3sec_norm_best_estimator_maxdepth, rf_csv3sec_norm_best_estimator_bootstrap, rf_csv3sec_norm_accuracy, rf_csv3sec_norm_val_accuracy, rf_csv3sec_norm_time = testRandomForest(\n",
    "        X_3sec_norm_train, y_3sec_train, random_forest_param_grid, X_3sec_norm_val, y_3sec_val)\n",
    "\n",
    "    print(\"rf run csv 3sec std\")\n",
    "    rf_csv3sec_std_best_estimator_nfeatures, rf_csv3sec_std_best_estimator_maxdepth, rf_csv3sec_std_best_estimator_bootstrap, rf_csv3sec_std_accuracy, rf_csv3sec_std_val_accuracy, rf_csv3sec_std_time = testRandomForest(\n",
    "        X_3sec_std_train, y_3sec_train, random_forest_param_grid, X_3sec_std_val, y_3sec_val)"
    "else:\n",
    "    print(\"Skipping HP Selection for rf\")"
   ]
  },
  {
   "cell_type": "code",
   "execution_count": 31,
   "id": "bfd44d5d-29b5-4abc-ae63-0357d3453c15",
   "metadata": {},
   "outputs": [
    {
     "ename": "NameError",
     "evalue": "name 'rf_csv30sec_best_estimator_nfeatures' is not defined",
     "output_type": "error",
     "traceback": [
      "\u001b[1;31m---------------------------------------------------------------------------\u001b[0m",
      "\u001b[1;31mNameError\u001b[0m                                 Traceback (most recent call last)",
      "Cell \u001b[1;32mIn[31], line 7\u001b[0m\n\u001b[0;32m      1\u001b[0m rfdf_filepath \u001b[38;5;241m=\u001b[39m \u001b[38;5;124m\"\u001b[39m\u001b[38;5;124m../dataframes/rfdf.csv\u001b[39m\u001b[38;5;124m\"\u001b[39m\n\u001b[0;32m      3\u001b[0m \u001b[38;5;28;01mif\u001b[39;00m \u001b[38;5;28;01mTrue\u001b[39;00m:\n\u001b[0;32m      4\u001b[0m     rfdf \u001b[38;5;241m=\u001b[39m pd\u001b[38;5;241m.\u001b[39mDataFrame({\n\u001b[0;32m      5\u001b[0m         \u001b[38;5;124m\"\u001b[39m\u001b[38;5;124mDataset\u001b[39m\u001b[38;5;124m\"\u001b[39m: [\u001b[38;5;124m\"\u001b[39m\u001b[38;5;124mFeatures 30 sec\u001b[39m\u001b[38;5;124m\"\u001b[39m, \u001b[38;5;124m\"\u001b[39m\u001b[38;5;124mFeatures 30 sec norm\u001b[39m\u001b[38;5;124m\"\u001b[39m, \u001b[38;5;124m\"\u001b[39m\u001b[38;5;124mFeatures 30 sec std\u001b[39m\u001b[38;5;124m\"\u001b[39m, \u001b[38;5;124m\"\u001b[39m\u001b[38;5;124mFeatures 3 sec\u001b[39m\u001b[38;5;124m\"\u001b[39m, \u001b[38;5;124m\"\u001b[39m\u001b[38;5;124mFeatures 3 sec norm\u001b[39m\u001b[38;5;124m\"\u001b[39m, \u001b[38;5;124m\"\u001b[39m\u001b[38;5;124mFeatures 3 sec std\u001b[39m\u001b[38;5;124m\"\u001b[39m],\n\u001b[0;32m      6\u001b[0m         \u001b[38;5;124m\"\u001b[39m\u001b[38;5;124mBest n estimators\u001b[39m\u001b[38;5;124m\"\u001b[39m: [\n\u001b[1;32m----> 7\u001b[0m             rf_csv30sec_best_estimator_nfeatures,\n\u001b[0;32m      8\u001b[0m             rf_csv30sec_norm_best_estimator_nfeatures,\n\u001b[0;32m      9\u001b[0m             rf_csv30sec_std_best_estimator_nfeatures,\n\u001b[0;32m     10\u001b[0m             rf_csv3sec_best_estimator_nfeatures,\n\u001b[0;32m     11\u001b[0m             rf_csv3sec_norm_best_estimator_nfeatures,\n\u001b[0;32m     12\u001b[0m             rf_csv3sec_std_best_estimator_nfeatures\n\u001b[0;32m     13\u001b[0m         ],\n\u001b[0;32m     14\u001b[0m         \u001b[38;5;124m\"\u001b[39m\u001b[38;5;124mBest Max Depth\u001b[39m\u001b[38;5;124m\"\u001b[39m: [\n\u001b[0;32m     15\u001b[0m             rf_csv30sec_best_estimator_maxdepth,\n\u001b[0;32m     16\u001b[0m             rf_csv30sec_norm_best_estimator_maxdepth,\n\u001b[0;32m     17\u001b[0m             rf_csv30sec_std_best_estimator_maxdepth,\n\u001b[0;32m     18\u001b[0m             rf_csv3sec_best_estimator_maxdepth ,\n\u001b[0;32m     19\u001b[0m             rf_csv3sec_norm_best_estimator_maxdepth,\n\u001b[0;32m     20\u001b[0m             rf_csv3sec_std_best_estimator_maxdepth\n\u001b[0;32m     21\u001b[0m         ],\n\u001b[0;32m     22\u001b[0m         \u001b[38;5;124m\"\u001b[39m\u001b[38;5;124mBootstrap\u001b[39m\u001b[38;5;124m\"\u001b[39m: [\n\u001b[0;32m     23\u001b[0m             rf_csv30sec_best_estimator_bootstrap,\n\u001b[0;32m     24\u001b[0m             rf_csv30sec_norm_best_estimator_bootstrap,\n\u001b[0;32m     25\u001b[0m             rf_csv30sec_std_best_estimator_bootstrap,\n\u001b[0;32m     26\u001b[0m             rf_csv3sec_best_estimator_bootstrap,\n\u001b[0;32m     27\u001b[0m             rf_csv3sec_norm_best_estimator_bootstrap,\n\u001b[0;32m     28\u001b[0m             rf_csv3sec_std_best_estimator_bootstrap\n\u001b[0;32m     29\u001b[0m         ],\n\u001b[0;32m     30\u001b[0m         \u001b[38;5;124m\"\u001b[39m\u001b[38;5;124mAccuracy\u001b[39m\u001b[38;5;124m\"\u001b[39m: [\n\u001b[0;32m     31\u001b[0m             rf_csv30sec_accuracy,\n\u001b[0;32m     32\u001b[0m             rf_csv30sec_norm_accuracy,\n\u001b[0;32m     33\u001b[0m             rf_csv30sec_std_accuracy,\n\u001b[0;32m     34\u001b[0m             rf_csv3sec_accuracy,\n\u001b[0;32m     35\u001b[0m             rf_csv3sec_norm_accuracy,\n\u001b[0;32m     36\u001b[0m             rf_csv3sec_std_accuracy\n\u001b[0;32m     37\u001b[0m         ],\n\u001b[0;32m     38\u001b[0m         \u001b[38;5;124m\"\u001b[39m\u001b[38;5;124mRun Time\u001b[39m\u001b[38;5;124m\"\u001b[39m: [\n\u001b[0;32m     39\u001b[0m             rf_csv30sec_time,\n\u001b[0;32m     40\u001b[0m             rf_csv30sec_norm_time,\n\u001b[0;32m     41\u001b[0m             rf_csv30sec_std_time,\n\u001b[0;32m     42\u001b[0m             rf_csv3sec_time,\n\u001b[0;32m     43\u001b[0m             rf_csv3sec_norm_time,\n\u001b[0;32m     44\u001b[0m             rf_csv3sec_std_time\n\u001b[0;32m     45\u001b[0m         ]\n\u001b[0;32m     46\u001b[0m     })\n\u001b[0;32m     47\u001b[0m     rfdf\u001b[38;5;241m.\u001b[39mto_csv(rfdf_filepath, index\u001b[38;5;241m=\u001b[39m\u001b[38;5;28;01mFalse\u001b[39;00m)\n\u001b[0;32m     48\u001b[0m     \u001b[38;5;28mprint\u001b[39m(\u001b[38;5;124m\"\u001b[39m\u001b[38;5;124msaved df to\u001b[39m\u001b[38;5;124m\"\u001b[39m, rfdf_filepath)\n",
      "\u001b[1;31mNameError\u001b[0m: name 'rf_csv30sec_best_estimator_nfeatures' is not defined"
     ]
    }
   ],
   "source": [
    "rfdf_filepath = \"../dataframes/rfdf.csv\"\n",
    "\n",
    "if run_hp_selection:\n",
    "    rfdf = pd.DataFrame({\n",
    "        \"Dataset\": [\"Features 30 sec\", \"Features 30 sec norm\", \"Features 30 sec std\", \"Features 3 sec\", \"Features 3 sec norm\", \"Features 3 sec std\"],\n",
    "        \"Best n estimators\": [\n",
    "            rf_csv30sec_best_estimator_nfeatures,\n",
    "            rf_csv30sec_norm_best_estimator_nfeatures,\n",
    "            rf_csv30sec_std_best_estimator_nfeatures,\n",
    "            rf_csv3sec_best_estimator_nfeatures,\n",
    "            rf_csv3sec_norm_best_estimator_nfeatures,\n",
    "            rf_csv3sec_std_best_estimator_nfeatures\n",
    "        ],\n",
    "        \"Best Max Depth\": [\n",
    "            rf_csv30sec_best_estimator_maxdepth,\n",
    "            rf_csv30sec_norm_best_estimator_maxdepth,\n",
    "            rf_csv30sec_std_best_estimator_maxdepth,\n",
    "            rf_csv3sec_best_estimator_maxdepth ,\n",
    "            rf_csv3sec_norm_best_estimator_maxdepth,\n",
    "            rf_csv3sec_std_best_estimator_maxdepth\n",
    "        ],\n",
    "        \"Bootstrap\": [\n",
    "            rf_csv30sec_best_estimator_bootstrap,\n",
    "            rf_csv30sec_norm_best_estimator_bootstrap,\n",
    "            rf_csv30sec_std_best_estimator_bootstrap,\n",
    "            rf_csv3sec_best_estimator_bootstrap,\n",
    "            rf_csv3sec_norm_best_estimator_bootstrap,\n",
    "            rf_csv3sec_std_best_estimator_bootstrap\n",
    "        ],\n",
    "        \"Accuracy\": [\n",
    "            rf_csv30sec_accuracy,\n",
    "            rf_csv30sec_norm_accuracy,\n",
    "            rf_csv30sec_std_accuracy,\n",
    "            rf_csv3sec_accuracy,\n",
    "            rf_csv3sec_norm_accuracy,\n",
    "            rf_csv3sec_std_accuracy\n",
    "        ],\n",
    "        \"Run Time\": [\n",
    "            rf_csv30sec_time,\n",
    "            rf_csv30sec_norm_time,\n",
    "            rf_csv30sec_std_time,\n",
    "            rf_csv3sec_time,\n",
    "            rf_csv3sec_norm_time,\n",
    "            rf_csv3sec_std_time\n",
    "        ]\n",
    "    })\n",
    "    rfdf.to_csv(rfdf_filepath, index=False)\n",
    "    print(\"saved df to\", rfdf_filepath)\n",
    "else:\n",
    "    svmdf = pd.read_csv(rfdf_filepath)\n",
    "    print(\"loading df from\", rfdf_filepath)\n",
    "    \n",
    "rfdf"
   ]
  },
  {
   "cell_type": "code",
   "execution_count": null,
   "id": "0fa494f1-ba0c-4eac-8c52-3f53d569191e",
   "metadata": {},
   "outputs": [],
   "source": [
    "rfdf_hp_avg_accuracy = rfdf[\"Accuracy\"].mean()\n",
    "rfdf_hp_avg_run_time = rfdf[\"Run Time\"].mean()\n",
    "\n",
    "rf_n_hyperparameters_n_estimators = 5\n",
    "rf_n_hyperparameters_max_depth = 4\n",
    "rf_n_hyperparameters_bootstrap = 2"
   ]
  },
  {
   "cell_type": "markdown",
   "id": "2d49cd93-322d-4048-88f4-38ea859bddbe",
   "metadata": {},
   "source": [
    "The results indicate that the best performance was boostrap = false, max_depth = none, and n_estimators  = none. When bootstrap=False, the model does not use bootstrapped samples (sampling with replacement) to train each tree. Instead, it uses the entire dataset for each tree. The max depth setting  can capture complex patterns in the data by allowing trees to grow fully. It is useful when the dataset is complex and requires deep trees to model intricate relationships. It can potentially increase the risk of overfitting. \n",
    "\n",
    "200 trees were used to keep the runtime down, exploring more trees could potentially improve performance further, especially if computational resources allow for it"
   ]
  },
  {
   "cell_type": "markdown",
   "id": "9947bcd2-18da-4039-a8b9-2242f825150a",
   "metadata": {},
   "source": [
    "## Convolutional Neural Network"
   ]
  },
  {
   "cell_type": "code",
   "execution_count": null,
   "id": "7b5ea54f",
   "metadata": {},
   "outputs": [],
   "source": [
    "'''TensorFlow setup'''\n",
    "import tensorflow as tf\n",
    "from tensorflow.keras import layers, models\n",
    "from tensorboard.plugins.hparams import api as hp\n",
    "print(\"TensorFlow version:\", tf.__version__)"
   ]
  },
  {
   "cell_type": "raw",
   "id": "10621531-49c7-4437-ba0e-7bbd13010ee8",
   "metadata": {},
   "source": [
    "''' \n",
    "    THIS CELL HAS A LONG RUNTIME - several minutes\n",
    "    By using this command I determined that the model seems to work best when\n",
    "    using kernel size 32 for layer 1, kernel size 16 for layer 2, and no layer 3.\n",
    "    Moving forward I will use this CNN configuration to cross-validate and choose hyperparameters\n",
    "'''\n",
    "def choose_CNN(l1, l2, l3):\n",
    "    model = models.Sequential()\n",
    "    model.add(layers.Conv2D(l1, (3, 3), activation='relu', input_shape=(288, 432, 4)))\n",
    "    if l2 != None:\n",
    "        model.add(layers.MaxPooling2D((2, 2)))\n",
    "        model.add(layers.Conv2D(l2, (3, 3), activation='relu'))\n",
    "    if l3 != None:\n",
    "        model.add(layers.MaxPooling2D((2, 2)))\n",
    "        model.add(layers.Conv2D(l3, (3, 3), activation='relu'))\n",
    "    model.add(layers.Flatten())\n",
    "    model.add(layers.Dense(64, activation='relu'))\n",
    "    model.add(layers.Dense(10))\n",
    "    model.compile(optimizer='adam', loss=tf.keras.losses.SparseCategoricalCrossentropy(from_logits=True), metrics=['accuracy'])\n",
    "    return model\n",
    "\n",
    "'''Train and test CNN'''\n",
    "X_images_train_tens = tf.convert_to_tensor(X_images_train, dtype=float)\n",
    "y_images_train_tens = tf.convert_to_tensor(y_images_train.astype(np.float32), dtype=float)\n",
    "X_images_val_tens = tf.convert_to_tensor(X_images_val, dtype=float)\n",
    "y_images_val_tens = tf.convert_to_tensor(y_images_val.astype(np.float32), dtype=float)\n",
    "model.compile(optimizer='adam', loss=tf.keras.losses.SparseCategoricalCrossentropy(from_logits=True), metrics=['accuracy'])\n",
    "history = model.fit(X_images_train_tens, y_images_train_tens, epochs=1, validation_data=(X_images_val_tens, y_images_val_tens))\n",
    "\n",
    "layer1 = [16,32,64]\n",
    "layer2 = [None,16,32]\n",
    "layer3 = [None,16,32]\n",
    "allModels = []\n",
    "\n",
    "for l1 in layer1:\n",
    "    for l2 in layer2:\n",
    "        for l3 in layer3:\n",
    "            allModels.append(choose_CNN(l1,l2,l3))\n",
    "\n",
    "for m in allModels:\n",
    "    m.evaluate(X_images_val_tens,  y_images_val_tens, verbose=2)\n",
    "\n",
    "cell_stop = time.time()\n",
    "\n",
    "cnn_run_time = cell_stop-cell_start"
   ]
  },
  {
   "cell_type": "code",
   "execution_count": null,
   "id": "6ec79be3-6b3c-40f3-867f-a713c4d6cc6f",
   "metadata": {},
   "outputs": [],
   "source": [
    "''' \n",
    "    THIS CELL HAS A LONG RUNTIME - several minutes\n",
    "    By using this command I determined that the best optimizer for nearly all amounts of epochs was adamax\n",
    "    Adamax performed best at 10 epochs\n",
    "'''\n",
    "\n",
    "cnnstart = time.time()\n",
    "def train_test_cnn(opt,epch):\n",
    "    model = tf.keras.models.Sequential([\n",
    "        layers.Conv2D(32, (3, 3), activation='relu', input_shape=(288, 432, 4)),\n",
    "        layers.MaxPooling2D((2, 2)),\n",
    "        layers.Conv2D(16, (3, 3), activation='relu'),\n",
    "        layers.Flatten(),\n",
    "        layers.Dense(64, activation='relu'),\n",
    "        layers.Dense(10),\n",
    "    ])\n",
    "    model.compile(optimizer=opt,loss=tf.keras.losses.SparseCategoricalCrossentropy(from_logits=True),metrics=['accuracy'])\n",
    "    model.fit(X_images_train_tens, y_images_train_tens, epochs=epch)\n",
    "    _, accuracy = model.evaluate(X_images_val_tens, y_images_val_tens)\n",
    "    return accuracy\n",
    "\n",
    "# Convert spectrograms to tensors\n",
    "X_images_train_tens = tf.convert_to_tensor(X_images_train, dtype=float)\n",
    "y_images_train_tens = tf.convert_to_tensor(y_images_train.astype(np.float32), dtype=float)\n",
    "X_images_val_tens = tf.convert_to_tensor(X_images_val, dtype=float)\n",
    "y_images_val_tens = tf.convert_to_tensor(y_images_val.astype(np.float32), dtype=float)\n",
    "\n",
    "# Set up cross-validation and choose hyperparameters\n",
    "OPTIMIZER = ['adam','adamax','ftrl','rmsprop','sgd']\n",
    "EPOCHS = [5,10,20,30,40]\n",
    "\n",
    "session_num = 0\n",
    "\n",
    "outputs = []\n",
    "cnntime = 0\n",
    "if run_hp_selection:\n",
    "    cnnstart = time.time()\n",
    "    for optimizer in OPTIMIZER:\n",
    "        for epoch in EPOCHS:\n",
    "            tempAcc = train_test_cnn(optimizer, epoch)\n",
    "            outputs.append('Trial Number: ' + str(session_num) + \n",
    "                        '\\nOptimizer: ' + optimizer + \n",
    "                        '\\nEpochs: ' + str(epoch) +\n",
    "                        '\\nAccuracy: ' + str(tempAcc))\n",
    "            session_num += 1\n",
    "\n",
    "    cnnstop = time.time()\n",
    "    cnntime = cnnstop-cnnstart\n",
    "else:\n",
    "    outputs = ['Trial Number: 0\\nOptimizer: adam\\nEpochs: 5\\nAccuracy: 0.3400000035762787', 'Trial Number: 1\\nOptimizer: adam\\nEpochs: 10\\nAccuracy: 0.5799999833106995', 'Trial Number: 2\\nOptimizer: adam\\nEpochs: 20\\nAccuracy: 0.33000001311302185', 'Trial Number: 3\\nOptimizer: adam\\nEpochs: 30\\nAccuracy: 0.49000000953674316', 'Trial Number: 4\\nOptimizer: adam\\nEpochs: 40\\nAccuracy: 0.07999999821186066', 'Trial Number: 5\\nOptimizer: adamax\\nEpochs: 5\\nAccuracy: 0.4099999964237213', 'Trial Number: 6\\nOptimizer: adamax\\nEpochs: 10\\nAccuracy: 0.28999999165534973', 'Trial Number: 7\\nOptimizer: adamax\\nEpochs: 20\\nAccuracy: 0.4000000059604645', 'Trial Number: 8\\nOptimizer: adamax\\nEpochs: 30\\nAccuracy: 0.6000000238418579', 'Trial Number: 9\\nOptimizer: adamax\\nEpochs: 40\\nAccuracy: 0.5', 'Trial Number: 10\\nOptimizer: ftrl\\nEpochs: 5\\nAccuracy: 0.07999999821186066', 'Trial Number: 11\\nOptimizer: ftrl\\nEpochs: 10\\nAccuracy: 0.07999999821186066', 'Trial Number: 12\\nOptimizer: ftrl\\nEpochs: 20\\nAccuracy: 0.07999999821186066', 'Trial Number: 13\\nOptimizer: ftrl\\nEpochs: 30\\nAccuracy: 0.07999999821186066', 'Trial Number: 14\\nOptimizer: ftrl\\nEpochs: 40\\nAccuracy: 0.07999999821186066', 'Trial Number: 15\\nOptimizer: rmsprop\\nEpochs: 5\\nAccuracy: 0.33000001311302185', 'Trial Number: 16\\nOptimizer: rmsprop\\nEpochs: 10\\nAccuracy: 0.5600000023841858', 'Trial Number: 17\\nOptimizer: rmsprop\\nEpochs: 20\\nAccuracy: 0.5799999833106995', 'Trial Number: 18\\nOptimizer: rmsprop\\nEpochs: 30\\nAccuracy: 0.5', 'Trial Number: 19\\nOptimizer: rmsprop\\nEpochs: 40\\nAccuracy: 0.550000011920929', 'Trial Number: 20\\nOptimizer: sgd\\nEpochs: 5\\nAccuracy: 0.2800000011920929', 'Trial Number: 21\\nOptimizer: sgd\\nEpochs: 10\\nAccuracy: 0.30000001192092896', 'Trial Number: 22\\nOptimizer: sgd\\nEpochs: 20\\nAccuracy: 0.49000000953674316', 'Trial Number: 23\\nOptimizer: sgd\\nEpochs: 30\\nAccuracy: 0.46000000834465027', 'Trial Number: 24\\nOptimizer: sgd\\nEpochs: 40\\nAccuracy: 0.5099999904632568']\n",
    "    cnntime = 33520.333316040039\n",
    "for result in outputs:\n",
    "    print(result)"
   ]
  },
  {
   "cell_type": "code",
   "execution_count": null,
   "id": "2159c6d8-9977-472f-a25a-1ee3bd62ed53",
   "metadata": {},
   "outputs": [],
   "source": [
    "cnntime = cnnstop-cnnstart\n",
    "\n",
    "\n",
    "cnntraintime = 33520.333316040039\n",
    "storedoutputs = ['Trial Number: 0\\nOptimizer: adam\\nEpochs: 5\\nAccuracy: 0.3400000035762787', 'Trial Number: 1\\nOptimizer: adam\\nEpochs: 10\\nAccuracy: 0.5799999833106995', 'Trial Number: 2\\nOptimizer: adam\\nEpochs: 20\\nAccuracy: 0.33000001311302185', 'Trial Number: 3\\nOptimizer: adam\\nEpochs: 30\\nAccuracy: 0.49000000953674316', 'Trial Number: 4\\nOptimizer: adam\\nEpochs: 40\\nAccuracy: 0.07999999821186066', 'Trial Number: 5\\nOptimizer: adamax\\nEpochs: 5\\nAccuracy: 0.4099999964237213', 'Trial Number: 6\\nOptimizer: adamax\\nEpochs: 10\\nAccuracy: 0.28999999165534973', 'Trial Number: 7\\nOptimizer: adamax\\nEpochs: 20\\nAccuracy: 0.4000000059604645', 'Trial Number: 8\\nOptimizer: adamax\\nEpochs: 30\\nAccuracy: 0.6000000238418579', 'Trial Number: 9\\nOptimizer: adamax\\nEpochs: 40\\nAccuracy: 0.5', 'Trial Number: 10\\nOptimizer: ftrl\\nEpochs: 5\\nAccuracy: 0.07999999821186066', 'Trial Number: 11\\nOptimizer: ftrl\\nEpochs: 10\\nAccuracy: 0.07999999821186066', 'Trial Number: 12\\nOptimizer: ftrl\\nEpochs: 20\\nAccuracy: 0.07999999821186066', 'Trial Number: 13\\nOptimizer: ftrl\\nEpochs: 30\\nAccuracy: 0.07999999821186066', 'Trial Number: 14\\nOptimizer: ftrl\\nEpochs: 40\\nAccuracy: 0.07999999821186066', 'Trial Number: 15\\nOptimizer: rmsprop\\nEpochs: 5\\nAccuracy: 0.33000001311302185', 'Trial Number: 16\\nOptimizer: rmsprop\\nEpochs: 10\\nAccuracy: 0.5600000023841858', 'Trial Number: 17\\nOptimizer: rmsprop\\nEpochs: 20\\nAccuracy: 0.5799999833106995', 'Trial Number: 18\\nOptimizer: rmsprop\\nEpochs: 30\\nAccuracy: 0.5', 'Trial Number: 19\\nOptimizer: rmsprop\\nEpochs: 40\\nAccuracy: 0.550000011920929', 'Trial Number: 20\\nOptimizer: sgd\\nEpochs: 5\\nAccuracy: 0.2800000011920929', 'Trial Number: 21\\nOptimizer: sgd\\nEpochs: 10\\nAccuracy: 0.30000001192092896', 'Trial Number: 22\\nOptimizer: sgd\\nEpochs: 20\\nAccuracy: 0.49000000953674316', 'Trial Number: 23\\nOptimizer: sgd\\nEpochs: 30\\nAccuracy: 0.46000000834465027', 'Trial Number: 24\\nOptimizer: sgd\\nEpochs: 40\\nAccuracy: 0.5099999904632568']"
   ]
  },
  {
   "cell_type": "markdown",
   "id": "e93e9f32-b369-4c2e-89b8-2dff753be650",
   "metadata": {},
   "source": [
    "## Classifier Compairsion "
   ]
  },
  {
   "cell_type": "markdown",
   "id": "3d949f80-38fd-4fa7-bced-bdccfca254ff",
   "metadata": {},
   "source": [
    "#### Baseline Classifier the Random Classifier\n",
    "\n",
    "The Random classifier is a baseline classification model that will predict the occuring class randomly, and unifomly in the dataset for all inputs, regardless of the features. If the other classifiers can not perform better than the random classifer they are underperforming and not estimating results. Naive classifiers give a minimum performance threshold. If your sophisticated model can't outperform a naive approach, it indicates that the model might be overfitting or underfitting. It also might indicate that features or the overall dataset might not be informative enough."
   ]
  },
  {
   "cell_type": "code",
   "execution_count": null,
   "id": "87ed4e8c-c008-4e84-8e6d-651c9c91639d",
   "metadata": {},
   "outputs": [],
   "source": [
    "from sklearn.dummy import DummyClassifier\n",
    "\n",
    "dummy_results = []\n",
    "\n",
    "random_classifier = DummyClassifier(strategy=\"uniform\", random_state=42)\n",
    "for X, y, data_set in features_datasets:\n",
    "    X_train, X_test, y_train, y_test = train_test_split(X, y, test_size=0.3, random_state=1)\n",
    "    fit_start_time = time.time()\n",
    "    random_classifier.fit(X_train, y_train)\n",
    "    fit_stop_time = time.time()\n",
    "    y_pred=random_classifier.predict(X_test)\n",
    "    predict_stop_time = time.time()\n",
    "    classifier_accuracy = np.mean(y_pred == y_test)\n",
    "    fit_time = fit_stop_time - fit_start_time\n",
    "    predict_time = predict_stop_time - fit_stop_time\n",
    "    dummy_results.append([data_set, random_classifier.__class__.__name__, fit_time, predict_time, classifier_accuracy])\n",
    "\n",
    "dummy_df = pd.DataFrame(dummy_results, columns=[\"Dataset\", \"Classifier\", \"Fit Time (s)\", \"Predict Time (s)\", \"Accuracy\"])\n",
    "dummy_df"
   ]
  },
  {
   "cell_type": "markdown",
   "id": "787aa601-6129-431b-a9a0-343c9d183134",
   "metadata": {},
   "source": [
    "The random classifier achieved an average accuracy of approximately 10% across all datasets. This outcome aligns with expectations, given the fact that the each lable has a uniform distribution that represent 10% of the samples from each class"
   ]
  },
  {
   "cell_type": "markdown",
   "id": "649456d0-a0cd-4c98-b1fd-cfc2426a34ac",
   "metadata": {},
   "source": [
    "#### SVM Knn and Random Forest on the Features CSVs\n"
   ]
  },
  {
   "cell_type": "code",
   "execution_count": null,
   "id": "44917cf7",
   "metadata": {},
   "outputs": [],
   "source": [
    "knn_classifier = KNeighborsClassifier(n_neighbors=8)\n",
    "svm_classifier = svm.SVC(C=10, gamma = .01, kernel=\"rbf\")\n",
    "rf_classifier = RandomForestClassifier(n_estimators = 200, max_depth = 30, bootstrap = False, n_jobs = -1)"
   ]
  },
  {
   "cell_type": "markdown",
   "id": "e7f2244b",
   "metadata": {},
   "source": [
    "## Metric Comparison"
   ]
  },
  {
   "cell_type": "code",
   "execution_count": 96,
   "id": "c98e45ee-1413-4275-b06d-b29541d10929",
   "metadata": {
    "scrolled": false
   },
   "outputs": [
    {
     "name": "stderr",
     "output_type": "stream",
     "text": [
      "/usr/local/python-env/py39/lib/python3.9/site-packages/keras/src/layers/convolutional/base_conv.py:99: UserWarning: Do not pass an `input_shape`/`input_dim` argument to a layer. When using Sequential models, prefer using an `Input(shape)` object as the first layer in the model instead.\n",
      "  super().__init__(\n"
     ]
    },
    {
     "name": "stdout",
     "output_type": "stream",
     "text": [
      "279 µs ± 200 ns per loop (mean ± std. dev. of 7 runs, 1,000 loops each)\n",
      "31.2 ms ± 28.4 µs per loop (mean ± std. dev. of 7 runs, 10 loops each)\n",
      "122 ms ± 372 µs per loop (mean ± std. dev. of 7 runs, 10 loops each)\n",
      "279 µs ± 658 ns per loop (mean ± std. dev. of 7 runs, 1,000 loops each)\n",
      "15.6 ms ± 9.69 µs per loop (mean ± std. dev. of 7 runs, 100 loops each)\n",
      "122 ms ± 384 µs per loop (mean ± std. dev. of 7 runs, 10 loops each)\n",
      "278 µs ± 457 ns per loop (mean ± std. dev. of 7 runs, 1,000 loops each)\n",
      "21.9 ms ± 31.2 µs per loop (mean ± std. dev. of 7 runs, 10 loops each)\n",
      "122 ms ± 369 µs per loop (mean ± std. dev. of 7 runs, 10 loops each)\n",
      "3 ms ± 6.63 µs per loop (mean ± std. dev. of 7 runs, 100 loops each)\n",
      "2.88 s ± 1.67 ms per loop (mean ± std. dev. of 7 runs, 1 loop each)\n",
      "768 ms ± 5.38 ms per loop (mean ± std. dev. of 7 runs, 1 loop each)\n",
      "3 ms ± 7.5 µs per loop (mean ± std. dev. of 7 runs, 100 loops each)\n",
      "756 ms ± 2.24 ms per loop (mean ± std. dev. of 7 runs, 1 loop each)\n",
      "770 ms ± 7.98 ms per loop (mean ± std. dev. of 7 runs, 1 loop each)\n",
      "3 ms ± 1.81 µs per loop (mean ± std. dev. of 7 runs, 100 loops each)\n",
      "1.02 s ± 2.32 ms per loop (mean ± std. dev. of 7 runs, 1 loop each)\n",
      "766 ms ± 12.2 ms per loop (mean ± std. dev. of 7 runs, 1 loop each)\n",
      "Epoch 1/10\n",
      "\u001b[1m29/29\u001b[0m \u001b[32m━━━━━━━━━━━━━━━━━━━━\u001b[0m\u001b[37m\u001b[0m \u001b[1m7s\u001b[0m 243ms/step - accuracy: 0.1257 - loss: 14.9243\n",
      "Epoch 2/10\n",
      "\u001b[1m29/29\u001b[0m \u001b[32m━━━━━━━━━━━━━━━━━━━━\u001b[0m\u001b[37m\u001b[0m \u001b[1m7s\u001b[0m 243ms/step - accuracy: 0.1213 - loss: 2.2987\n",
      "Epoch 3/10\n",
      "\u001b[1m29/29\u001b[0m \u001b[32m━━━━━━━━━━━━━━━━━━━━\u001b[0m\u001b[37m\u001b[0m \u001b[1m7s\u001b[0m 245ms/step - accuracy: 0.2303 - loss: 2.1700\n",
      "Epoch 4/10\n",
      "\u001b[1m29/29\u001b[0m \u001b[32m━━━━━━━━━━━━━━━━━━━━\u001b[0m\u001b[37m\u001b[0m \u001b[1m7s\u001b[0m 241ms/step - accuracy: 0.3649 - loss: 1.9887\n",
      "Epoch 5/10\n",
      "\u001b[1m29/29\u001b[0m \u001b[32m━━━━━━━━━━━━━━━━━━━━\u001b[0m\u001b[37m\u001b[0m \u001b[1m7s\u001b[0m 244ms/step - accuracy: 0.5173 - loss: 1.6628\n",
      "Epoch 6/10\n",
      "\u001b[1m29/29\u001b[0m \u001b[32m━━━━━━━━━━━━━━━━━━━━\u001b[0m\u001b[37m\u001b[0m \u001b[1m7s\u001b[0m 243ms/step - accuracy: 0.6620 - loss: 1.2737\n",
      "Epoch 7/10\n",
      "\u001b[1m29/29\u001b[0m \u001b[32m━━━━━━━━━━━━━━━━━━━━\u001b[0m\u001b[37m\u001b[0m \u001b[1m7s\u001b[0m 242ms/step - accuracy: 0.7361 - loss: 1.0441\n",
      "Epoch 8/10\n",
      "\u001b[1m29/29\u001b[0m \u001b[32m━━━━━━━━━━━━━━━━━━━━\u001b[0m\u001b[37m\u001b[0m \u001b[1m7s\u001b[0m 244ms/step - accuracy: 0.8132 - loss: 0.7498\n",
      "Epoch 9/10\n",
      "\u001b[1m29/29\u001b[0m \u001b[32m━━━━━━━━━━━━━━━━━━━━\u001b[0m\u001b[37m\u001b[0m \u001b[1m7s\u001b[0m 243ms/step - accuracy: 0.9130 - loss: 0.5190\n",
      "Epoch 10/10\n",
      "\u001b[1m29/29\u001b[0m \u001b[32m━━━━━━━━━━━━━━━━━━━━\u001b[0m\u001b[37m\u001b[0m \u001b[1m7s\u001b[0m 243ms/step - accuracy: 0.9517 - loss: 0.3646\n",
      "1min 11s ± 0 ns per loop (mean ± std. dev. of 1 run, 1 loop each)\n",
      "\n",
      "Class names: \n",
      "['blues', 'classical', 'country', 'disco', 'hiphop', 'jazz', 'metal', 'pop', 'reggae', 'rock']\n",
      "\n",
      "KNN Confusion Matrix\n",
      "[[ 86   0   1   0   0   0   0   0   1   1]\n",
      " [  0  82   0   0   0   3   0   0   0   1]\n",
      " [  2   1  87   2   0   5   0   1   1   1]\n",
      " [  0   0   0 112   0   1   0   2   1   0]\n",
      " [  0   0   1   0 105   0   0   0   0   0]\n",
      " [  0   1   0   0   0  96   0   0   0   1]\n",
      " [  1   0   0   0   0   0 118   0   0   2]\n",
      " [  0   0   0   2   0   2   0  78   1   4]\n",
      " [  0   0   1   0   0   0   0   3  94   2]\n",
      " [  1   0   1   2   0   2   1   0   0  89]]\n",
      "KNN F1 Score - 0.9471251699333388\n",
      "KNN Precision Score - 0.9478216334625158\n",
      "KNN Recall Score - 0.946429729181585\n",
      "KNN Accuracy - 0.9479479479479479\n",
      "\n",
      "SVM Confusion Matrix\n",
      "[[ 82   0   4   0   0   1   1   0   1   0]\n",
      " [  0  83   0   0   0   2   0   0   0   1]\n",
      " [  5   0  74   1   0   4   2   5   3   6]\n",
      " [  0   1   2  87   3   1   2   2   5  13]\n",
      " [  4   0   3   3  85   1   1   3   4   2]\n",
      " [  1   2   0   0   0  94   0   1   0   0]\n",
      " [  4   0   0   1   0   0 111   0   0   5]\n",
      " [  0   0   3   3   1   2   0  71   3   4]\n",
      " [  1   0   2   3   3   1   1   1  84   4]\n",
      " [  7   0   7   5   1   3   5   1   2  65]]\n",
      "SVM F1 Score - 0.8381405438860013\n",
      "SVM Precision Score - 0.8374755727244734\n",
      "SVM Recall Score - 0.8388065718855875\n",
      "SVM Accuracy - 0.8368368368368369\n",
      "\n",
      "Random Forest Confusion Matrix\n",
      "[[ 87   0   1   0   0   0   0   0   1   0]\n",
      " [  0  85   0   0   0   1   0   0   0   0]\n",
      " [  0   0  90   2   0   4   0   0   2   2]\n",
      " [  0   0   5 104   0   1   0   0   3   3]\n",
      " [  0   0   1   1  97   0   1   3   1   2]\n",
      " [  1   3   2   0   0  92   0   0   0   0]\n",
      " [  1   0   0   0   1   1 113   0   2   3]\n",
      " [  0   0   0   1   0   0   0  82   3   1]\n",
      " [  0   0   5   1   2   1   0   0  90   1]\n",
      " [  2   0   7   2   1   3   3   1   0  77]]\n",
      "Random Forest F1 Score - 0.9192469730148626\n",
      "Random Forest Precision Score - 0.9190122536207204\n",
      "Random Forest Recall Score - 0.919481812336173\n",
      "Random Forest Accuracy - 0.9179179179179179\n",
      "\u001b[1m4/4\u001b[0m \u001b[32m━━━━━━━━━━━━━━━━━━━━\u001b[0m\u001b[37m\u001b[0m \u001b[1m0s\u001b[0m 49ms/step\n",
      "\n",
      "Convolutional Neural Network Confusion Matrix\n",
      "[[ 2  0  0  3  0  0  2  0  5  0]\n",
      " [ 0  6  1  0  0  0  0  0  0  0]\n",
      " [ 0  1  4  1  0  0  1  3  0  0]\n",
      " [ 0  0  0  4  3  0  0  1  2  0]\n",
      " [ 0  0  1  1  2  0  0  2  2  0]\n",
      " [ 0  0  0  0  0  3  0  0  3  0]\n",
      " [ 0  0  0  0  0  0  7  0  0  0]\n",
      " [ 0  1  1  0  0  0  0 11  0  1]\n",
      " [ 0  0  1  0  2  0  0  0  7  0]\n",
      " [ 1  3  1  1  0  0  6  1  0  3]]\n",
      "Convolutional Neural Network F1 Score - 0.49\n",
      "Convolutional Neural Network Precision Score - 0.49\n",
      "Convolutional Neural Network Recall Score - 0.49\n",
      "Convolutional Neural Network Accuracy - 0.49\n"
     ]
    },
    {
     "data": {
      "image/png": "iVBORw0KGgoAAAANSUhEUgAAAtwAAAH7CAYAAAD/6Eh6AAAAOXRFWHRTb2Z0d2FyZQBNYXRwbG90bGliIHZlcnNpb24zLjUuMiwgaHR0cHM6Ly9tYXRwbG90bGliLm9yZy8qNh9FAAAACXBIWXMAAAsTAAALEwEAmpwYAAA/yklEQVR4nO3debxd873/8ddHkBAzkSAiqu4tNyo0KkoNVUW1NRedaKn2p9qipVq3t1o6mlqlA6WJ3paoS+uqoUQovVWCmGeCBDHG2Bg/vz/WOrEd55ycneyVPZzX8/HYj7PXd02fvVbOyfus813fFZmJJEmSpGos0uwCJEmSpE5m4JYkSZIqZOCWJEmSKmTgliRJkipk4JYkSZIqZOCWJEmSKmTgllSXiDgyIp7sZd6EiJi6sGtSISJWLs/P6GbX0h8RMT0ijm3wNns8BhGxZURkRIxp5P76qOO9EXFkD+29fv9I6lwGbknqHCsD3wFGN7mOZurtGNwAbALct5DqeG9ZR3e/AbZdSDVIahGLNrsASapKRAwCBmXmKxXuI4DBmTmnqn00S0QskZn/anYdjZCZzwHXtEAdM4AZza5D0sLlFW5JlYiIFSJiTkTs0609IuL+iDihnD4yIp6MiE0j4oZynWkRsVkP29wvIm6LiJcj4sGIOKzb/AkRMTUidoqI24A5wMYRsU/ZnWCjiLgqIv4VEXdHxM7d1t8hIi6NiMcj4rmIuCYiPtRtma56N4uI68p97B4RQyPipIi4KyJeiogHIuLkiFim2/oZEQdHxHER8VS5ra+X8/Yuj83siDg9IoZ0W3dURJwVEU+X+7gkIv69nDcauKVcdEq5n6xZd4WIOCUiZpXH+P8iYuMeajskIn4aEU/UbO9tImLfiLi9PJZPRsSVEfEfNfOHRMRPIuLh8nzdFBEf7m17Neu9v9zWS+XxOTUilu62zBoRcWa535ci4uaI+ERfx6CnLiURsWREnBgRj5XH5LoezvcVEXFOuf17y38XF0XEyD4+wz7Az2uOaUbEFeX0W7qU1NS1dUT8OSJejIh7IuJDETEoIo4pP+fMiDik3uMVEctFxG8i4pHyMz4UEafO6zxIaiwDt6T5EhGLdn8B0TU/M58GzgP26bbqlsCawOk1bUsC/w38CtgdmA1cFBEjavZ3KPBL4E/AR8r3R0XEgd22Pxr4CfBDYHvggZp5k4A/A7tQBLM/RsT6NfPXBP4X+DSwK/B/ZR2bdtvHksBEiu4B2wHXlm2DgCPK/X4b+ADwR97ua8BSwF7AH4BjIuInFMfqK8C3gE8CB9V8/hWAq4F/B74IfBwYClwWEUsAj5brAHyJovvEJuW6g4HLgA8ChwI7AU+U6849xqVDgVXKY/CVHmonIjanOFe/Kz/r58pjtWzNYueUn+cHwEeB64DzI2JsT9sst7tpWedjwG7l5/8w8NuaZVYG/gFsBHy93PZpwOp9HYNenAp8Fvg+sDPwMPCXePsvexsDB1Kct/2BDYFT+tjuX4DjyvddNRzQx/IAv6Y4vzsDD1Icv5OApYFPlNPH1f6S1J/jBRwPbAYcTNGV5VtAImnhykxfvnz56vcLOJLiP+zeXlNrlv0g8Abwjpq2M7ot07W9T9S0LQU8DfyonF4GeAH4TrdavkcRNgaV0xPKbY3tttw+Zfu3atoWAe4Ezurlcy5C0e3uEuD0HurdcR7HaVFg03LZUTXtCUzptp9HgWeAZWrazwb+WTN9FPAUsEJN2/LAs8CXyukx5fa37FbLvsArwNrd6rsPOKZbbTf049/A14Hr+5i/dbmtLbq1/w34Y830dODYmumrao9N2faBcltjyukfAi8Cq/Sy796OwZbdtrNO+W9z727n4lbgkpq2K8pjvHxN20Hltpbo4xgcCGQv3z9P9lDXd2ra1i3bLu9W22PAj+s8XrcCX57XOfXly1e1L69wS5ofz1JcYez+uqDbcpMprtbtDVD+qXtX3noFrst5XW8y8wXgUoobz6C4QjiU4op07RX1y4HhQO2f92dm5rRe6q7dxxsUV7u79kFEjIyIiRExE3gNeBX4EPBv3baTwEXdNx4Rn46IGyPihXLdq8tZ3def3K2OBygC7HM1y9wLrFYz/UGKY/Jczed/HrgeGNfL561d93rggZp1Aa7sYd0L57EtgGnABhFxQkRsHhGL97C/x4C/dztfk3urNSKWpDjPZ3db52qKY/mectEPABdn5qP9qLMvG1H8RWbuXyDKc/FHiivCta7LzGdqpm8vv65G40yueX9v+fXybrXd37XPOo7XNODQiDggIrr/O5S0kBi4Jc2P1zJzavcXxRXYuTIzKcL13hERFN0gBlF0o6j1Qr795rzHKbo2AKxUfr2NIkx0vaaU7avXrDerj7of720fEbEIcD7wPuC/gK0oQtlFwJBu6z2T3W7EjKI/+BkU3R12B8ZTdA+gh/Vnd5t+pZe22vVWAvbgrZ//1bLO1enbSmU93df9bA/r9nX8AMjMy8p1N6e4AvxkFP3Vh9bsb0QP+zuyj1qXp/i38Ytu67wMLFaz3ooUfxFYUKtQ/Lt7qVv7LGDJshtOl9ndluk6993P64KYu4+af1s97bdrn/09XgdSdMP6L+Cusn/4ng2sW1I/OEqJpKr9lmJ4tK0ounb8qdvVQoCl4u0jYqzMm8Hq6fLrR+g5EN5V876v/qkr89ZfCmr38U5gA2D7zLy4a4Gyf3R3Pe1jd4ouIHP76kbEFn3UUq+nKX4hOKqHec/3Y92pwP/rYd7L3ab71b83MycCEyNiGEWf+BPKOg4v9zeToq94f80u930kPV9lf6T8+hRv/iK2IB6l+He3ZLfQPRx4KTO7H5dWM5t+HK/MnE3RF/8rEfFu4DDg9xFxc2be3sN6kipg4JZUqcx8OCL+CnyX4k/12/Wy6M6UV74jYilgG968Me0fwL+AVTPzLwtQzs7AHeU+FgF2pLjhEaArWM8NWhGxBkU/7Jv7se0leHt4/WRPC86nyRR/Ibith78GdOntyutkiq4xD2Vm96v8CyQznwB+HRG7UPQ97trf1yiuIN/Zz+28GBHXAP+emd/rY9HJFOFxeGb29MtXf68+X0cRWHej+MtE1xCPu/FmV6AF8Uq5zSFZwZCRdRyv2nVuLm8+/iTwLt7sGiOpYgZuSQvDaRR9Y2dQ9EPu7l/A98ug/QjFTXmLAz+D4ipdFE/t+1kZgv9G0SXu34CtMnPnHrbZk/0i4hWKG8n2o7iqvVc5786yvuMi4tsUo0N8l+JKbX9cCpwcEUcA/6QYLWLrfq7bH8cDnwIuj4ifl3UNB7YArs7MM4GHKI7l3hHxLPBq2dXnDIqRTa6I4smO91N0zXgv8FhmnlBPIRHxXWAFyu4kFH8Z2ILi6jYUx+IS4NKI+DFFV6BlgLHAkMz8Zi+bPgyYHBFvUIzK8TwwCtgBOCIz76a4kv4Z4KqI+D7FyCLrAEMz8yd9HIO3yMw7IuJM4KTy3oL7gM9TBNGe/hJQr65fNL4aEZcDz2XmXX2tMB/mebwi4mqKexdupfgF4/MUN51e2/MmJVXBwC1pYbiA4ibEieXNX929RBGifk4Rnu4EPlx7Y1xm/iQiHqEY3uxrFONf300x1F9/7UkR2I6mCGp7ZOaN5fZfLq/SnkwRXmZQDBe3JcXIF/Pya+AdwFcprq5eSjGcW0MetpKZT0bE+LKmE4DlKLpFXE15BT4z50TE5ym68FxJ0Zc3yvatKEZ1+S5FUH+cInSdPx/lXEdxHvak+MXkQYquDV2/IGV5LL9FMaLHKIpuJtMox6fu5TNeXQ45+F2KIQcHldu+mLIrUWY+UQ6H9xPgp8Bg4B6K0Ut6PQa97PLzwI8p+jcvRzFU5EcysxFXuK8CjqH49/BDil8St2zAdufqz/Gi+OvQPhTDZb4O3EjRbcqH70gLURT3NElSdaJ44MkFwL9l5r3d5h0JHJiZK/W0boP2vw9FX/KlyxFQJElaaLzCLakyEbEqsDbwI+DC7mFbkqSBwGEBJVVpf4qb3OYAX25yLZIkNYVdSiRJkqQKeYVbkiRJqpCBW5IkSapQR980udJKK+Xo0aObXYYkSZI63PXXX/9kZg7raV5HB+7Ro0czderbnncgSZIkNVREPNjbPLuUSJIkSRUycEuSJEkVMnBLkiRJFeroPtw9efXVV5kxYwZz5sxpdikdaciQIYwcOZLFFlus2aVIkiS1hAEXuGfMmMHSSy/N6NGjiYhml9NRMpOnnnqKGTNmsOaaaza7HEmSpJYw4LqUzJkzhxVXXNGwXYGIYMUVV/SvB5IkSTUGXOAGDNsV8thKkiS91YAM3M02ffp0xowZ0+wyJEmStBAM+MA9esQIIqJhr9EjRjT7I0mSJKmFDPjA/eCsWSQ07PXgrFl17f/+++9ngw024JhjjmGXXXZhu+22Y+211+awww6bu8xSSy3FEUccwfrrr8/48eOZVec+JEmS1DwDPnA301133cWuu+7KhAkTGDZsGNOmTWPSpEnccsstTJo0iYcffhiAF198kfHjx3PTTTex+eabc+qppza5ckmSJPWXgbtJnnjiCXbccUd+//vfs/766wOw9dZbs+yyyzJkyBDWXXddHnzwQQAWX3xxPvKRjwDwnve8h+nTpzerbEmSJNXJwN0kyy67LKNGjeLqq6+e2zZ48OC57wcNGsRrr70GwGKLLTZ39I/adkmSJLW+Affgm1ax+OKLc95557Htttuy1FJLNbscSZIkVcQr3E00dOhQLrjgAk444QSee+65ZpcjSZKkCkRmNruGyowbNy6nTp36lrY77riDddZZZ+706BEj6h5ZpC9rDB/O9Mcea9j22lH3YyxJktTpIuL6zBzX07wB36VkoIdjSZIkVcsuJZIkSVKFDNySJElShQzckiSp30aMGE1ENPQ1YsToZn8sqVIGbklSyzDMtb5Zsx4EsqGvYptqFL+PWs+Av2lSktQ63gxzjdxmNHR7Uqvz+6j1eIW7CboedPPII4+w2267NbkaSZIkVWnAB+5G/9mlnj+5rLrqqpxzzjnVfTjwMfCSJElNNuADd6P7otXTD2369OmMGTMGgAkTJrDLLruw3Xbbsfbaa3PYYYfNXe6vf/0rm2yyCRtuuCG77747L7zwAgDf+9732GijjRgzZgz7778/XQ8x2nLLLTnooIMYN24cP/vZz96yzyuvvJKxY8cyduxYNthgA55//nn23HNP/vKXv8xdZp999uGcc85hwoQJ7LTTTmyzzTaMHj2ak046ieOPP54NNtiA8ePH8/TTT/f7s0qSJA1UAz5wt5Jp06YxadIkbrnlFiZNmsTDDz/Mk08+ydFHH81ll13GDTfcwLhx4zj++OMBOPDAA7nuuuu49dZb+de//sUFF1wwd1uvvPIKU6dO5Wtf+9pb9nHsscdy8sknM23aNK666iqWWGIJ9thjD84+++y5602ePJkddtgBgFtvvZVzzz2X6667jiOOOIIll1ySG2+8kU022YQzzjhjIR0ZSZKk9mXgbiFbb701yy67LEOGDGHdddflwQcf5JprruH2229n0003ZezYsUycOJEHHyyuok+ZMoWNN96Y9dZbj8svv5zbbrtt7rb22GOPHvex6aabcsghh3DiiScye/ZsFl10UbbffnumTJnCyy+/zEUXXcTmm2/OEkssAcBWW23F0ksvzbBhw1h22WX56Ec/CsB6663H9OnTqz0gkiRJHcBRSlrI4MGD574fNGgQr732GpnJNttsw5lnnvmWZefMmcMBBxzA1KlTWX311TnyyCOZM2fO3PlDhw7tcR+HH344O+ywAxdeeCGbbropl1xyCe9617vYcsstueSSS5g0aRJ77rlnjzUtssgic6cXWWQR+4dLkiT1g1e4W9z48eP5+9//zr333gvAiy++yN133z03XK+00kq88MIL/b758r777mO99dbjG9/4BhtttBF33nknUFwR/+1vf8tVV13FdtttV82HkSRJGoAM3C1u2LBhTJgwgb322ot3v/vdbLLJJtx5550st9xyfP7zn2fMmDFsu+22bLTRRv3a3k9/+lPGjBnDu9/9bhZbbDG23357AD70oQ9x5ZVX8sEPfpDFF1+8yo8kSZI0oETXyBadaNy4cTl16tS3tN1xxx2ss846c6dHjBjd0CdcDR++Bo89Nr1h22tH3Y+xJPVXRNDoB3ZA0Mn/1y1snqPW5zlqjoi4PjPH9TRvwPfhHujhWJIkSdWyS4kkSZJUIQO3JEmSVCEDtyRJklQhA7ckSZJUIQO3JEmSVCEDdwtYaqmlemy/8847GTt2LBtssAH33XffQq5KkiRJjTDgA/eIkSOIiIa9Rowc0e99ZyZvvPFGr/P/9Kc/sdtuu3HjjTey1lprNeLjSpIkaSEb8ONwz5o5C45s4PaOnNXn/OnTp7Ptttuy8cYbc/3113PhhRcCcPDBB/PXv/6VESNGcNZZZ3Hdddfx05/+lEGDBjF58mSmTJkydxuvv/46++67L1OnTiUi+NznPsf222/PZz7zGa699tq5+/noRz/KLbfcwujRo9lrr7246KKLWHTRRTnllFP45je/yb333suhhx7KF7/4xcYdAEmSJL3FgA/czXDPPfcwceJExo8fD8CLL77IuHHjOOGEE/je977Hd7/7XU466SS++MUvstRSS/H1r3/9LetPmzaNmTNncuuttwIwe/ZslltuOV555RUeeOAB1lxzTSZNmsQee+wxd51Ro0Yxbdo0Dj74YPbZZx/+/ve/M2fOHMaMGWPgliRJqtCA71LSDGusscbcsA2wyCKLzA3Hn/rUp7j66qv7XP8d73gH999/P1/+8pe5+OKLWWaZZQD4+Mc/zqRJkwDeFrg/9rGPAbDeeuux8cYbs/TSSzNs2DAGDx7M7NmzG/nxJEmSVMPA3QRDhw7tc35E9Dl/+eWX56abbmLLLbfkV7/6Ffvttx8Ae+yxB2effTZ33303EcHaa689d53BgwcDRbjvet81/dprr83vR5EkSdI8GLhbwBtvvME555wDwB/+8Ac222yzPpd/8skneeONN9h11105+uijueGGGwBYa621GDRoEEcdddRbrm5LkiSpeezD3QKGDh3Ktddey9FHH83KK688t1tIb2bOnMlnP/vZuSOc/PCHP5w7b4899uDQQw/lgQceqLRmSZIk9U9kZrNrqMy4ceNy6tSpb2m74447WGeddeZOjxg5ohippEGGrzacx2Y81rDttaPux1iS+qvoUtfo/5eCTv6/bmHzHLU+z1FzRMT1mTmup3lNu8IdEUOAvwGDyzrOyczvRMSawFnAisD1wKcz85WIGAycAbwHeArYIzOnL2gdAz0cS5IkqVrN7MP9MvCBzFwfGAtsFxHjgR8DJ2TmO4FngH3L5fcFninbTyiXkyRJklpa0wJ3Fl4oJxcrXwl8ADinbJ8I7FS+37Gcppy/dcxrOA9JkiSpyZo6SklEDIqIacDjwKXAfcDszOwap24GsFr5fjXgYYBy/rMU3U4kSZKkltXUwJ2Zr2fmWGAk8F7gXQu6zYjYPyKmRsTUJ554YkE3J0mSJC2QlhiHOzNnA1OATYDlIqLrZs6RwMzy/UxgdYBy/rIUN09239YpmTkuM8cNGzas6tIlSZKkPjUtcEfEsIhYrny/BLANcAdF8N6tXGxv4M/l+/PLacr5l2eHjE/zxz/+kXXWWYetttqq2aVIkiSpwZp5hXsVYEpE3AxcB1yamRcA3wAOiYh7Kfpon1YufxqwYtl+CHB4I4oYNWIUEdGw16gRo+raf2Zy6qmncuqppzJlypRGfCRJkiS1kKaNw52ZNwMb9NB+P0V/7u7tc4DdG13Hw7MeZgqNC7pbzZr3Verp06ez7bbbsvHGG/O73/0OgAcffJCPfexjHHPMMQ2rRZIkSc3XEn24B6J77rmHAw44gMxkiy224Pe//71hW5IkqQMZuJtkjTXWYPz48c0uQ5IkSRUzcDfJ0KFDm12CJEmSFgIDtyRJklQhA7ckSZJUoaaNUtIqVh++er9GFqlne/MyevRobr311rnTV1xxRcP2L0mSpNYy4AP3Q4891OwSJEmS1MHsUiJJkiRVyMAtSZIkVWhABu7MbHYJHctjK0mS9FYDLnAPGTKEp556ymBYgczkqaeeYsiQIc0uRZIkqWUMuJsmR44cyYwZM3jiiSeaXUpHGjJkCCNHjmx2GZIkSS1jwAXuxRZbjDXXXLPZZUiSJGmAGHBdSiRJkqSFycAtSZIkVcjALUmSJFXIwC1JkiRVyMAtSZIkVcjALUmSpL4Ngoho6GvEyBHN/lQLzYAbFlCSNMCUQaGRhq82nMdmPNbQbQ5onqPW9zpwZGM3OevIWY3dYAszcEuSOptBofV5jtTh7FIiSZIkVcjALUmSJFXIwC1JkiRVyMAtSZIkVcjALUmSJFXIwC1JkiRVyMAtSZIkVcjALUmSJFXIwC1JkiRVyMAtSZIkVcjALUmSJFXIwC1JkiRVyMAtSZIkVcjALUmSJFXIwC1JkiRVyMAtSZIkVcjALUmSJFXIwC1JkiRVyMAtSZIkVcjALUmSJFXIwC1JkiRVyMAtSZIkVcjALUmSJFXIwC1JkiRVyMAtSZIkVcjALUmSJFXIwC1JkiRVyMAtSZIkVcjALUmSJFXIwC1JkiRVyMAtSZIkVcjALUmSJFXIwC1JkiRVyMAtSZIkVahpgTsiVo+IKRFxe0TcFhFfLduPjIiZETGtfH24Zp1vRsS9EXFXRGzbrNolSZKk/lq0ift+DfhaZt4QEUsD10fEpeW8EzLz2NqFI2JdYE/gP4BVgcsi4t8y8/WFWrUkSZJUh6Zd4c7MRzPzhvL988AdwGp9rLIjcFZmvpyZDwD3Au+tvlJJkiRp/rVEH+6IGA1sAPyzbDowIm6OiNMjYvmybTXg4ZrVZtBDQI+I/SNiakRMfeKJJ6osW5IkSZqnpgfuiFgK+B/goMx8DvglsBYwFngUOK6e7WXmKZk5LjPHDRs2rNHlSpIkSXVpauCOiMUowvbvM/NcgMyclZmvZ+YbwKm82W1kJrB6zeojyzZJkiSpZc1X4I6IwRGx+ILsOCICOA24IzOPr2lfpWaxnYFby/fnA3uW+14TWBu4dkFqkCRJkqrWr1FKImIs8HFgS4pRQpYq21+gCMRXAOdk5o117HtT4NPALRExrWz7FrBXub8EpgNfAMjM2yLibOB2ihFOvuQIJZIkSWp1fQbuiPgI8G1gHBAUAfha4KlyegXgncA3gcMjYirwvcz8y7x2nJlXl9vo7sI+1vk+8P15bVuSJElqFb0G7oi4HNiC4ur1vsBFmTmrl2WHAzsAnwLOj4gpmfnBxpcrSZIktZe+rnDPBjbIzJvntZEyiJ8OnF52B/lOQ6qTJEmS2lyvgTszd5mfDWbmNIqbHSVJkqQBr+njcEuSJEmdrN+BOyJWjIh1urWtGRE/j4jfR8S2jS9PkiRJam/9Ghaw9DPg3ygfRFM+IfIqYNVy/h4R8YHM/FtjS5QkSZLaVz1dSjbhrUP27UERtj9cfr0DOKxxpUmSJEntr57APRx4uGZ6e2BqZl6cmY8BE4ANGlibJEmS1PbqCdyvAkvUTG8BXFkzPRtYsQE1SZIkSR2jnsB9N7BrFD5G8ZTJyTXzVweebmRxkiRJUrur56bJkym6jTwDLAncz1sD9/uBWxpWmSRJktQB+h24M/OMiEhgJ+BZ4AeZ+SoUQwYCywG/qKBGSZIkqW3Vc4WbzPwd8Lse2p8C3tOooiRJkqRO4ZMmJUmSpAr1eoU7Ik6fj+1lZu67APVIkiRJHaWvLiX79NCW5dfooT3KrwZuSZIkqdRrl5LMXKT2RfHgm2nAn4H3UdwkuRywKXA+cEO5jCRJkqRSPX24jwcez8xdMvOazHyufP0jM3cGniyXkSRJklSqJ3B/GPjfPub/b7mMJEmSpFI9gXswMLKP+SPLZSRJkiSV6gncVwNfjojNu8+IiC2ALwN/b1RhkiRJUieo58E3h1CE7ikRMRW4s2x/FzAOeA74WmPLkyRJktpbPY92vz0iNgR+AHwE2Kic9QIwCfjPzLy/8SVKkiRJ7aveR7tPBz4REQGsXDY/kZlvNLowSZIkqRPUFbi7ZGYCsxpciyRJktRx6g7cEbE2sDawIm9/4iSZeUYD6pIkSZI6Qr8Dd0QMByYC23Q19bBYAgZuSZIkqVTPFe6TKML2L4HLgacqqUiSJEnqIPUE7m2AX2XmgVUVI0mSJHWaeh58swhwU1WFSJIkSZ2onsB9FbB+VYVIkiRJnaiewH0IsHNE7FpVMZIkSVKnqacP9y8pnip5dkQ8AtwPvN5tmczMrRtVnCRJktTu6gnc76AY9u+hcnpU48uRJEmSOku/A3dmjq6wDkmSJKkj1dOHW5IkSVKd5ufR7ssAH6ToYgJFX+5LM/P5RhYmSZIkdYK6AndE7AccByzFm492T+CFiDgkM09rcH2SJElSW+t34I6IjwGnUFzR/jZwWznrP4AvA6dExOOZ+b8Nr1KSJElqU/Vc4T4MuAPYODNfqGmfHBG/Ba4BvgEYuCVJkqRSPTdNrg9M6Ba2ASj7b0/EJ1FKkiRJb1FP4I55zM8FKUSSJEnqRPUE7puAfSJiaPcZEbEUsE+5jCRJkqRSPX24jwHOBW6IiBOB28v2rpsm3wns0tjyJEmSpPZWz5Mm/xQRBwI/Bn7Om11IAngRODAz/9z4EiVJkqT2Vdc43Jn5i4j4A7ANsGbZ3PXgm2cbXZwkSZLU7up+0mRmzgb+2PhSJEmSpM7T75smI2KDiPhSH/O/FBFjG1KVJEmS1CHqGaXkO8AOfczfHvivBStHkiRJ6iz1BO6NgCv7mH8l8N4FK0eSJEnqLPUE7pWAp/uYP7tcRpIkSVKpnsD9OMWY270ZQ9+BXJIkSRpw6gnclwH7RcTbQndErAvsWy4jSZIkqVTPsIBHUzxJ8rqIOB2YVraPBT4HvAIc1cjiJEmSpHZXz5Mm74uIrYEJwAHdZt8GfDYz72lgbZIkSVLbq6dLCZk5NTPHABsCe5SvDTJzvcycWs+2ImL1iJgSEbdHxG0R8dWyfYWIuDQi7im/Ll+2R0ScGBH3RsTNEbFhPfuTJEmSmqGuwN0lM6dl5h/L103zue/XgK9l5rrAeOBLZV/ww4HJmbk2MLmchmKc77XL1/7AL+dzv5IkSdJCU3fgjojNI+LoiDg1It5Vti1Vti/X3+1k5qOZeUP5/nngDmA1YEdgYrnYRGCn8v2OwBlZuAZYLiJWqbd+SZIkaWGq59HugyJiEjAF+BbFjZKrlrNfA/7E2/t293fbo4ENgH8CwzPz0XLWY8Dw8v1qwMM1q80o27pva/+ImBoRU5944on5KUeSJElqmHqucH8D2BU4BFgHiK4ZmTkHOA/4cL0FRMRSwP8AB2Xmc7XzMjOBrGd7mXlKZo7LzHHDhg2rtxxJkiSpoeoJ3J+h6NLxM+DJHubfAaxVz84jYjGKsP37zDy3bJ7V1VWk/Pp42T4TWL1m9ZFlmyRJktSy6gnco4F/9DF/NrB8fzcWEQGcBtyRmcfXzDof2Lt8vzfw55r2z5SjlYwHnq3peiJJkiS1pHoefPM8sEIf898J1NNpelPg08AtETGtbPsW8CPg7IjYF3gQ+Hg570KKLiv3Ai8Bn61jX5IkSVJT1BO4rwY+FRE/6T6jHCv7c8DF/d1YZl5NTT/wbrbuYfkEvtTf7UuSJEmtoJ4uJd+nGAP7cuAjZdv6EfEF4AZgKMXVaUmSJEmleh7tPjUidgV+A/y2bD6W4ir148DOmXl740uUJEmS2lc9XUrIzL+UY2Zvw5tDA94DXJKZLzW+PEmSJKm91RW4ATLzZeCC8iVJkiSpD/0O3BExCBhceyW7fJT7vhSjl5yVmbc0vEJJkiSpjdVzhfvXwHhgDMx9aM3fKbqWABwSEZtk5rSGVihJkiS1sXpGKdmM4uEzXXajCNtfAt4HzAIOb1xpkiRJUvur5wr3KsADNdM7ALdl5i8BIuIU4AsNrE2SJElqe/Vc4Q5gUM30lsCUmulHgZUbUJMkSZLUMeoJ3A8A2wJExKYUV7xrA/eqwLONK02SJElqf/V0KfktcHxE3AqsRvGwm0tq5m8M3NnA2iRJkqS2V88V7p8B3wFeBm6keLLkSwARsSLFCCYXNrxCSZIkqY3V82j3BI4qX93nPYX9tyVJkqS3qecKtyRJkqQ69Rq4I2LfiKg7kEfEoIjYb8HKkiRJkjpDX4H6OODOiDgwIlaa14YiYnhEHAzcBRzTqAIlSZKkdtZXH+61ge8DJwDHRcRU4FrgPuBpinG5VyiXGw+MLdc7DfiviuqVJEmS2kqvgTsznwD2j4jvAl+keJT7V3tZ/DbgaODUzHy04VVKkiRJbWqeo5Rk5kzg28C3I2JlYF1gGJDAExSPd3+y0iolSZKkNlXPg2/IzMcpHngjSZIkqR8cFlCSJEmqkIFbkiRJqpCBW5IkSaqQgVuSJEmqkIFbkiRJqpCBW5IkSaqQgVuSJEmqUF3jcEfEJsCBFI9zX5Hi8e61MjPXalBtkiRJUtvrd+COiM8AvwVeBe4GHqqqKEmSJKlT1HOF+wjgLuCDmflIRfVIkiRJHaWePtxrAL80bEuSJEn9V0/gngEMrqoQSZIkqRPVE7h/BXwyIgZVVYwkSZLUaerpw309sCtwbUScDDwAvN59ocz8W4NqkyRJktpePYF7cs373wDZbX6UbV4BlyRJkkr1BO7PVlaFJEmS1KH6Hbgzc2KVhUiSJEmdyEe7S5IkSRWq90mT85SZZ8x/OZIkSVJnqacP9wSKmyKjW3v3mycN3JIkSVKpnsC9VS/rrwUcALxE8fh3SZIkSaV6bpq8spdZkyNiInAtsCEwpRGFSZIkSZ2gITdNZubLwH9TXOmWJEmSVGrkKCUvA6s1cHuSJElS22tI4I6IVYAvUjzuXZIkSVKpnmEBL+9l1grAu4DFgb0bUZQkSZLUKeoZpeQdvH0IwASeBs4FTsrM/2tUYZIkSVInqGeUktEV1iFJkiR1pIbdNBkRoyPitEZtT5IkSeoE/QrcUVg5IhbvYd6oiDgFuAvYp8H1SZIkSW1tnoE7Ig4HngIeBV6MiDMjYsmIWDQifkARtPejePDN9pVWK0mSJLWZPvtwR8TewA+AF4HrgVHAx4FngVWAjwJXAt/NzCsqrVSSJElqQ/O6afLzFGNrb5aZj0bEosCZZfscYK/MnFRxjZIkSVLbmleXkjHAbzLzUYDMfA34ERDATwzbkiRJUt/mFbiXBh7u1vZQ+fXaBdlxRJweEY9HxK01bUdGxMyImFa+Plwz75sRcW9E3BUR2y7IviVJkqSFZV6BO4A3urV1Tb+8gPueAGzXQ/sJmTm2fF0IEBHrAnsC/1Gu84uIGLSA+5ckSZIq158H34yLiDk100uXXzeLiOW6L5yZ5/Znx5n5t4gY3Z9lgR2BszLzZeCBiLgXeC/wj36uL0mSJDVFfwL3V8tXd0fy1ke9Rzm9oFeeD4yIzwBTga9l5jPAasA1NcvMKNskSZKkljavwP3ZhVLFm34JHEUR3I8CjgM+V88GImJ/YH+AUaNGNbo+SZIkqS59Bu7MnLiwCin3N6vrfUScClxQTs4EVq9ZdGTZ1tM2TgFOARg3blz2tIwkSZK0sPTr0e4LS0SsUjO5M9A1gsn5wJ4RMTgi1gTWZgFHSZEkSZIWhv704a5ERJwJbAmsFBEzgO8AW0bEWIouJdOBLwBk5m0RcTZwO/Aa8KXMfL0JZUuSJEl1aVrgzsy9emg+rY/lvw98v7qKJEmSpMZrqS4lkiRJUqcxcEuSJEkVMnBLkiRJFZrvwB0RK0XESo0sRpIkSeo0dQXuiFg1IiZGxGxgFjArIp6JiAkR4ZMfJUmSpG76PUpJRIyieLz6CGAacFs5a13gM8A2ETE+Mx9udJGSJElSu6pnWMCjgOWBj2TmhbUzImJ74NxymX0aVp0kSZLU5urpUvIh4BfdwzZAZl4E/BLYrlGFSZIkSZ2gnsC9PHBPH/PvAZZboGokSZKkDlNP4J5B8Sj23mxeLiNJkiSpVE/g/iOwe0T8MCKW7WqMiGUi4gfAx4FJjS5QkiRJamf13jT5fuAbwNcj4pGyfVVgEPB34OjGlidJkiS1t35f4c7Mlyi6lHwB+CvwYvm6BNgf2Coz/1VBjZIkSVLbqucKN5n5GnBq+ZIkSZI0D/2+wh0Rl0fE1n3M3yoiLm9MWZIkSVJnqOemyS2B4X3MXxnYYoGqkSRJkjpMPYF7XpYDXm7g9iRJkqS212cf7oh4NzC2pun9EdHTOisABwC3N640SZIkqf3N66bJnYHvlO+TYoSSL/Sy7PPAVxpUlyRJktQR5hW4JwBXAAFcDvwAuLTbMgm8ANyemXMaXJ8kSZLU1voM3Jn5IPAgQER8FrgyM6cvhLokSZKkjtDvcbgzc2KVhUiSJEmdqJGjlEiSJEnqxsAtSZIkVcjALUmSJFXIwC1JkiRVyMAtSZIkVajfo5R0iYihwCbAcOCyzJzV8KokSZKkDlHXFe6I+H/ATOCvwBnAf5TtK0fEnIj4fONLlCRJktpXvwN3ROwKnAxMAfajePokAJn5OHAxsFOD65MkSZLaWj1XuA8FpmTmzsCfe5g/FRjTkKokSZKkDlFP4F4POK+P+Y8CKy9YOZIkSVJnqSdwvz6P5VcFXlywciRJkqTOUk/gvgnYtqcZEbEIsDtwXSOKkiRJkjpFPYH7JGD7iDgKWKFr/Yj4d+CPFCOWnNjg+iRJkqS21u9xuDNzUkSsBxwBfLNsvphitJIAjszMixpfoiRJktS+6nrwTWb+Z0ScC3wSeBdF0L4H+F1mTq2gPkmSJKmt1f2kycy8AbihglokSZKkjlPXkyYlSZIk1aeuK9wRsQawP7A2sCI1T5ssZWZu3aDaJEmSpLbX78AdER+jGI1kMeA54JmqipIkSZI6RT1XuH8MPAzsnJm3VFSPJEmS1FHq6cM9GjjRsC1JkiT1Xz2B+wFgcFWFSJIkSZ2onsD9U2C/iBhaUS2SJElSx6nnSZOnRMQywG0RMRGYDrzew3JnNK48SZIkqb3VM0rJcGAXYBTw7V4WS8DALUmSJJXqGaXkV8BGwAnAVTgsoCRJkjRP9QTurYGfZebXqypGkiRJ6jT13DT5MnBvVYVIkiRJnaiewP0XYJuqCpEkSZI6UT2B+xBg9Yg4MSLWioioqihJkiSpU9TTh/tJilFI3gN8CaCHzJ2ZWc82JUmSpI5WTzg+gyJwS5IkSeqneh58s0+FdUiSJEkdqZ4+3A0VEadHxOMRcWtN2woRcWlE3FN+Xb5sj7Lv+L0RcXNEbNisuiVJkqR6NC1wAxOA7bq1HQ5Mzsy1gcnlNMD2wNrla3/glwupRkmSJGmB9Bq4I+KNiHgtIhavmX59Hq/X+rvjzPwb8HS35h2BieX7icBONe1nZOEaYLmIWKW/+5IkSZKapa8+3F03Sb7ebbpKwzPz0fL9Y8Dw8v1qwMM1y80o2x5FkiRJamG9Bu7M3CciRgGLA/9a2DdNZmZGRN0BPyL2p+h2wqhRoxpelyRJklSPefXhfgDYeWEUUprV1VWk/Pp42T4TWL1muZFl29tk5imZOS4zxw0bNqzSYiVJkqR5mVfgXthPkzwf2Lt8vzfw55r2z5SjlYwHnq3peiJJkiS1rKY9FTIizgS2BFaKiBnAd4AfAWdHxL7Ag8DHy8UvBD4M3Au8BHx2oRcsSZIkzYemBe7M3KuXWVv3sGxSPk5ekiRJaif9Cdzvj4h6nkh5xgLUI0mSJHWU/gTpuaN+zENQDBto4JYkSZJK/QncpwDXVF2IJEmS1In6E7ivysw/VF6JJEmS1IHmNSygJEmSpAVg4JYkSZIqZOCWJEmSKtRnH+7MNJBLkiRJC8BALUmSJFXIwC1JkiRVyMAtSZIkVcjALUmSJFXIwC1JkiRVyMAtSZIkVcjALUmSJFXIwC1JkiRVyMAtSZIkVcjALUmSJFXIwC1JkiRVyMAtSZIkVcjALUmSJFXIwC1JkiRVyMAtSZIkVcjALUmSJFXIwC1JkiRVyMAtSZIkVcjALUmSJFXIwC1JkiRVyMAtSZIkVcjALUmSJFXIwC1JkiRVyMAtSZIkVcjALUmSJFXIwC1JkiRVyMAtSZIkVcjALUmSJFXIwC1JkiRVyMAtSZIkVcjALUmSJFXIwC1JkiRVyMAtSZIkVcjALUmSJFXIwC1JkiRVyMAtSZIkVcjALUmSJFXIwC1JkiRVyMAtSZIkVcjALUmSJFXIwC1JkiRVyMAtSZIkVcjALUmSOs5iLEZENPQ1asSoZn8stalFm12AJEntpivMNdLqw1fnocceaug2B7JXeZUpTGnoNreatVVDtzfQDaTvIwO3JEl1MsxJC24gfR/ZpUSSJEmqkIFbkiRJqlBLdimJiOnA88DrwGuZOS4iVgAmAaOB6cDHM/OZZtUoSZIk9UcrX+HeKjPHZua4cvpwYHJmrg1MLqclSZKkltbKgbu7HYGJ5fuJwE7NK0WSJEnqn1YN3An8NSKuj4j9y7bhmflo+f4xYHhzSpMkSZL6ryX7cAObZebMiFgZuDQi7qydmZkZEdnTimVA3x9g1CgHqJckSVJzteQV7sycWX59HDgPeC8wKyJWASi/Pt7Luqdk5rjMHDds2LCFVbIkSZLUo5YL3BExNCKW7noPfAi4FTgf2LtcbG/gz82pUJIkSeq/VuxSMhw4r3zU56LAHzLz4oi4Djg7IvYFHgQ+3sQaJUmSpH5pucCdmfcD6/fQ/hSw9cKvSJIkSZp/LdelRJIkSeokBm5JkiSpQgZuSZIkqUIGbkmSJKlCBm5JkiSpQgZuSZIkqUIGbkmSJKlCBm5JkiSpQgZuSZIkqUIGbkmSJKlCBm5JkiSpQgZuSZIkqUIGbkmSJKlCBm5JkiSpQgZuSZIkqUIGbkmSJKlCBm5JkiSpQgZuSZIkqUIGbkmSJKlCBm5JkiSpQgZuSZIkqUIGbkmSJKlCBm5JkiSpQgZuSZIkqUIGbkmSJKlCBm5JkiSpQgZuSZIkqUIGbkmSJKlCBm5JkiSpQgZuSZIkqUIGbkmSJKlCBm5JkiSpQgZuSZIkqUIGbkmSJKlCBm5JkiSpQgZuSZIkqUIGbkmSJKlCBm5JkiSpQgZuSZIkqUIGbkmSJKlCBm5JkiSpQgZuSZIkqUIGbkmSJKlCBm5JkiSpQgZuSZIkqUIGbkmSJKlCBm413KgRo4iIhr5GjRjV7I8lSZI0XxZtdgHqPA/PepgpTGnoNreatVVDtydJkrSweIVbkiRJqpCBWxqA7PbT+jxHktQ57FIiDUB2+2l9niNJ6hxe4ZYkSZIqZOCWJEmSKmTgliTNl9EjRjS8n7kay3PU+jxHA4N9uAe4ESNHMGvmrGaXoT54jlrfQD1HD86aRTZ4m0aFxvIctT7P0cDQdoE7IrYDfgYMAn6TmT9qckltbdbMWXBkgzfa6O0NcJ6j1uc5kiT1pa26lETEIOBkYHtgXWCviFi3uVVJkiRJvWurwA28F7g3M+/PzFeAs4Adm1yTJEmS1Kt2C9yrAQ/XTM8o21pOFTdBDBo01BsrWtyIEaM9Ry3OcyRJWtgis9Fd9asTEbsB22XmfuX0p4GNM/PAmmX2B/YvJ/8duGuhF9peVgKebHYR6pPnqPV5jlqb56f1eY5an+do3tbIzGE9zWi3myZnAqvXTI8s2+bKzFOAUxZmUe0sIqZm5rhm16HeeY5an+eotXl+Wp/nqPV5jhZMu3UpuQ5YOyLWjIjFgT2B85tckyRJktSrtrrCnZmvRcSBwCUUwwKenpm3NbksSZIkqVdtFbgBMvNC4MJm19FB7H7T+jxHrc9z1No8P63Pc9T6PEcLoK1umpQkSZLaTbv14ZYkSZLaioFbkiRJqpCBu41ExOoR8UBErFBOL19Oj+5h2TUi4oaImBYRt0XEF2vmvScibomIeyPixPDJHW/hcW5PnXTeImKniFi3l3mjI+LWhV1TszTqvKpvHuf21I7nLSIOiogle5m3T0SctLBrWhjsw91mIuIw4J2ZuX9E/BqYnpk/7GG5xSnO78sRsRRwK/C+zHwkIq4FvgL8k+IG1BMz86KF+DFa3kA7zhGxaGa+1uw6FlSnnLeImABckJnn9DBvdDlvzMKsqZkacV4XcsltqVOPc6f8fOtNu523iJgOjMvMtz1EJyL2Kecd2H1e28tMX230AhYDbgYOAm4DFuvHOisCDwGrAqsAd9bM2wv4dfn+K8Dt5fbPKtuGAqcD1wI3AjuW7YOAYym+YW8GvtzsYzPQjzMwHfgucANwC/Cusn0F4E/l+tcA7y7bjwR+B/wdOLOcnghcBTwI7AL8pNzWxf05Bs1+tel5+1HNdo8F3gc8DTwATAPWAt4D3FS+jgFubfaxbrPzOgiYUJ6PW4CDy2XWKv9tX1/+u+/6nhkOnFdzzN/X7GMwkI8zMBq4Azi1rOuvwBLlvLEUP9duLre1fNl+BfBTYCrwtXL6hHL6DmAj4FzgHuDoZh/7Dj1vQ4G/lMvcCuxB8XP0lXI/U8rlPgvcTfFz9FTgpGYf00rOU7ML8DUfJw22BRLYZh7LrV5+E74EfKlsGwdcVrPM+ymulgE8Agwu3y9Xfv0B8KmutvKbYijw/4BzgEXLeSs0+7gM9ONMEbi/XL4/APhN+f7nwHfK9x8AppXvjyx/kC5RM301xQ/v9cvPs3057zxgp2afk047bxT/6d3Fm39t7NruBGC3muVuBjYv3w+4wN2A8/oe4NKaZbqO82Rg7fL9xsDl5ftJwEHl+0HAss3+/AP5OFME7teAseX02TXfdzcDW5Tvvwf8tHx/BfCLmm1cAfy4fP/V8vt5FWAwMANYsdnHvgPP267AqTXTy5ZfpwMrle9XoQj+w4DFKS4AdWTgtg93e9oeeBTo80/KmflwZr4beCewd0QMn8d2bwZ+HxGfovjhBvAh4PCImEbxA2sIMAr4IMWVv9fKfT09fx+lpbXjcT63/Ho9xX9SAJtRXMkmMy8HVoyIZcp552fmv2rWvygzX6W4+jCI4uoG5fRo2kM7nbdngTnAaRGxC8V/gm8REctR/Af4t7Lpd/Oos1MtyHm9H3hHRPw8IrYDniv/pP4+4I/l+fs1xX/+UPxi+stye69n5rNVfKAW1arH+YHMnFa+vx4YHRHLUnxvXFm2TwQ2r1lnUrdtdD2Z+hbgtsx8NDNfLuteva/P2wZa8bzdAmwTET+OiPf3stzGwBWZ+URmvsLbz1nHMHC3mYgYC2wDjAcOjohV+l4DsuifdSvF1bqZwMia2SPLNoAdgJOBDYHrImJRIIBdM3Ns+RqVmXc06vO0qjY+zi+XX1+nfw+2erGn9TPzDeDVLC9BAG/0c3tN1W7nrQzk76W4Gv4R3vwFRzUW9Lxm5jMUf7W5Avgi8BuK//9m15y7sZm5TkUfoS20+HF+ueb9Av18o/h5Vru9tvj51ptWPW+ZeTfFz8tbgKMj4r/qWb/TGLjbSEQExW+VB2XmQxR/Wj62l2VHRsQS5fvlKa5y3pWZj1L89jq+3N5ngD9HxCLA6pk5BfgGsCywFHAJ8OVyWSJig3IXlwJfKEMHXXdId4IOPM5XAZ8s198SeDIzn5uP7bS0djxv5VWkZbN4gu7BFP/pATwPLA2QmbOB2RGxWTnvk3UfnDbWiPMaESsBi2Tm/wD/CWxYfg88EBG7d+0nIrqO/2SKbkFExKDySmpHa8fjXF4xfSYi3l82fRq4so9VOk4rn7eIWBV4KTP/u6xrw3LW3J9vFDenbxERK0bEYsDu83ssWp2Bu718HngoMy8tp38BrBMRW/Sw7DrAPyPiJoofQMdm5i3lvAMofoO9F7gPuIii+8B/R8QtFDd/nVj+R38U5Q0ZEXFbOU25/kNl+03AJxr6SZur047zkcB7IuJmihv09p6PbbSDdjxvSwMXlOfmauCQsv0s4NCIuDEi1qK4qejkKP60O9CGl2zEeV0NuKI8fv8NfLNc/pPAvuXytwE7lu1fBbYqz/f1QI9DNHaYdj3OewPHlN9DYyn6cQ8krXze1gOuLbf7HeDosv0U4OKImFJe5DgS+AdF/+2O/Qu6wwJKkiRJFfIKtyRJklShtr1JQIWIWI+3j1rwcmZu3Ix6OlUrHeeIOA9Ys1vzNzLzkoVdS6vzvHWmVjqvnWxhH+eIWJGif3B3W2fmU1XssxN53lqTXUokSZKkCtmlRJIkSaqQgVuSJEmqkIFbkiRJqpCBW5JaRERsGRFZ83o9Ip6JiFsjYmJEbNf1kJ353P7YiDgyIkY3sOyGiIh9IuKgZtchSVVwlBJJaj1nAhdSPORmaeDfgZ0onnx5WUTsXj54p15jKR5AcQUwfcHLbKh9gNHAT5tahSRVwMAtSa3nhvJxyHNFxCHATyieRnkmsH0zCpMk1c8uJZLUBjLz9cz8GsUj4LeLiM0AImLViDguIqaV3U/mRMTtEfGNiBjUtX5EHAn8tpycUtNtZUI5f+mIODoi/hkRT0bEyxFxb0T8KCKWrK0lIhaJiIMi4uaIeD4inouIuyLitIhYrNuy4yLivJpt3hURR0TEojXLTAe2ANbo1qVmywYfRklqCq9wS1J7OQ3YDNiBIny/G9gFOA+4D1gM2A74EfAO4AvleucCqwD7Az8A7ijb7yu/rgbsB/wP8AfgNYoQfBiwAbBtTQ1HAN8D/hf4FfA6xUN9PgYMBl4FiIgdyv3eCxwHPA1sUq47Fti93N5BwA+BlYCDa/ZzB5LUAXzwjSS1iPKK7hTg0Mw8tpdlNgSuB87NzF0jYglgTnb7YR4RvwM+AYzMzEfLtn0ornJvlZlXdFt+cSAz89Vu7UcB/wlsnJnXlm03AEMyc90+PssQin7idwMfyMzXauYdDBxfW0dEXAGMzszRvW1TktqVXUokqb08V35dBiAz/9UVtiNi8YhYISJWAi6h+Bk/rj8bzcxXusJ2RCwaEcuX27msXKT2sdDPAqt1dWvpxTbAcIqAv1xErNT1orghFOBD/alNktqdXUokqb0sU359DopwDBxOMYLJOylGNqm1fH83HBEHAF8E/oO3X5Cp3c63gD8BV0XEIxSjnvwFOCczXymXWaf8enofuxze39okqZ0ZuCWpvby7/HpX+fV44MvAJOD7wOMUfag3BH5MP/+SWY6CchzwV+BE4BHgFYq+3RNqt5OZ/4iItSj6dW9Vvj4B/GdEbJaZT/Nm8D8UmNbLbh/pT22S1O4M3JLUXvYtv/6l/Ppp4G+ZuWftQhHxzh7W7eumnU9T9LnePjPfqNnOdj0tnJkvUNxg+T/lcgcAJ5f1HQPcUy76YmZe1tM26qhNktqafbglqQ1ExKCIOJZihJILM/Pv5azX6daNJCKG8tbRPrq8UH5doYd5r1OE3rnbqumu0r2WlXpY/4Zu276E4mr74RHxtv1FxBIRsXS32pZfkCdpSlKr8gq3JLWeDSPiU+X72idNrkHR5eMTNcueA3whIiZR3OA4HPgc8FQP270OeAM4IiKWB14EHsjMf5bb+SFwUUScS9FX/BOUQ/x1c0dEXAP8k6JbSNdwg68AZwFk5osR8RmKvt53RcTpFMMDLge8i2Iow50p+n8DXAN8BDgpIv6P4heAyzPz8XkeLUlqcQZuSWo9e5WvNyiu/M4ArgTOzMyLuy17CPA88HFgR+Bh4BSKcP2WrhyZ+VBEfA74BvBLijG7J1IE52Morm7vC/wMeIyiX/hvgdu77fM44MPAV4BlKa5kXwP8MDNvqtnfJRGxEcVV8k8Bw4BnKMb+Ph64uWabJ1CMG74bxY2bi1D0DTdwS2p7jsMtSZIkVcg+3JIkSVKFDNySJElShQzckiRJUoUM3JIkSVKFDNySJElShQzckiRJUoUM3JIkSVKFDNySJElShQzckiRJUoUM3JIkSVKF/j/+abUnbqkB9gAAAABJRU5ErkJggg==\n",
      "text/plain": [
       "<Figure size 864x576 with 1 Axes>"
      ]
     },
     "metadata": {
      "needs_background": "light"
     },
     "output_type": "display_data"
    },
    {
     "data": {
      "image/png": "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\n",
      "text/plain": [
       "<Figure size 864x576 with 1 Axes>"
      ]
     },
     "metadata": {
      "needs_background": "light"
     },
     "output_type": "display_data"
    },
    {
     "name": "stdout",
     "output_type": "stream",
     "text": [
      "Convolutional Neural Network Train Time: 71 (seconds)\n"
     ]
    }
   ],
   "source": [
    "from sklearn.metrics import confusion_matrix, f1_score, precision_score, recall_score\n",
    "\n",
    "# Create all best models\n",
    "knn_classifier = KNeighborsClassifier(n_neighbors=1)\n",
    "svm_classifier = svm.SVC(C=100, gamma = 'scale', kernel=\"rbf\")\n",
    "rf_classifier = RandomForestClassifier(n_estimators = 200, max_depth = 20, bootstrap = False, n_jobs = -1)\n",
    "cnn_classifier = tf.keras.models.Sequential([\n",
    "                    layers.Conv2D(32, (3, 3), activation='relu', input_shape = (288, 432, 4)),\n",
    "                    layers.MaxPooling2D((2, 2)),\n",
    "                    layers.Conv2D(16, (3, 3), activation='relu'),\n",
    "                    layers.Flatten(),\n",
    "                    layers.Dense(64, activation='relu'),\n",
    "                    layers.Dense(10),\n",
    "                ])\n",
    "cnn_classifier.compile(optimizer='adamax',loss=tf.keras.losses.SparseCategoricalCrossentropy(from_logits=True),metrics=['accuracy'])\n",
    "\n",
    "# Compare runtimes during hyperparameter selection\n",
    "knn_hypertimes = [knn_csv30sec_time,\n",
    "                knn_csv30sec_norm_time,\n",
    "                knn_csv30sec_std_time,\n",
    "                knn_csv3sec_time,\n",
    "                knn_csv3sec_norm_time,\n",
    "                knn_csv3sec_std_time]\n",
    "svm_hypertimes = [svm_csv30sec_time,\n",
    "                       svm_csv30sec_norm_time,\n",
    "                       svm_csv30sec_std_time,\n",
    "                       svm_csv3sec_time,\n",
    "                       svm_csv3sec_norm_time,\n",
    "                       svm_csv3sec_std_time]\n",
    "rbf_hypertimes = [rbf_svm_csv30sec_time,\n",
    "                    rbf_svm_csv30sec_norm_time,\n",
    "                    rbf_svm_csv30sec_std_time,\n",
    "                    rbf_svm_csv3sec_time,\n",
    "                    rbf_svm_csv3sec_norm_time,\n",
    "                    rbf_svm_csv3sec_std_time,]\n",
    "rf_hypertimes = [rf_csv30sec_time,\n",
    "               rf_csv30sec_norm_time,\n",
    "               rf_csv30sec_std_time,\n",
    "               rf_csv3sec_time,\n",
    "               rf_csv3sec_norm_time,\n",
    "               rf_csv3sec_std_time]\n",
    "\n",
    "# Compare train times\n",
    "knn_traintimes = []\n",
    "svm_traintimes = []\n",
    "rf_traintimes = []\n",
    "for i in [(X_30sec_fulltrain, y_30sec_fulltrain),(X_30sec_norm_fulltrain, y_30sec_fulltrain),(X_30sec_std_fulltrain, y_30sec_fulltrain),(X_3sec_fulltrain, y_3sec_fulltrain),(X_3sec_norm_fulltrain, y_3sec_fulltrain),(X_3sec_std_fulltrain, y_3sec_fulltrain)]:\n",
    "    temp = %timeit -o knn_classifier.fit(i[0],i[1])\n",
    "    knn_traintimes.append(int(temp.average * 1e9))\n",
    "    temp = %timeit -o svm_classifier.fit(i[0],i[1])\n",
    "    svm_traintimes.append(int(temp.average * 1e9))\n",
    "    temp = %timeit -o rf_classifier.fit(i[0],i[1])\n",
    "    rf_traintimes.append(int(temp.average * 1e9))\n",
    "cnn_traintimes = []\n",
    "X_images_fulltrain_tens = tf.convert_to_tensor(X_images_fulltrain, dtype=float)\n",
    "y_images_fulltrain_tens = tf.convert_to_tensor(y_images_fulltrain.astype(np.float32), dtype=float)\n",
    "X_images_test_tens = tf.convert_to_tensor(X_images_test, dtype=float)\n",
    "y_images_test_tens = tf.convert_to_tensor(y_images_test.astype(np.float32), dtype=float)\n",
    "temp = %timeit -r 1 -n 1 -o cnn_classifier.fit(X_images_fulltrain_tens, y_images_fulltrain_tens, epochs=10)\n",
    "cnn_traintimes.append(int(temp.average))\n",
    "\n",
    "# Print class names\n",
    "print('\\nClass names: ')\n",
    "print(genres)\n",
    "\n",
    "# Compare confusion matrices and other metrics\n",
    "knn_classifier = KNeighborsClassifier(n_neighbors=1)\n",
    "svm_classifier = svm.SVC(C=100, gamma = .001, kernel=\"rbf\")\n",
    "rf_classifier = RandomForestClassifier(n_estimators = 200, max_depth = 20, bootstrap = False, n_jobs = -1)\n",
    "\n",
    "knn_classifier.fit(X_3sec_norm_fulltrain, y_3sec_fulltrain)\n",
    "y_pred = knn_classifier.predict(X_3sec_norm_test)\n",
    "knn_confusion = confusion_matrix(y_3sec_test, y_pred)\n",
    "FP = knn_confusion.sum(axis=0) - np.diag(knn_confusion)\n",
    "FN = knn_confusion.sum(axis=1) - np.diag(knn_confusion)\n",
    "TP = np.diag(knn_confusion)\n",
    "knn_precision = np.mean(TP/(TP+FP))\n",
    "knn_recall = np.mean(TP/(TP+FN))\n",
    "knn_f1 = (2*knn_precision*knn_recall)/(knn_precision+knn_recall)\n",
    "knn_acc = np.mean(y_3sec_test == y_pred)\n",
    "print('\\nKNN Confusion Matrix')\n",
    "print(knn_confusion)\n",
    "print('KNN F1 Score - ' + str(knn_f1))\n",
    "print('KNN Precision Score - ' + str(knn_precision))\n",
    "print('KNN Recall Score - ' + str(knn_recall))\n",
    "print('KNN Accuracy - ' + str(knn_acc))\n",
    "\n",
    "svm_classifier.fit(X_3sec_std_fulltrain, y_3sec_fulltrain)\n",
    "y_pred = svm_classifier.predict(X_3sec_std_test)\n",
    "svm_confusion = confusion_matrix(y_3sec_test, y_pred)\n",
    "FP = svm_confusion.sum(axis=0) - np.diag(svm_confusion)\n",
    "FN = svm_confusion.sum(axis=1) - np.diag(svm_confusion)\n",
    "TP = np.diag(svm_confusion)\n",
    "svm_precision = np.mean(TP/(TP+FP))\n",
    "svm_recall = np.mean(TP/(TP+FN))\n",
    "svm_f1 = (2*svm_precision*svm_recall)/(svm_precision+svm_recall)\n",
    "svm_acc = np.mean(y_3sec_test == y_pred)\n",
    "print('\\nSVM Confusion Matrix')\n",
    "print(svm_confusion)\n",
    "print('SVM F1 Score - ' + str(svm_f1))\n",
    "print('SVM Precision Score - ' + str(svm_precision))\n",
    "print('SVM Recall Score - ' + str(svm_recall))\n",
    "print('SVM Accuracy - ' + str(svm_acc))\n",
    "\n",
    "rf_classifier.fit(X_3sec_std_fulltrain, y_3sec_fulltrain)\n",
    "y_pred = rf_classifier.predict(X_3sec_std_test)\n",
    "rf_confusion = confusion_matrix(y_3sec_test, y_pred)\n",
    "FP = rf_confusion.sum(axis=0) - np.diag(rf_confusion)\n",
    "FN = rf_confusion.sum(axis=1) - np.diag(rf_confusion)\n",
    "TP = np.diag(rf_confusion)\n",
    "rf_precision = np.mean(TP/(TP+FP))\n",
    "rf_recall = np.mean(TP/(TP+FN))\n",
    "rf_f1 = (2*rf_precision*rf_recall)/(rf_precision+rf_recall)\n",
    "rf_acc = np.mean(y_3sec_test == y_pred)\n",
    "print('\\nRandom Forest Confusion Matrix')\n",
    "print(rf_confusion)\n",
    "print('Random Forest F1 Score - ' + str(rf_f1))\n",
    "print('Random Forest Precision Score - ' + str(rf_precision))\n",
    "print('Random Forest Recall Score - ' + str(rf_recall))\n",
    "print('Random Forest Accuracy - ' + str(rf_acc))\n",
    "\n",
    "y_pred = cnn_classifier.predict(X_images_test)\n",
    "y_pred_classes = np.array([])\n",
    "for i in range(len(y_pred)):\n",
    "    y_pred_classes = np.append(y_pred_classes, np.argmax(y_pred[i]))\n",
    "cnn_confusion = tf.math.confusion_matrix(y_images_test.astype(int), y_pred_classes.astype(int)).numpy()\n",
    "FP = np.sum(cnn_confusion.sum(axis=0) - np.diag(cnn_confusion))\n",
    "FN = np.sum(cnn_confusion.sum(axis=1) - np.diag(cnn_confusion))\n",
    "TP = np.sum(np.diag(cnn_confusion))\n",
    "cnn_precision = np.mean(TP/(TP+FP))\n",
    "cnn_recall = np.mean(TP/(TP+FN))\n",
    "cnn_f1 = (2*cnn_precision*cnn_recall)/(cnn_precision+cnn_recall)\n",
    "cnn_acc = np.mean(y_images_test.astype(int) == y_pred_classes.astype(int))\n",
    "print('\\nConvolutional Neural Network Confusion Matrix')\n",
    "print(cnn_confusion)\n",
    "print('Convolutional Neural Network F1 Score - ' + str(cnn_f1))\n",
    "print('Convolutional Neural Network Precision Score - ' + str(cnn_precision))\n",
    "print('Convolutional Neural Network Recall Score - ' + str(cnn_recall))\n",
    "print('Convolutional Neural Network Accuracy - ' + str(cnn_acc))\n",
    "\n",
    "# Plot results\n",
    "bar1 = np.arange(len(knn_traintimes))\n",
    "bar2 = [x + 0.2 for x in bar1]\n",
    "bar3 = [x + 0.2 for x in bar2]\n",
    "bar4 = [x + 0.2 for x in bar3]\n",
    "\n",
    "fig = plt.subplots(figsize = (12, 8))\n",
    "plt.bar(bar1, knn_hypertimes, color = 'r', width = 0.2, edgecolor = 'black', label = 'knn')\n",
    "plt.bar(bar2, svm_hypertimes, color = 'b', width = 0.2, edgecolor = 'black', label = 'linear svm')\n",
    "plt.bar(bar3, rbf_hypertimes, color = 'g', width = 0.2, edgecolor = 'black', label = 'rbf svm')\n",
    "plt.bar(bar4, rf_hypertimes, color = 'm', width = 0.2, edgecolor = 'black', label = 'rf')\n",
    "plt.title('Hyperparameter selection times', fontsize = 15)\n",
    "plt.ylabel('Time to Run (seconds)', fontsize = 18)\n",
    "plt.xlabel('Dataset', fontsize = 18)\n",
    "plt.xticks([x + 0.3 for x in range(len(bar1))], ['X_30sec', 'X_30sec_norm', 'X_30sec_std', 'X_3sec', 'X_3sec_norm', 'X_3sec_std'])\n",
    "plt.legend()\n",
    "plt.show()\n",
    "\n",
    "fig1 = plt.subplots(figsize = (12, 8))\n",
    "plt.bar(bar1, knn_traintimes, color = 'r', width = 0.2, edgecolor = 'black', label = 'knn')\n",
    "plt.bar(bar2, svm_traintimes, color = 'b', width = 0.2, edgecolor = 'black', label = 'svm')\n",
    "plt.bar(bar3, rf_traintimes, color = 'g', width = 0.2, edgecolor = 'black', label = 'rf')\n",
    "plt.title('Training times', fontsize = 15)\n",
    "plt.ylabel('Time to Train (milliseconds)', fontsize = 18)\n",
    "plt.xlabel('Dataset', fontsize = 18)\n",
    "plt.xticks(bar2, ['X_30sec', 'X_30sec_norm', 'X_30sec_std', 'X_3sec', 'X_3sec_norm', 'X_3sec_std'])\n",
    "plt.legend()\n",
    "plt.show()\n",
    "\n",
    "print('Convolutional Neural Network Train Time: ' + str(cnn_traintimes[0]) + ' (seconds)')"
   ]
  },
  {
   "cell_type": "code",
   "execution_count": null,
   "id": "b3a84a0f",
   "metadata": {},
   "outputs": [],
   "source": [
    "for X, y, data_set in features_datasets:\n",
    "    X_train, X_test, y_train, y_test = train_test_split(X, y, test_size=0.3, random_state=1)\n",
    "    for classifier in features_classifiers:\n",
    "        fit_start_time = time.time()\n",
    "        classifier.fit(X_train, y_train)\n",
    "        fit_stop_time = time.time()\n",
    "        y_pred=classifier.predict(X_test)\n",
    "        predict_stop_time = time.time()\n",
    "        classifier_accuracy = np.mean(y_pred == y_test)\n",
    "        fit_time = fit_stop_time - fit_start_time\n",
    "        predict_time = predict_stop_time - fit_stop_time\n",
    "        features_results.append([data_set, classifier.__class__.__name__, fit_time, predict_time, classifier_accuracy])\n"
   ]
  },
  {
   "cell_type": "code",
   "execution_count": null,
   "id": "2327bbd5-e345-49fc-92a9-08bd087a7e48",
   "metadata": {},
   "outputs": [],
   "source": [
    "name_mapping = {\n",
    "    \"RandomForestClassifier\": \"RF\",\n",
    "    \"SupportVectorClassifier\": \"SVM\",\n",
    "    \"KNeighborsClassifier\": \"KNN\",\n",
    "    \"DummyClassifier\": \"Random\",\n",
    "    \"ConvolutionalNeuralNetwork\": \"CNN\",\t\n",
    "}\n",
    "results_df[\"Classifier\"] = results_df[\"Classifier\"].replace(name_mapping)\n",
    "columns = [\"Dataset\", \"Classifier\", \"Fit Time (s)\", \"Predict Time (s)\", \"Accuracy\"]\n",
    "results_df = pd.DataFrame(features_results, columns=columns)\n",
    "\n",
    "results_df"
   ]
  },
  {
   "cell_type": "code",
   "execution_count": null,
   "id": "09db180b-6698-4ac0-9522-c14915733e1f",
   "metadata": {},
   "outputs": [],
   "source": [
    "dataset_averages = {}\n",
    "for dataset_name in results_df[\"Dataset\"].unique():\n",
    "    filtered_df = results_df[results_df[\"Dataset\"] == dataset_name]\n",
    "    averages = filtered_df[[\"Fit Time (s)\", \"Predict Time (s)\", \"Accuracy\"]].mean()\n",
    "    dataset_averages[dataset_name] = averages\n",
    "dataset_averages_df = pd.DataFrame.from_dict(dataset_averages, orient=\"index\")\n",
    "dataset_averages_df"
   ]
  },
  {
   "cell_type": "code",
   "execution_count": null,
   "id": "b000000d-1f8d-41ff-b67b-cfd33e0b4d73",
   "metadata": {},
   "outputs": [],
   "source": []
  },
  {
   "cell_type": "code",
   "execution_count": null,
   "id": "a6f6a6f5-e861-4bdc-8ade-eff27e34128a",
   "metadata": {},
   "outputs": [],
   "source": [
    "classifier_averages = {}\n",
    "for classifier_name in results_df[\"Classifier\"].unique():\n",
    "    filtered_df = results_df[results_df[\"Classifier\"] == classifier_name]\n",
    "    averages = filtered_df[[\"Fit Time (s)\", \"Predict Time (s)\", \"Accuracy\"]].mean()\n",
    "    classifier_averages[classifier_name] = averages.to_dict()  # Convert Series to dict\n",
    "classifier_averages_df = pd.DataFrame.from_dict(classifier_averages, orient=\"index\")\n",
    "classifier_averages_df "
   ]
  },
  {
   "cell_type": "code",
   "execution_count": null,
   "id": "489b7106-e565-4f63-bab9-1f08aa9a2206",
   "metadata": {},
   "outputs": [],
   "source": []
  },
  {
   "cell_type": "code",
   "execution_count": null,
   "id": "533135e1-15c6-4c9b-9a51-ea38224f3db7",
   "metadata": {},
   "outputs": [],
   "source": []
  },
  {
   "cell_type": "code",
   "execution_count": null,
   "id": "fd13e72c-583f-4b87-ab1a-70ce1c4bba6b",
   "metadata": {},
   "outputs": [],
   "source": []
  }
 ],
 "metadata": {
  "kernelspec": {
   "display_name": "Python 3 (ipykernel)",
   "language": "python",
   "name": "python3"
  },
  "language_info": {
   "codemirror_mode": {
    "name": "ipython",
    "version": 3
   },
   "file_extension": ".py",
   "mimetype": "text/x-python",
   "name": "python",
   "nbconvert_exporter": "python",
   "pygments_lexer": "ipython3",
   "version": "3.12.4"
  }
 },
 "nbformat": 4,
 "nbformat_minor": 5
}
