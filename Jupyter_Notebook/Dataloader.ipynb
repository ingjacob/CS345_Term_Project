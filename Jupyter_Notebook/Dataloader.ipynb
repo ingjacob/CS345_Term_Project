{
 "cells": [
  {
   "cell_type": "markdown",
   "id": "181e235d-06c1-4b0d-b714-ef59ef8410bb",
   "metadata": {},
   "source": [
    "# Music Genera Classification With the GTZAN dataset\n",
    "CS345 Fall 2024 Project   \n",
    "Wade McCaulley  \n",
    "Jacob Ingraham  "
   ]
  },
  {
   "cell_type": "code",
   "execution_count": 1,
   "id": "a98ce2c5-e32c-4b8e-a55b-ecb3acc9460c",
   "metadata": {},
   "outputs": [],
   "source": [
    "import numpy as np\n",
    "import pandas as pd\n",
    "import os\n",
    "import matplotlib.pyplot as plt\n",
    "from sklearn.model_selection import GridSearchCV\n",
    "import time"
   ]
  },
  {
   "cell_type": "code",
   "execution_count": 2,
   "id": "1cdc4e79-3859-4bcb-9e02-c04b647c2a12",
   "metadata": {},
   "outputs": [],
   "source": [
    "features_30_seconds_filepath = \"../Data/features_30_sec.csv\"\n",
    "features_3_seconds_filepath = \"../Data/features_3_sec.csv\"\n",
    "mel_spectrograms_filepath = \"../Data/images_original\"\n",
    "\n",
    "genres = [\"blues\", \"classical\" , \"country\", \"disco\", \"hiphop\", \"jazz\", \"metal\", \"pop\", \"reggae\", \"rock\"]"
   ]
  },
  {
   "cell_type": "code",
   "execution_count": 3,
   "id": "906f4bc1-2f5d-4cfa-a837-2a3ce5d17674",
   "metadata": {},
   "outputs": [],
   "source": [
    "'''loads the CSVs. Features are everything but the first col(filename), and the lables. The lables are the last column''' \n",
    "def loadCSVs(filepath):\n",
    "    data = pd.read_csv(filepath, dtype = object, delimiter = ',').values\n",
    "    X = data[:,2:-1]\n",
    "    y = data[:,-1:]\n",
    "    return X, y"
   ]
  },
  {
   "cell_type": "code",
   "execution_count": 4,
   "id": "7f664227-1b71-494d-abea-47dfa3d340a5",
   "metadata": {},
   "outputs": [],
   "source": [
    "'''This will turn the genere lables into np.array of ints'''\n",
    "def lable_to_int(lables, genres):\n",
    "    lable_int = np.array(lables)\n",
    "    for i in range(len(genres)):\n",
    "        lable_int[lable_int==genres[i]]=i\n",
    "    return lable_int \n"
   ]
  },
  {
   "cell_type": "code",
   "execution_count": 5,
   "id": "66b3e3d7-b630-486c-b4de-df74a1dec118",
   "metadata": {},
   "outputs": [],
   "source": [
    "'''#this will turn the png where each pixel is represented by 4 values into a single value. The first three are colors, and I think the forth is transparancy.'''\n",
    "def gray_scale_images(images):\n",
    "    gray_images = np.dot(images[..., :3], [0.2989, 0.5870, 0.1140])\n",
    "    return np.array(gray_images)"
   ]
  },
  {
   "cell_type": "code",
   "execution_count": 6,
   "id": "fdb525d5-d3cf-43a6-947b-974aff3e4a16",
   "metadata": {},
   "outputs": [],
   "source": [
    "'''loads the mel spectrograms into a np array of images. Each image is 288, 432 pixels, and each pixel is represented by four values'''\n",
    "def load_mel_spectrograms():\n",
    "    image_features = []\n",
    "    image_lables = []\n",
    "    for genre in genres:\n",
    "        print(\"Loading\", genre)\n",
    "        images_file_path = mel_spectrograms_filepath + \"/\" + genre\n",
    "        png_files = [f for f in os.listdir(images_file_path) if f.endswith('.png')]\n",
    "\n",
    "        for file in png_files:\n",
    "            file_path = images_file_path +\"/\"+ file\n",
    "            image = plt.imread(file_path)  # Load the image\n",
    "            image_features.append(image)\n",
    "            image_lables.append(genre)\n",
    "\n",
    "    return np.array(image_features), np.array(image_lables)"
   ]
  },
  {
   "cell_type": "code",
   "execution_count": 7,
   "id": "ea624ba4-f7df-44e0-920c-4bec63122ff7",
   "metadata": {},
   "outputs": [
    {
     "name": "stdout",
     "output_type": "stream",
     "text": [
      "(1000, 57) (1000,)\n",
      "(9990, 57) (9990,)\n"
     ]
    }
   ],
   "source": [
    "string_X_30sec, y_30sec = loadCSVs(features_30_seconds_filepath)\n",
    "X_30sec = string_X_30sec.astype(np.float64)\n",
    "string_X_3sec, y_3sec = loadCSVs(features_3_seconds_filepath)\n",
    "X_3sec = string_X_3sec.astype(np.float64)\n",
    "\n",
    "# reshape y to a 1d array\n",
    "y_30sec = y_30sec.ravel()\n",
    "y_3sec = y_3sec.ravel()\n",
    "\n",
    "print(X_30sec.shape, y_30sec.shape)\n",
    "print(X_3sec.shape, y_3sec.shape)\n"
   ]
  },
  {
   "cell_type": "code",
   "execution_count": 8,
   "id": "4e833a67-c7af-4aac-b059-fafbcac845eb",
   "metadata": {},
   "outputs": [
    {
     "name": "stdout",
     "output_type": "stream",
     "text": [
      "Loading blues\n",
      "Loading classical\n",
      "Loading country\n",
      "Loading disco\n",
      "Loading hiphop\n",
      "Loading jazz\n",
      "Loading metal\n",
      "Loading pop\n",
      "Loading reggae\n",
      "Loading rock\n"
     ]
    },
    {
     "data": {
      "text/plain": [
       "((999, 288, 432, 4), (999,))"
      ]
     },
     "execution_count": 8,
     "metadata": {},
     "output_type": "execute_result"
    }
   ],
   "source": [
    "X_images, y_images = load_mel_spectrograms()\n",
    "y_images = lable_to_int(y_images,genres)\n",
    "X_images.shape, y_images.shape"
   ]
  },
  {
   "cell_type": "code",
   "execution_count": 9,
   "id": "93bc9022",
   "metadata": {},
   "outputs": [],
   "source": [
    "from sklearn.model_selection import train_test_split\n",
    "X_images_train, X_images_temp, y_images_train, y_images_temp = train_test_split(X_images, y_images, test_size=0.2, shuffle=True, random_state=7)\n",
    "X_images_val, X_images_test, y_images_val, y_images_test = train_test_split(X_images_temp, y_images_temp, test_size=0.5, shuffle=True, random_state=7)"
   ]
  },
  {
   "cell_type": "code",
   "execution_count": 10,
   "id": "240058da-7c2b-4ef8-aadc-9a79df7d1fc1",
   "metadata": {},
   "outputs": [
    {
     "data": {
      "text/plain": [
       "(999, 288, 432)"
      ]
     },
     "execution_count": 10,
     "metadata": {},
     "output_type": "execute_result"
    }
   ],
   "source": [
    "#grayscale images \n",
    "X_images_gray = gray_scale_images(X_images)\n",
    "X_images_gray.shape"
   ]
  },
  {
   "cell_type": "code",
   "execution_count": 11,
   "id": "eb7fab7f-0d3b-4598-98f7-503e461ecfeb",
   "metadata": {},
   "outputs": [
    {
     "data": {
      "text/plain": [
       "((1000,), (9990,), (999,))"
      ]
     },
     "execution_count": 11,
     "metadata": {},
     "output_type": "execute_result"
    }
   ],
   "source": [
    "y_30sec_int = lable_to_int(y_30sec, genres)\n",
    "y_3sec_int = lable_to_int(y_3sec, genres)\n",
    "y_images_int = lable_to_int(y_images, genres)\n",
    "y_30sec_int.shape, y_3sec_int.shape, y_images_int.shape"
   ]
  },
  {
   "cell_type": "code",
   "execution_count": 12,
   "id": "2c7eb730-7c49-46a8-ba43-90d96b6354e4",
   "metadata": {},
   "outputs": [],
   "source": [
    "'''Create normalized and standardized versions of data'''\n",
    "X_30sec_norm = (X_30sec-np.min(X_30sec, axis=0))/(np.max(X_30sec,axis=0)-np.min(X_30sec,axis=0))\n",
    "X_3sec_norm = (X_3sec-np.min(X_3sec, axis=0))/(np.max(X_3sec,axis=0)-np.min(X_3sec,axis=0))\n",
    "X_30sec_std = (X_30sec-np.mean(X_30sec, axis=0))/(np.std(X_30sec, axis=0))\n",
    "X_3sec_std = (X_3sec-np.mean(X_3sec, axis=0))/(np.std(X_3sec, axis=0))"
   ]
  },
  {
   "cell_type": "code",
   "execution_count": 13,
   "id": "29bdc6be",
   "metadata": {},
   "outputs": [
    {
     "name": "stdout",
     "output_type": "stream",
     "text": [
      "True True\n",
      "True True\n",
      "-8.78829173176966e-18 1.0\n",
      "5.5902067966304e-18 1.0\n"
     ]
    }
   ],
   "source": [
    "'''Check norm and std data'''\n",
    "print(np.max(X_30sec_norm)==1,np.min(X_30sec_norm)==0)\n",
    "print(np.max(X_3sec_norm)==1,np.min(X_3sec_norm)==0)\n",
    "print(np.mean(X_30sec_std), np.std(X_30sec_std))\n",
    "print(np.mean(X_3sec_std), np.std(X_3sec_std))"
   ]
  },
  {
   "cell_type": "markdown",
   "id": "4c29eb03-d02c-4959-acbd-c26ad1c8af85",
   "metadata": {},
   "source": [
    "## Model Selection"
   ]
  },
  {
   "cell_type": "code",
   "execution_count": 14,
   "id": "efb5e714-32ce-470f-86d6-a33a23a768ad",
   "metadata": {},
   "outputs": [],
   "source": [
    "from sklearn.model_selection import cross_val_score\n",
    "from sklearn.model_selection import StratifiedKFold"
   ]
  },
  {
   "cell_type": "code",
   "execution_count": 15,
   "id": "04cb6aea-915a-4cf9-89b4-e8d8aa9d4132",
   "metadata": {},
   "outputs": [],
   "source": [
    "def girdSearchClassifier(model, features, labels, paramgrid):\n",
    "    start_time = time.time()\n",
    "    cv = StratifiedKFold(n_splits=5, random_state=0, shuffle=True)\n",
    "    classifier = GridSearchCV(model, paramgrid)\n",
    "    classifier.fit(features, labels)\n",
    "    accuracies = cross_val_score(classifier.best_estimator_, features, labels, cv=cv, \n",
    "                           scoring='accuracy')\n",
    "    accuracy = np.mean(accuracies)\n",
    "    run_time = time.time() - start_time\n",
    "\n",
    "\n",
    "    return classifier.best_estimator_, accuracy, run_time"
   ]
  },
  {
   "cell_type": "markdown",
   "id": "80a72e48-78da-46e4-87c1-4a51240ec4c0",
   "metadata": {},
   "source": [
    "## Perceptron"
   ]
  },
  {
   "cell_type": "code",
   "execution_count": 16,
   "id": "923f13fe-b3df-417b-912c-5afa7531741e",
   "metadata": {},
   "outputs": [],
   "source": [
    "#Just a place holder if we want to do it. "
   ]
  },
  {
   "cell_type": "markdown",
   "id": "ed679947-de17-4120-8bd7-e6297157328b",
   "metadata": {},
   "source": [
    "## Nearest Neighbor "
   ]
  },
  {
   "cell_type": "code",
   "execution_count": 17,
   "id": "097809fc-47cc-431c-82f7-e137e4a62e81",
   "metadata": {},
   "outputs": [],
   "source": [
    "from sklearn.neighbors import KNeighborsClassifier\n",
    "\n",
    "def testKNN(features, labels, paramgrid):\n",
    "\n",
    "    model = KNeighborsClassifier()\n",
    "    best_estimator, accuracy, run_time = girdSearchClassifier(model, features, labels, paramgrid)\n",
    "    \n",
    "    return best_estimator.get_params()['n_neighbors'], accuracy, run_time\n",
    "    "
   ]
  },
  {
   "cell_type": "code",
   "execution_count": 18,
   "id": "1f9da613-8225-464e-96a5-478f26b138dc",
   "metadata": {},
   "outputs": [
    {
     "name": "stdout",
     "output_type": "stream",
     "text": [
      "knn run csv 30sec\n",
      "run csv 30sec norm\n",
      "run csv 30sec std\n",
      "run csv 3sec\n",
      "run csv 3sec norm\n",
      "run csv 3sec std\n"
     ]
    },
    {
     "data": {
      "text/html": [
       "<div>\n",
       "<style scoped>\n",
       "    .dataframe tbody tr th:only-of-type {\n",
       "        vertical-align: middle;\n",
       "    }\n",
       "\n",
       "    .dataframe tbody tr th {\n",
       "        vertical-align: top;\n",
       "    }\n",
       "\n",
       "    .dataframe thead th {\n",
       "        text-align: right;\n",
       "    }\n",
       "</style>\n",
       "<table border=\"1\" class=\"dataframe\">\n",
       "  <thead>\n",
       "    <tr style=\"text-align: right;\">\n",
       "      <th></th>\n",
       "      <th>Dataset</th>\n",
       "      <th>Best n_neighbors</th>\n",
       "      <th>Accuracy</th>\n",
       "      <th>Run Time</th>\n",
       "    </tr>\n",
       "  </thead>\n",
       "  <tbody>\n",
       "    <tr>\n",
       "      <th>0</th>\n",
       "      <td>Features 30 sec</td>\n",
       "      <td>16</td>\n",
       "      <td>0.292000</td>\n",
       "      <td>2.117785</td>\n",
       "    </tr>\n",
       "    <tr>\n",
       "      <th>1</th>\n",
       "      <td>Features 30 sec norm</td>\n",
       "      <td>8</td>\n",
       "      <td>0.673000</td>\n",
       "      <td>1.509368</td>\n",
       "    </tr>\n",
       "    <tr>\n",
       "      <th>2</th>\n",
       "      <td>Features 30 sec std</td>\n",
       "      <td>8</td>\n",
       "      <td>0.672000</td>\n",
       "      <td>1.470914</td>\n",
       "    </tr>\n",
       "    <tr>\n",
       "      <th>3</th>\n",
       "      <td>Features 3 sec</td>\n",
       "      <td>256</td>\n",
       "      <td>0.288789</td>\n",
       "      <td>12.831023</td>\n",
       "    </tr>\n",
       "    <tr>\n",
       "      <th>4</th>\n",
       "      <td>Features 3 sec norm</td>\n",
       "      <td>8</td>\n",
       "      <td>0.883784</td>\n",
       "      <td>11.135160</td>\n",
       "    </tr>\n",
       "    <tr>\n",
       "      <th>5</th>\n",
       "      <td>Features 3 sec std</td>\n",
       "      <td>8</td>\n",
       "      <td>0.866266</td>\n",
       "      <td>11.332446</td>\n",
       "    </tr>\n",
       "  </tbody>\n",
       "</table>\n",
       "</div>"
      ],
      "text/plain": [
       "                Dataset  Best n_neighbors  Accuracy   Run Time\n",
       "0       Features 30 sec                16  0.292000   2.117785\n",
       "1  Features 30 sec norm                 8  0.673000   1.509368\n",
       "2   Features 30 sec std                 8  0.672000   1.470914\n",
       "3        Features 3 sec               256  0.288789  12.831023\n",
       "4   Features 3 sec norm                 8  0.883784  11.135160\n",
       "5    Features 3 sec std                 8  0.866266  11.332446"
      ]
     },
     "execution_count": 18,
     "metadata": {},
     "output_type": "execute_result"
    }
   ],
   "source": [
    "knn_param_grid = {\n",
    "    'n_neighbors': [1,2,4,8,16,32,64,128, 256, 512]\n",
    "}\n",
    "print(\"knn run csv 30sec\")\n",
    "knn_csv30sec_best_estimator, knn_csv30sec_accuracy, knn_csv30sec_time = testKNN(X_30sec, y_30sec, knn_param_grid)\n",
    "\n",
    "print(\"run csv 30sec norm\")\n",
    "knn_csv30sec_norm_best_estimator, knn_csv30sec_norm_accuracy, knn_csv30sec_norm_time = testKNN(X_30sec_norm, y_30sec, knn_param_grid)\n",
    "\n",
    "print(\"run csv 30sec std\")\n",
    "knn_csv30sec_std_best_estimator, knn_csv30sec_std_accuracy, knn_csv30sec_std_time = testKNN(X_30sec_std, y_30sec, knn_param_grid)\n",
    "\n",
    "print(\"run csv 3sec\")\n",
    "knn_csv3sec_best_estimator, knn_csv3sec_accuracy, knn_csv3sec_time = testKNN(X_3sec, y_3sec, knn_param_grid)\n",
    "\n",
    "print(\"run csv 3sec norm\")\n",
    "knn_csv3sec_norm_best_estimator, knn_csv3sec_norm_accuracy, knn_csv3sec_norm_time = testKNN(X_3sec_norm, y_3sec, knn_param_grid)\n",
    "\n",
    "print(\"run csv 3sec std\")\n",
    "knn_csv3sec_std_best_estimator, knn_csv3sec_std_accuracy, knn_csv3sec_std_time = testKNN(X_3sec_std, y_3sec, knn_param_grid)\n",
    "\n",
    "pd.DataFrame({\n",
    "    \"Dataset\": [\"Features 30 sec\", \"Features 30 sec norm\", \"Features 30 sec std\", \"Features 3 sec\", \"Features 3 sec norm\", \"Features 3 sec std\"],\n",
    "    \"Best n_neighbors\": [\n",
    "        knn_csv30sec_best_estimator,\n",
    "        knn_csv30sec_norm_best_estimator,\n",
    "        knn_csv30sec_std_best_estimator,\n",
    "        knn_csv3sec_best_estimator,\n",
    "        knn_csv3sec_norm_best_estimator,\n",
    "        knn_csv3sec_std_best_estimator\n",
    "    ],\n",
    "    \"Accuracy\": [\n",
    "        knn_csv30sec_accuracy,\n",
    "        knn_csv30sec_norm_accuracy,\n",
    "        knn_csv30sec_std_accuracy,\n",
    "        knn_csv3sec_accuracy,\n",
    "        knn_csv3sec_norm_accuracy,\n",
    "        knn_csv3sec_std_accuracy\n",
    "    ],\n",
    "    \"Run Time\": [\n",
    "        knn_csv30sec_time,\n",
    "        knn_csv30sec_norm_time,\n",
    "        knn_csv30sec_std_time,\n",
    "        knn_csv3sec_time,\n",
    "        knn_csv3sec_norm_time,\n",
    "        knn_csv3sec_std_time\n",
    "    ]\n",
    "})"
   ]
  },
  {
   "cell_type": "markdown",
   "id": "11292423-e20e-40c5-9613-7e4eb213dfe9",
   "metadata": {},
   "source": [
    "## SVM"
   ]
  },
  {
   "cell_type": "code",
   "execution_count": 19,
   "id": "35b05e8c-8b59-4319-a1f8-4b2e4dfea834",
   "metadata": {},
   "outputs": [],
   "source": [
    "from sklearn import svm\n",
    "from sklearn.preprocessing import StandardScaler\n",
    "\n",
    "def testSVM(features, labels, paramgrid):\n",
    "    X_standard_scaler = StandardScaler().fit(features)\n",
    "    features = X_standard_scaler.transform(features)\n",
    "    model = svm.SVC(kernel=\"linear\")\n",
    "    best_estimator, accuracy, run_time = girdSearchClassifier(model, features, labels, paramgrid)\n",
    "    \n",
    "    return best_estimator.get_params()['C'], best_estimator.get_params()['gamma'], accuracy, run_time"
   ]
  },
  {
   "cell_type": "markdown",
   "id": "279672f4-a1bc-45f7-9cde-0edd01bdcf05",
   "metadata": {},
   "source": [
    "### Features 3 seconds to large a dataset. Quadratic run time for larger data sets. \n",
    "\n",
    "\n"
   ]
  },
  {
   "cell_type": "code",
   "execution_count": 27,
   "id": "2338aeef-87cc-488d-8046-df03b2469a8e",
   "metadata": {},
   "outputs": [
    {
     "data": {
      "image/png": "[encoded data removed]",
      "text/plain": [
       "<Figure size 1000x600 with 1 Axes>"
      ]
     },
     "metadata": {},
     "output_type": "display_data"
    }
   ],
   "source": [
    "X_train, X_test, y_train, y_test = train_test_split(X_3sec, y_3sec, test_size = 0.01, random_state = 1)\n",
    "sizes = [100, 250, 500, 1000, 2500, 5000, 9000]\n",
    "\n",
    "linear_runtimes = []\n",
    "rbf_runtimes = []\n",
    "\n",
    "X_standard_scaler = StandardScaler().fit(X_train)\n",
    "X_train = X_standard_scaler.transform(X_train)\n",
    "for s in sizes:\n",
    "    start_time = time.time()\n",
    "    classifier = svm.SVC(C = 10, kernel='linear')\n",
    "    classifier.fit(X_train[:s], y_train[:s])\n",
    "    run_time = time.time() - start_time\n",
    "    linear_runtimes.append(run_time)\n",
    "\n",
    "\n",
    "\n",
    "for s in sizes:\n",
    "    start_time = time.time()\n",
    "    classifier = svm.SVC(C = 10, gamma = .1, kernel='rbf')\n",
    "    classifier.fit(X_train[:s], y_train[:s])\n",
    "    run_time = time.time() - start_time\n",
    "    rbf_runtimes.append(run_time)\n",
    "\n",
    "\n",
    "\n",
    "np_linear_runtimes = np.array(linear_runtimes)*5*5*5\n",
    "np_rbf_runtimes = np.array(rbf_runtimes)*5*5*5*5\n",
    "\n",
    "plt.figure(figsize=(10, 6))\n",
    "plt.scatter(sizes, np_linear_runtimes, label = 'linear SVM')\n",
    "plt.scatter(sizes, np_rbf_runtimes, label = 'rbf SVM')\n",
    "plt.xlabel('training set size')\n",
    "plt.ylabel('time to run grid search')\n",
    "plt.legend()\n",
    "plt.show()"
   ]
  },
  {
   "cell_type": "code",
   "execution_count": null,
   "id": "8cecb37c-5c82-4793-b725-8b257812bcd8",
   "metadata": {},
   "outputs": [
    {
     "name": "stdout",
     "output_type": "stream",
     "text": [
      "run csv 30sec\n"
     ]
    }
   ],
   "source": [
    "#gammas = np.logspace(-5, 2, num=8, endpoint=True, base=10.0)\n",
    "#Cs = np.logspace(-2, 4, num =7, endpoint=True, base=10.0)\n",
    "gammas = [.001, .01, 1, 10, 100]\n",
    "Cs = [1, .01, .1, 1, 10]\n",
    "\n",
    "rbf_svm_param_grid = [\n",
    "  {'C': Cs, \n",
    "   'gamma': gammas, \n",
    "   'kernel': ['rbf']},\n",
    " ]\n",
    "linear_svm_param_grid = [\n",
    "  {'C': Cs, \n",
    "   'kernel': ['linear']},\n",
    " ]\n",
    "\n",
    "print(\"run csv 30sec\")\n",
    "rbf_svm_csv30sec_best_estimator_c, rbf_svm_csv30sec_best_estimator_gamma, rbf_svm_csv30sec_accuracy, rbf_svm_csv30sec_time = testSVM(\n",
    "    X_30sec, y_30sec, rbf_svm_param_grid)\n",
    "\n",
    "print(\"run csv 30sec norm\")\n",
    "rbf_svm_csv30sec_norm_best_estimator_c, rbf_svm_csv30sec_norm_best_estimator_gamma, rbf_svm_csv30sec_norm_accuracy, rbf_svm_csv30sec_norm_time = testSVM(\n",
    "    X_30sec_norm, y_30sec, rbf_svm_param_grid)\n",
    "\n",
    "print(\"run csv 30sec std\")\n",
    "rbf_svm_csv30sec_std_best_estimator_c, rbf_svm_csv30sec_std_best_estimator_gamma, rbf_svm_csv30sec_std_accuracy, rbf_svm_csv30sec_std_time = testSVM(\n",
    "    X_30sec_std, y_30sec, rbf_svm_param_grid)\n",
    "\n",
    "print(\"run csv 30sec linear\")\n",
    "svm_csv30sec_best_estimator_c, svm_csv30sec_best_estimator_gamma, svm_csv30sec_accuracy, svm_csv30sec_time = testSVM(\n",
    "    X_30sec, y_30sec, linear_svm_param_grid)\n",
    "\n",
    "print(\"run csv 30sec norm linear\")\n",
    "svm_csv30sec_norm_best_estimator_c, svm_csv30sec_norm_best_estimator_gamma, svm_csv30sec_norm_accuracy, svm_csv30sec_norm_time = testSVM(\n",
    "    X_30sec_norm, y_30sec, linear_svm_param_grid)\n",
    "\n",
    "print(\"run csv 30sec std linear\")\n",
    "svm_csv30sec_std_best_estimator_c, svm_csv30sec_std_best_estimator_gamma, svm_csv30sec_std_accuracy, svm_csv30sec_std_time = testSVM(\n",
    "    X_30sec_std, y_30sec, linear_svm_param_grid)\n",
    "\n",
    "pd.DataFrame({\n",
    "    \"Dataset\": [\"Features 30 sec\", \"Features 30 sec norm\", \"Features 30 sec std\", \"Features 30 sec\", \"Features 30 sec norm\", \"Features 30 sec std\"],\n",
    "    \"Kernal\": [\"rbf\", \"rbf\", \"rbf\", \"linear\", \"linear\", \"linear\"],\n",
    "    \"Best C\": [\n",
    "        rbf_svm_csv30sec_best_estimator_c,\n",
    "        rbf_svm_csv30sec_norm_best_estimator_c,\n",
    "        rbf_svm_csv30sec_std_best_estimator_c,\n",
    "        svm_csv30sec_best_estimator_c,\n",
    "        svm_csv30sec_norm_best_estimator_c,\n",
    "        svm_csv30sec_std_best_estimator_c\n",
    "    ],\n",
    "    \"Best gamma\": [\n",
    "        rbf_svm_csv30sec_best_estimator_gamma,\n",
    "        rbf_svm_csv30sec_norm_best_estimator_gamma,\n",
    "        rbf_svm_csv30sec_std_best_estimator_gamma,\n",
    "        svm_csv30sec_best_estimator_gamma,\n",
    "        svm_csv30sec_norm_best_estimator_gamma,\n",
    "        svm_csv30sec_std_best_estimator_gamma\n",
    "    ],\n",
    "    \"Accuracy\": [\n",
    "        rbf_svm_csv30sec_accuracy,\n",
    "        rbf_svm_csv30sec_norm_accuracy,\n",
    "        rbf_svm_csv30sec_std_accuracy,\n",
    "        svm_csv30sec_accuracy,\n",
    "        svm_csv30sec_norm_accuracy,\n",
    "        svm_csv30sec_std_accuracy\n",
    "    ],\n",
    "    \"Run Time\": [\n",
    "        rbf_svm_csv30sec_time,\n",
    "        rbf_svm_csv30sec_norm_time,\n",
    "        rbf_svm_csv30sec_std_time,\n",
    "        svm_csv30sec_time,\n",
    "        svm_csv30sec_norm_time,\n",
    "        svm_csv30sec_std_time\n",
    "    ]\n",
    "})"
   ]
  },
  {
   "cell_type": "markdown",
   "id": "9947bcd2-18da-4039-a8b9-2242f825150a",
   "metadata": {},
   "source": [
    "## Convolutional Neural Network"
   ]
  },
  {
   "cell_type": "code",
   "execution_count": 23,
   "id": "7b5ea54f",
   "metadata": {},
   "outputs": [
    {
     "name": "stdout",
     "output_type": "stream",
     "text": [
      "TensorFlow version: 2.18.0\n"
     ]
    }
   ],
   "source": [
    "'''TensorFlow setup'''\n",
    "import tensorflow as tf\n",
    "from tensorflow.keras import layers, models\n",
    "print(\"TensorFlow version:\", tf.__version__)"
   ]
  },
  {
   "cell_type": "code",
   "execution_count": 24,
   "id": "e44f09d1",
   "metadata": {},
   "outputs": [
    {
     "name": "stderr",
     "output_type": "stream",
     "text": [
      "C:\\Users\\wadem\\miniconda3\\Lib\\site-packages\\keras\\src\\layers\\convolutional\\base_conv.py:107: UserWarning: Do not pass an `input_shape`/`input_dim` argument to a layer. When using Sequential models, prefer using an `Input(shape)` object as the first layer in the model instead.\n",
      "  super().__init__(activity_regularizer=activity_regularizer, **kwargs)\n"
     ]
    },
    {
     "data": {
      "text/html": [
       "<pre style=\"white-space:pre;overflow-x:auto;line-height:normal;font-family:Menlo,'DejaVu Sans Mono',consolas,'Courier New',monospace\"><span style=\"font-weight: bold\">Model: \"sequential\"</span>\n",
       "</pre>\n"
      ],
      "text/plain": [
       "\u001b[1mModel: \"sequential\"\u001b[0m\n"
      ]
     },
     "metadata": {},
     "output_type": "display_data"
    },
    {
     "data": {
      "text/html": [
       "<pre style=\"white-space:pre;overflow-x:auto;line-height:normal;font-family:Menlo,'DejaVu Sans Mono',consolas,'Courier New',monospace\">┏━━━━━━━━━━━━━━━━━━━━━━━━━━━━━━━━━━━━━━┳━━━━━━━━━━━━━━━━━━━━━━━━━━━━━┳━━━━━━━━━━━━━━━━━┓\n",
       "┃<span style=\"font-weight: bold\"> Layer (type)                         </span>┃<span style=\"font-weight: bold\"> Output Shape                </span>┃<span style=\"font-weight: bold\">         Param # </span>┃\n",
       "┡━━━━━━━━━━━━━━━━━━━━━━━━━━━━━━━━━━━━━━╇━━━━━━━━━━━━━━━━━━━━━━━━━━━━━╇━━━━━━━━━━━━━━━━━┩\n",
       "│ conv2d (<span style=\"color: #0087ff; text-decoration-color: #0087ff\">Conv2D</span>)                      │ (<span style=\"color: #00d7ff; text-decoration-color: #00d7ff\">None</span>, <span style=\"color: #00af00; text-decoration-color: #00af00\">286</span>, <span style=\"color: #00af00; text-decoration-color: #00af00\">430</span>, <span style=\"color: #00af00; text-decoration-color: #00af00\">32</span>)        │           <span style=\"color: #00af00; text-decoration-color: #00af00\">1,184</span> │\n",
       "├──────────────────────────────────────┼─────────────────────────────┼─────────────────┤\n",
       "│ max_pooling2d (<span style=\"color: #0087ff; text-decoration-color: #0087ff\">MaxPooling2D</span>)         │ (<span style=\"color: #00d7ff; text-decoration-color: #00d7ff\">None</span>, <span style=\"color: #00af00; text-decoration-color: #00af00\">143</span>, <span style=\"color: #00af00; text-decoration-color: #00af00\">215</span>, <span style=\"color: #00af00; text-decoration-color: #00af00\">32</span>)        │               <span style=\"color: #00af00; text-decoration-color: #00af00\">0</span> │\n",
       "├──────────────────────────────────────┼─────────────────────────────┼─────────────────┤\n",
       "│ conv2d_1 (<span style=\"color: #0087ff; text-decoration-color: #0087ff\">Conv2D</span>)                    │ (<span style=\"color: #00d7ff; text-decoration-color: #00d7ff\">None</span>, <span style=\"color: #00af00; text-decoration-color: #00af00\">141</span>, <span style=\"color: #00af00; text-decoration-color: #00af00\">213</span>, <span style=\"color: #00af00; text-decoration-color: #00af00\">16</span>)        │           <span style=\"color: #00af00; text-decoration-color: #00af00\">4,624</span> │\n",
       "├──────────────────────────────────────┼─────────────────────────────┼─────────────────┤\n",
       "│ flatten (<span style=\"color: #0087ff; text-decoration-color: #0087ff\">Flatten</span>)                    │ (<span style=\"color: #00d7ff; text-decoration-color: #00d7ff\">None</span>, <span style=\"color: #00af00; text-decoration-color: #00af00\">480528</span>)              │               <span style=\"color: #00af00; text-decoration-color: #00af00\">0</span> │\n",
       "├──────────────────────────────────────┼─────────────────────────────┼─────────────────┤\n",
       "│ dense (<span style=\"color: #0087ff; text-decoration-color: #0087ff\">Dense</span>)                        │ (<span style=\"color: #00d7ff; text-decoration-color: #00d7ff\">None</span>, <span style=\"color: #00af00; text-decoration-color: #00af00\">64</span>)                  │      <span style=\"color: #00af00; text-decoration-color: #00af00\">30,753,856</span> │\n",
       "├──────────────────────────────────────┼─────────────────────────────┼─────────────────┤\n",
       "│ dense_1 (<span style=\"color: #0087ff; text-decoration-color: #0087ff\">Dense</span>)                      │ (<span style=\"color: #00d7ff; text-decoration-color: #00d7ff\">None</span>, <span style=\"color: #00af00; text-decoration-color: #00af00\">10</span>)                  │             <span style=\"color: #00af00; text-decoration-color: #00af00\">650</span> │\n",
       "└──────────────────────────────────────┴─────────────────────────────┴─────────────────┘\n",
       "</pre>\n"
      ],
      "text/plain": [
       "┏━━━━━━━━━━━━━━━━━━━━━━━━━━━━━━━━━━━━━━┳━━━━━━━━━━━━━━━━━━━━━━━━━━━━━┳━━━━━━━━━━━━━━━━━┓\n",
       "┃\u001b[1m \u001b[0m\u001b[1mLayer (type)                        \u001b[0m\u001b[1m \u001b[0m┃\u001b[1m \u001b[0m\u001b[1mOutput Shape               \u001b[0m\u001b[1m \u001b[0m┃\u001b[1m \u001b[0m\u001b[1m        Param #\u001b[0m\u001b[1m \u001b[0m┃\n",
       "┡━━━━━━━━━━━━━━━━━━━━━━━━━━━━━━━━━━━━━━╇━━━━━━━━━━━━━━━━━━━━━━━━━━━━━╇━━━━━━━━━━━━━━━━━┩\n",
       "│ conv2d (\u001b[38;5;33mConv2D\u001b[0m)                      │ (\u001b[38;5;45mNone\u001b[0m, \u001b[38;5;34m286\u001b[0m, \u001b[38;5;34m430\u001b[0m, \u001b[38;5;34m32\u001b[0m)        │           \u001b[38;5;34m1,184\u001b[0m │\n",
       "├──────────────────────────────────────┼─────────────────────────────┼─────────────────┤\n",
       "│ max_pooling2d (\u001b[38;5;33mMaxPooling2D\u001b[0m)         │ (\u001b[38;5;45mNone\u001b[0m, \u001b[38;5;34m143\u001b[0m, \u001b[38;5;34m215\u001b[0m, \u001b[38;5;34m32\u001b[0m)        │               \u001b[38;5;34m0\u001b[0m │\n",
       "├──────────────────────────────────────┼─────────────────────────────┼─────────────────┤\n",
       "│ conv2d_1 (\u001b[38;5;33mConv2D\u001b[0m)                    │ (\u001b[38;5;45mNone\u001b[0m, \u001b[38;5;34m141\u001b[0m, \u001b[38;5;34m213\u001b[0m, \u001b[38;5;34m16\u001b[0m)        │           \u001b[38;5;34m4,624\u001b[0m │\n",
       "├──────────────────────────────────────┼─────────────────────────────┼─────────────────┤\n",
       "│ flatten (\u001b[38;5;33mFlatten\u001b[0m)                    │ (\u001b[38;5;45mNone\u001b[0m, \u001b[38;5;34m480528\u001b[0m)              │               \u001b[38;5;34m0\u001b[0m │\n",
       "├──────────────────────────────────────┼─────────────────────────────┼─────────────────┤\n",
       "│ dense (\u001b[38;5;33mDense\u001b[0m)                        │ (\u001b[38;5;45mNone\u001b[0m, \u001b[38;5;34m64\u001b[0m)                  │      \u001b[38;5;34m30,753,856\u001b[0m │\n",
       "├──────────────────────────────────────┼─────────────────────────────┼─────────────────┤\n",
       "│ dense_1 (\u001b[38;5;33mDense\u001b[0m)                      │ (\u001b[38;5;45mNone\u001b[0m, \u001b[38;5;34m10\u001b[0m)                  │             \u001b[38;5;34m650\u001b[0m │\n",
       "└──────────────────────────────────────┴─────────────────────────────┴─────────────────┘\n"
      ]
     },
     "metadata": {},
     "output_type": "display_data"
    },
    {
     "data": {
      "text/html": [
       "<pre style=\"white-space:pre;overflow-x:auto;line-height:normal;font-family:Menlo,'DejaVu Sans Mono',consolas,'Courier New',monospace\"><span style=\"font-weight: bold\"> Total params: </span><span style=\"color: #00af00; text-decoration-color: #00af00\">30,760,314</span> (117.34 MB)\n",
       "</pre>\n"
      ],
      "text/plain": [
       "\u001b[1m Total params: \u001b[0m\u001b[38;5;34m30,760,314\u001b[0m (117.34 MB)\n"
      ]
     },
     "metadata": {},
     "output_type": "display_data"
    },
    {
     "data": {
      "text/html": [
       "<pre style=\"white-space:pre;overflow-x:auto;line-height:normal;font-family:Menlo,'DejaVu Sans Mono',consolas,'Courier New',monospace\"><span style=\"font-weight: bold\"> Trainable params: </span><span style=\"color: #00af00; text-decoration-color: #00af00\">30,760,314</span> (117.34 MB)\n",
       "</pre>\n"
      ],
      "text/plain": [
       "\u001b[1m Trainable params: \u001b[0m\u001b[38;5;34m30,760,314\u001b[0m (117.34 MB)\n"
      ]
     },
     "metadata": {},
     "output_type": "display_data"
    },
    {
     "data": {
      "text/html": [
       "<pre style=\"white-space:pre;overflow-x:auto;line-height:normal;font-family:Menlo,'DejaVu Sans Mono',consolas,'Courier New',monospace\"><span style=\"font-weight: bold\"> Non-trainable params: </span><span style=\"color: #00af00; text-decoration-color: #00af00\">0</span> (0.00 B)\n",
       "</pre>\n"
      ],
      "text/plain": [
       "\u001b[1m Non-trainable params: \u001b[0m\u001b[38;5;34m0\u001b[0m (0.00 B)\n"
      ]
     },
     "metadata": {},
     "output_type": "display_data"
    }
   ],
   "source": [
    "'''Create CNN'''\n",
    "model = models.Sequential()\n",
    "model.add(layers.Conv2D(32, (3, 3), activation='relu', input_shape=(288, 432, 4)))\n",
    "model.add(layers.MaxPooling2D((2, 2)))\n",
    "model.add(layers.Conv2D(16, (3, 3), activation='relu'))\n",
    "model.add(layers.Flatten())\n",
    "model.add(layers.Dense(64, activation='relu'))\n",
    "model.add(layers.Dense(10))\n",
    "model.summary()"
   ]
  },
  {
   "cell_type": "raw",
   "id": "40a7f07e-1daf-486a-8508-eba1b7b0acf7",
   "metadata": {},
   "source": [
    "''' \n",
    "THIS CELL HAS A LONG RUNTIME\n",
    "    By using this command I determined that the model seems to work best when\n",
    "    using kernel size 32 for layer 1, kernel size 16 for layer 2, and no layer 3.\n",
    "    Moving forward I will use this CNN configuration to cross-validate and choose hyperparameters\n",
    "'''\n",
    "def choose_CNN(l1, l2, l3):\n",
    "    model = models.Sequential()\n",
    "    model.add(layers.Conv2D(l1, (3, 3), activation='relu', input_shape=(288, 432, 4)))\n",
    "    if l2 != None:\n",
    "        model.add(layers.MaxPooling2D((2, 2)))\n",
    "        model.add(layers.Conv2D(l2, (3, 3), activation='relu'))\n",
    "    if l3 != None:\n",
    "        model.add(layers.MaxPooling2D((2, 2)))\n",
    "        model.add(layers.Conv2D(l3, (3, 3), activation='relu'))\n",
    "    model.add(layers.Flatten())\n",
    "    model.add(layers.Dense(64, activation='relu'))\n",
    "    model.add(layers.Dense(10))\n",
    "    model.compile(optimizer='adam', loss=tf.keras.losses.SparseCategoricalCrossentropy(from_logits=True), metrics=['accuracy'])\n",
    "    history = model.fit(X_images_train_tens, y_images_train_tens, epochs=10, validation_data=(X_images_val_tens, y_images_val_tens))\n",
    "    return model\n",
    "\n",
    "'''Train and test CNN'''\n",
    "X_images_train_tens = tf.convert_to_tensor(X_images_train, dtype=float)\n",
    "y_images_train_tens = tf.convert_to_tensor(y_images_train.astype(np.float32), dtype=float)\n",
    "X_images_val_tens = tf.convert_to_tensor(X_images_val, dtype=float)\n",
    "y_images_val_tens = tf.convert_to_tensor(y_images_val.astype(np.float32), dtype=float)\n",
    "\n",
    "layer1 = [16,32,64]\n",
    "layer2 = [None,16,32]\n",
    "layer3 = [None,16,32]\n",
    "allModels = []\n",
    "\n",
    "for l1 in layer1:\n",
    "    for l2 in layer2:\n",
    "        for l3 in layer3:\n",
    "            allModels.append(choose_CNN(l1,l2,l3))\n",
    "\n",
    "for m in allModels:\n",
    "    m.evaluate(X_images_val_tens,  y_images_val_tens, verbose=2)"
   ]
  },
  {
   "cell_type": "code",
   "execution_count": 25,
   "id": "c95a265b",
   "metadata": {},
   "outputs": [],
   "source": [
    "# Choosing hyper for best model (layer 1 = 32, layer 2 = 16)\n",
    "model = models.Sequential()\n",
    "model.add(layers.Conv2D(32, (3, 3), activation='relu', input_shape=(288, 432, 4)))\n",
    "model.add(layers.MaxPooling2D((2, 2)))\n",
    "model.add(layers.Conv2D(16, (3, 3), activation='relu'))\n",
    "model.add(layers.Flatten())\n",
    "model.add(layers.Dense(64, activation='relu'))\n",
    "model.add(layers.Dense(10))\n",
    "\n",
    "# Set up cross-validation and choose hyperparameters"
   ]
  },
  {
   "cell_type": "code",
   "execution_count": null,
   "id": "44917cf7",
   "metadata": {},
   "outputs": [],
   "source": []
  },
  {
   "cell_type": "code",
   "execution_count": null,
   "id": "6c50dffb-6905-4590-8e39-ccad01d6658c",
   "metadata": {},
   "outputs": [],
   "source": []
  },
  {
   "cell_type": "code",
   "execution_count": null,
   "id": "4976aa43-6ea2-4071-b958-57bfa78850a0",
   "metadata": {},
   "outputs": [],
   "source": []
  }
 ],
 "metadata": {
  "kernelspec": {
   "display_name": "Python 3 (ipykernel)",
   "language": "python",
   "name": "python3"
  },
  "language_info": {
   "codemirror_mode": {
    "name": "ipython",
    "version": 3
   },
   "file_extension": ".py",
   "mimetype": "text/x-python",
   "name": "python",
   "nbconvert_exporter": "python",
   "pygments_lexer": "ipython3",
   "version": "3.12.4"
  }
 },
 "nbformat": 4,
 "nbformat_minor": 5
}
