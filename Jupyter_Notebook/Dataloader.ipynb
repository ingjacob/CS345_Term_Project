{
 "cells": [
  {
   "cell_type": "code",
   "execution_count": 1,
   "id": "a98ce2c5-e32c-4b8e-a55b-ecb3acc9460c",
   "metadata": {},
   "outputs": [],
   "source": [
    "import numpy as np\n",
    "import pandas as pd\n",
    "import os\n",
    "import matplotlib.pyplot as plt"
   ]
  },
  {
   "cell_type": "code",
   "execution_count": 2,
   "id": "1cdc4e79-3859-4bcb-9e02-c04b647c2a12",
   "metadata": {},
   "outputs": [],
   "source": [
    "features_30_seconds_filepath = \"../Data/features_30_sec.csv\"\n",
    "features_3_seconds_filepath = \"../Data/features_3_sec.csv\"\n",
    "mel_spectrograms_filepath = \"../Data/images_original\"\n",
    "\n",
    "genres = [\"blues\", \"classical\" , \"country\", \"disco\", \"hiphop\", \"jazz\", \"metal\", \"pop\", \"reggae\", \"rock\"]"
   ]
  },
  {
   "cell_type": "code",
   "execution_count": 3,
   "id": "906f4bc1-2f5d-4cfa-a837-2a3ce5d17674",
   "metadata": {},
   "outputs": [],
   "source": [
    "'''loads the CSVs. Features are everything but the first col(filename), and the lables. The lables are the last column''' \n",
    "def loadCSVs(filepath):\n",
    "    data = pd.read_csv(filepath, dtype = object, delimiter = ',').values\n",
    "    X = data[:,2:-1]\n",
    "    y = data[:,-1:]\n",
    "    return X, y"
   ]
  },
  {
   "cell_type": "code",
   "execution_count": 4,
   "id": "7f664227-1b71-494d-abea-47dfa3d340a5",
   "metadata": {},
   "outputs": [],
   "source": [
    "'''This will turn the genere lables into np.array of ints'''\n",
    "def lable_to_int(lables, genres):\n",
    "    lable_int = np.array(lables)\n",
    "    for i in range(len(genres)):\n",
    "        lable_int[lable_int==genres[i]]=i\n",
    "    return lable_int \n"
   ]
  },
  {
   "cell_type": "code",
   "execution_count": 5,
   "id": "66b3e3d7-b630-486c-b4de-df74a1dec118",
   "metadata": {},
   "outputs": [],
   "source": [
    "'''#this will turn the png where each pixel is represented by 4 values into a single value. The first three are colors, and I think the forth is transparancy.'''\n",
    "def gray_scale_images(images):\n",
    "    gray_images = np.dot(images[..., :3], [0.2989, 0.5870, 0.1140])\n",
    "    return np.array(gray_images)"
   ]
  },
  {
   "cell_type": "code",
   "execution_count": 6,
   "id": "fdb525d5-d3cf-43a6-947b-974aff3e4a16",
   "metadata": {},
   "outputs": [],
   "source": [
    "'''loads the mel spectrograms into a np array of images. Each image is 288, 432 pixels, and each pixel is represented by four values'''\n",
    "def load_mel_spectrograms():\n",
    "    image_features = []\n",
    "    image_lables = []\n",
    "    for genre in genres:\n",
    "        print(\"Loading\", genre)\n",
    "        images_file_path = mel_spectrograms_filepath + \"/\" + genre\n",
    "        png_files = [f for f in os.listdir(images_file_path) if f.endswith('.png')]\n",
    "\n",
    "        for file in png_files:\n",
    "            file_path = images_file_path +\"/\"+ file\n",
    "            image = plt.imread(file_path)  # Load the image\n",
    "            image_features.append(image)\n",
    "            image_lables.append(genre)\n",
    "\n",
    "    return np.array(image_features), np.array(image_lables)"
   ]
  },
  {
   "cell_type": "code",
   "execution_count": 7,
   "id": "ea624ba4-f7df-44e0-920c-4bec63122ff7",
   "metadata": {},
   "outputs": [
    {
     "name": "stdout",
     "output_type": "stream",
     "text": [
      "(1000, 57) (1000, 1)\n",
      "(9990, 57) (9990, 1)\n"
     ]
    }
   ],
   "source": [
    "string_X_30sec, y_30sec = loadCSVs(features_30_seconds_filepath)\n",
    "X_30sec = string_X_30sec.astype(np.float64)\n",
    "string_X_3sec, y_3sec = loadCSVs(features_3_seconds_filepath)\n",
    "X_3sec = string_X_3sec.astype(np.float64)\n",
    "print(X_30sec.shape, y_30sec.shape)\n",
    "print(X_3sec.shape, y_3sec.shape)"
   ]
  },
  {
   "cell_type": "code",
   "execution_count": 27,
   "id": "4e833a67-c7af-4aac-b059-fafbcac845eb",
   "metadata": {},
   "outputs": [
    {
     "name": "stdout",
     "output_type": "stream",
     "text": [
      "Loading blues\n",
      "Loading classical\n",
      "Loading country\n",
      "Loading disco\n",
      "Loading hiphop\n",
      "Loading jazz\n",
      "Loading metal\n",
      "Loading pop\n",
      "Loading reggae\n",
      "Loading rock\n"
     ]
    },
    {
     "data": {
      "text/plain": [
       "((999, 288, 432, 4), (999,))"
      ]
     },
     "execution_count": 27,
     "metadata": {},
     "output_type": "execute_result"
    }
   ],
   "source": [
    "X_images, y_images = load_mel_spectrograms()\n",
    "y_images = lable_to_int(y_images,genres)\n",
    "X_images.shape, y_images.shape"
   ]
  },
  {
   "cell_type": "code",
   "execution_count": 29,
   "id": "93bc9022",
   "metadata": {},
   "outputs": [],
   "source": [
    "from sklearn.model_selection import train_test_split\n",
    "X_images_train, X_images_temp, y_images_train, y_images_temp = train_test_split(X_images, y_images, test_size=0.2, shuffle=True)\n",
    "X_images_val, X_images_test, y_images_val, y_images_test = train_test_split(X_images_temp, y_images_temp, test_size=0.5, shuffle=True)"
   ]
  },
  {
   "cell_type": "code",
   "execution_count": 9,
   "id": "240058da-7c2b-4ef8-aadc-9a79df7d1fc1",
   "metadata": {},
   "outputs": [
    {
     "data": {
      "text/plain": [
       "(999, 288, 432)"
      ]
     },
     "execution_count": 9,
     "metadata": {},
     "output_type": "execute_result"
    }
   ],
   "source": [
    "#grayscale images \n",
    "X_images_gray = gray_scale_images(X_images)\n",
    "X_images_gray.shape"
   ]
  },
  {
   "cell_type": "code",
   "execution_count": 10,
   "id": "eb7fab7f-0d3b-4598-98f7-503e461ecfeb",
   "metadata": {},
   "outputs": [
    {
     "data": {
      "text/plain": [
       "((1000, 1), (9990, 1), (999,))"
      ]
     },
     "execution_count": 10,
     "metadata": {},
     "output_type": "execute_result"
    }
   ],
   "source": [
    "y_30sec_int = lable_to_int(y_30sec, genres)\n",
    "y_3sec_int = lable_to_int(y_3sec, genres)\n",
    "y_images_int = lable_to_int(y_images, genres)\n",
    "y_30sec_int.shape, y_3sec_int.shape, y_images_int.shape"
   ]
  },
  {
   "cell_type": "code",
   "execution_count": 11,
   "id": "2c7eb730-7c49-46a8-ba43-90d96b6354e4",
   "metadata": {},
   "outputs": [],
   "source": [
    "'''Create normalized and standardized versions of data'''\n",
    "X_30sec_norm = (X_30sec-np.min(X_30sec, axis=0))/(np.max(X_30sec,axis=0)-np.min(X_30sec,axis=0))\n",
    "X_3sec_norm = (X_3sec-np.min(X_3sec, axis=0))/(np.max(X_3sec,axis=0)-np.min(X_3sec,axis=0))\n",
    "X_30sec_std = (X_30sec-np.mean(X_30sec, axis=0))/(np.std(X_30sec, axis=0))\n",
    "X_3sec_std = (X_3sec-np.mean(X_3sec, axis=0))/(np.std(X_3sec, axis=0))"
   ]
  },
  {
   "cell_type": "code",
   "execution_count": 12,
   "id": "29bdc6be",
   "metadata": {},
   "outputs": [
    {
     "name": "stdout",
     "output_type": "stream",
     "text": [
      "True True\n",
      "True True\n",
      "-8.78829173176966e-18 1.0\n",
      "5.5902067966304e-18 1.0\n"
     ]
    }
   ],
   "source": [
    "'''Check norm and std data'''\n",
    "print(np.max(X_30sec_norm)==1,np.min(X_30sec_norm)==0)\n",
    "print(np.max(X_3sec_norm)==1,np.min(X_3sec_norm)==0)\n",
    "print(np.mean(X_30sec_std), np.std(X_30sec_std))\n",
    "print(np.mean(X_3sec_std), np.std(X_3sec_std))"
   ]
  },
  {
   "cell_type": "code",
   "execution_count": 15,
   "id": "7b5ea54f",
   "metadata": {},
   "outputs": [
    {
     "name": "stdout",
     "output_type": "stream",
     "text": [
      "TensorFlow version: 2.12.0\n"
     ]
    }
   ],
   "source": [
    "'''TensorFlow setup'''\n",
    "import tensorflow as tf\n",
    "from tensorflow.keras import layers, models\n",
    "print(\"TensorFlow version:\", tf.__version__)"
   ]
  },
  {
   "cell_type": "code",
   "execution_count": 19,
   "id": "e44f09d1",
   "metadata": {},
   "outputs": [
    {
     "name": "stdout",
     "output_type": "stream",
     "text": [
      "Model: \"sequential_3\"\n",
      "_________________________________________________________________\n",
      " Layer (type)                Output Shape              Param #   \n",
      "=================================================================\n",
      " conv2d_6 (Conv2D)           (None, 286, 430, 32)      1184      \n",
      "                                                                 \n",
      " max_pooling2d_4 (MaxPooling  (None, 143, 215, 32)     0         \n",
      " 2D)                                                             \n",
      "                                                                 \n",
      " conv2d_7 (Conv2D)           (None, 141, 213, 64)      18496     \n",
      "                                                                 \n",
      " max_pooling2d_5 (MaxPooling  (None, 70, 106, 64)      0         \n",
      " 2D)                                                             \n",
      "                                                                 \n",
      " conv2d_8 (Conv2D)           (None, 68, 104, 64)       36928     \n",
      "                                                                 \n",
      " flatten (Flatten)           (None, 452608)            0         \n",
      "                                                                 \n",
      " dense (Dense)               (None, 64)                28966976  \n",
      "                                                                 \n",
      " dense_1 (Dense)             (None, 10)                650       \n",
      "                                                                 \n",
      "=================================================================\n",
      "Total params: 29,024,234\n",
      "Trainable params: 29,024,234\n",
      "Non-trainable params: 0\n",
      "_________________________________________________________________\n"
     ]
    }
   ],
   "source": [
    "'''Create CNN'''\n",
    "model = models.Sequential()\n",
    "model.add(layers.Conv2D(32, (3, 3), activation='relu', input_shape=(288, 432, 4)))\n",
    "model.add(layers.MaxPooling2D((2, 2)))\n",
    "model.add(layers.Conv2D(64, (3, 3), activation='relu'))\n",
    "model.add(layers.MaxPooling2D((2, 2)))\n",
    "model.add(layers.Conv2D(64, (3, 3), activation='relu'))\n",
    "model.add(layers.Flatten())\n",
    "model.add(layers.Dense(64, activation='relu'))\n",
    "model.add(layers.Dense(10))\n",
    "model.summary()"
   ]
  },
  {
   "cell_type": "code",
   "execution_count": 61,
   "id": "f7b372f7",
   "metadata": {},
   "outputs": [
    {
     "name": "stdout",
     "output_type": "stream",
     "text": [
      "25/25 [==============================] - ETA: 0s - loss: 2.3024 - accuracy: 0.1064"
     ]
    },
    {
     "name": "stderr",
     "output_type": "stream",
     "text": [
      "2024-11-25 16:53:36.179958: W tensorflow/core/framework/op_kernel.cc:1807] OP_REQUIRES failed at cast_op.cc:121 : UNIMPLEMENTED: Cast string to float is not supported\n"
     ]
    },
    {
     "ename": "UnimplementedError",
     "evalue": "Graph execution error:\n\nDetected at node 'Cast_1' defined at (most recent call last):\n    File \"/usr/local/anaconda3/2023.03/lib/python3.10/runpy.py\", line 196, in _run_module_as_main\n      return _run_code(code, main_globals, None,\n    File \"/usr/local/anaconda3/2023.03/lib/python3.10/runpy.py\", line 86, in _run_code\n      exec(code, run_globals)\n    File \"/usr/local/anaconda3/2023.03/lib/python3.10/site-packages/ipykernel_launcher.py\", line 17, in <module>\n      app.launch_new_instance()\n    File \"/usr/local/anaconda3/2023.03/lib/python3.10/site-packages/traitlets/config/application.py\", line 992, in launch_instance\n      app.start()\n    File \"/usr/local/anaconda3/2023.03/lib/python3.10/site-packages/ipykernel/kernelapp.py\", line 736, in start\n      self.io_loop.start()\n    File \"/usr/local/anaconda3/2023.03/lib/python3.10/site-packages/tornado/platform/asyncio.py\", line 195, in start\n      self.asyncio_loop.run_forever()\n    File \"/usr/local/anaconda3/2023.03/lib/python3.10/asyncio/base_events.py\", line 603, in run_forever\n      self._run_once()\n    File \"/usr/local/anaconda3/2023.03/lib/python3.10/asyncio/base_events.py\", line 1909, in _run_once\n      handle._run()\n    File \"/usr/local/anaconda3/2023.03/lib/python3.10/asyncio/events.py\", line 80, in _run\n      self._context.run(self._callback, *self._args)\n    File \"/usr/local/anaconda3/2023.03/lib/python3.10/site-packages/ipykernel/kernelbase.py\", line 516, in dispatch_queue\n      await self.process_one()\n    File \"/usr/local/anaconda3/2023.03/lib/python3.10/site-packages/ipykernel/kernelbase.py\", line 505, in process_one\n      await dispatch(*args)\n    File \"/usr/local/anaconda3/2023.03/lib/python3.10/site-packages/ipykernel/kernelbase.py\", line 412, in dispatch_shell\n      await result\n    File \"/usr/local/anaconda3/2023.03/lib/python3.10/site-packages/ipykernel/kernelbase.py\", line 740, in execute_request\n      reply_content = await reply_content\n    File \"/usr/local/anaconda3/2023.03/lib/python3.10/site-packages/ipykernel/ipkernel.py\", line 422, in do_execute\n      res = shell.run_cell(\n    File \"/usr/local/anaconda3/2023.03/lib/python3.10/site-packages/ipykernel/zmqshell.py\", line 546, in run_cell\n      return super().run_cell(*args, **kwargs)\n    File \"/usr/local/anaconda3/2023.03/lib/python3.10/site-packages/IPython/core/interactiveshell.py\", line 3009, in run_cell\n      result = self._run_cell(\n    File \"/usr/local/anaconda3/2023.03/lib/python3.10/site-packages/IPython/core/interactiveshell.py\", line 3064, in _run_cell\n      result = runner(coro)\n    File \"/usr/local/anaconda3/2023.03/lib/python3.10/site-packages/IPython/core/async_helpers.py\", line 129, in _pseudo_sync_runner\n      coro.send(None)\n    File \"/usr/local/anaconda3/2023.03/lib/python3.10/site-packages/IPython/core/interactiveshell.py\", line 3269, in run_cell_async\n      has_raised = await self.run_ast_nodes(code_ast.body, cell_name,\n    File \"/usr/local/anaconda3/2023.03/lib/python3.10/site-packages/IPython/core/interactiveshell.py\", line 3448, in run_ast_nodes\n      if await self.run_code(code, result, async_=asy):\n    File \"/usr/local/anaconda3/2023.03/lib/python3.10/site-packages/IPython/core/interactiveshell.py\", line 3508, in run_code\n      exec(code_obj, self.user_global_ns, self.user_ns)\n    File \"/tmp/ipykernel_4037702/237434354.py\", line 7, in <module>\n      history = model.fit(X_images_train_tens, y_images_train_tens, epochs=1, validation_data=(X_images_val_tens, y_images_val_tens))\n    File \"/usr/local/anaconda3/2023.03/lib/python3.10/site-packages/keras/utils/traceback_utils.py\", line 65, in error_handler\n      return fn(*args, **kwargs)\n    File \"/usr/local/anaconda3/2023.03/lib/python3.10/site-packages/keras/engine/training.py\", line 1729, in fit\n      val_logs = self.evaluate(\n    File \"/usr/local/anaconda3/2023.03/lib/python3.10/site-packages/keras/utils/traceback_utils.py\", line 65, in error_handler\n      return fn(*args, **kwargs)\n    File \"/usr/local/anaconda3/2023.03/lib/python3.10/site-packages/keras/engine/training.py\", line 2072, in evaluate\n      tmp_logs = self.test_function(iterator)\n    File \"/usr/local/anaconda3/2023.03/lib/python3.10/site-packages/keras/engine/training.py\", line 1852, in test_function\n      return step_function(self, iterator)\n    File \"/usr/local/anaconda3/2023.03/lib/python3.10/site-packages/keras/engine/training.py\", line 1836, in step_function\n      outputs = model.distribute_strategy.run(run_step, args=(data,))\n    File \"/usr/local/anaconda3/2023.03/lib/python3.10/site-packages/keras/engine/training.py\", line 1824, in run_step\n      outputs = model.test_step(data)\n    File \"/usr/local/anaconda3/2023.03/lib/python3.10/site-packages/keras/engine/training.py\", line 1791, in test_step\n      return self.compute_metrics(x, y, y_pred, sample_weight)\n    File \"/usr/local/anaconda3/2023.03/lib/python3.10/site-packages/keras/engine/training.py\", line 1149, in compute_metrics\n      self.compiled_metrics.update_state(y, y_pred, sample_weight)\n    File \"/usr/local/anaconda3/2023.03/lib/python3.10/site-packages/keras/engine/compile_utils.py\", line 605, in update_state\n      metric_obj.update_state(y_t, y_p, sample_weight=mask)\n    File \"/usr/local/anaconda3/2023.03/lib/python3.10/site-packages/keras/utils/metrics_utils.py\", line 77, in decorated\n      update_op = update_state_fn(*args, **kwargs)\n    File \"/usr/local/anaconda3/2023.03/lib/python3.10/site-packages/keras/metrics/base_metric.py\", line 140, in update_state_fn\n      return ag_update_state(*args, **kwargs)\n    File \"/usr/local/anaconda3/2023.03/lib/python3.10/site-packages/keras/metrics/base_metric.py\", line 676, in update_state\n      y_true = tf.cast(y_true, self._dtype)\nNode: 'Cast_1'\nCast string to float is not supported\n\t [[{{node Cast_1}}]] [Op:__inference_test_function_9448]",
     "output_type": "error",
     "traceback": [
      "\u001b[0;31m---------------------------------------------------------------------------\u001b[0m",
      "\u001b[0;31mUnimplementedError\u001b[0m                        Traceback (most recent call last)",
      "Cell \u001b[0;32mIn[61], line 7\u001b[0m\n\u001b[1;32m      5\u001b[0m y_images_val_tens \u001b[38;5;241m=\u001b[39m tf\u001b[38;5;241m.\u001b[39mconvert_to_tensor(y_images_val\u001b[38;5;241m.\u001b[39mastype(np\u001b[38;5;241m.\u001b[39mfloat32), dtype\u001b[38;5;241m=\u001b[39m\u001b[38;5;28mfloat\u001b[39m)\n\u001b[1;32m      6\u001b[0m model\u001b[38;5;241m.\u001b[39mcompile(optimizer\u001b[38;5;241m=\u001b[39m\u001b[38;5;124m'\u001b[39m\u001b[38;5;124madam\u001b[39m\u001b[38;5;124m'\u001b[39m, loss\u001b[38;5;241m=\u001b[39mtf\u001b[38;5;241m.\u001b[39mkeras\u001b[38;5;241m.\u001b[39mlosses\u001b[38;5;241m.\u001b[39mSparseCategoricalCrossentropy(from_logits\u001b[38;5;241m=\u001b[39m\u001b[38;5;28;01mTrue\u001b[39;00m), metrics\u001b[38;5;241m=\u001b[39m[\u001b[38;5;124m'\u001b[39m\u001b[38;5;124maccuracy\u001b[39m\u001b[38;5;124m'\u001b[39m])\n\u001b[0;32m----> 7\u001b[0m history \u001b[38;5;241m=\u001b[39m \u001b[43mmodel\u001b[49m\u001b[38;5;241;43m.\u001b[39;49m\u001b[43mfit\u001b[49m\u001b[43m(\u001b[49m\u001b[43mX_images_train_tens\u001b[49m\u001b[43m,\u001b[49m\u001b[43m \u001b[49m\u001b[43my_images_train_tens\u001b[49m\u001b[43m,\u001b[49m\u001b[43m \u001b[49m\u001b[43mepochs\u001b[49m\u001b[38;5;241;43m=\u001b[39;49m\u001b[38;5;241;43m1\u001b[39;49m\u001b[43m,\u001b[49m\u001b[43m \u001b[49m\u001b[43mvalidation_data\u001b[49m\u001b[38;5;241;43m=\u001b[39;49m\u001b[43m(\u001b[49m\u001b[43mX_images_val_tens\u001b[49m\u001b[43m,\u001b[49m\u001b[43m \u001b[49m\u001b[43my_images_val_tens\u001b[49m\u001b[43m)\u001b[49m\u001b[43m)\u001b[49m\n",
      "File \u001b[0;32m/usr/local/anaconda3/2023.03/lib/python3.10/site-packages/keras/utils/traceback_utils.py:70\u001b[0m, in \u001b[0;36mfilter_traceback.<locals>.error_handler\u001b[0;34m(*args, **kwargs)\u001b[0m\n\u001b[1;32m     67\u001b[0m     filtered_tb \u001b[38;5;241m=\u001b[39m _process_traceback_frames(e\u001b[38;5;241m.\u001b[39m__traceback__)\n\u001b[1;32m     68\u001b[0m     \u001b[38;5;66;03m# To get the full stack trace, call:\u001b[39;00m\n\u001b[1;32m     69\u001b[0m     \u001b[38;5;66;03m# `tf.debugging.disable_traceback_filtering()`\u001b[39;00m\n\u001b[0;32m---> 70\u001b[0m     \u001b[38;5;28;01mraise\u001b[39;00m e\u001b[38;5;241m.\u001b[39mwith_traceback(filtered_tb) \u001b[38;5;28;01mfrom\u001b[39;00m \u001b[38;5;28;01mNone\u001b[39;00m\n\u001b[1;32m     71\u001b[0m \u001b[38;5;28;01mfinally\u001b[39;00m:\n\u001b[1;32m     72\u001b[0m     \u001b[38;5;28;01mdel\u001b[39;00m filtered_tb\n",
      "File \u001b[0;32m/usr/local/anaconda3/2023.03/lib/python3.10/site-packages/tensorflow/python/eager/execute.py:52\u001b[0m, in \u001b[0;36mquick_execute\u001b[0;34m(op_name, num_outputs, inputs, attrs, ctx, name)\u001b[0m\n\u001b[1;32m     50\u001b[0m \u001b[38;5;28;01mtry\u001b[39;00m:\n\u001b[1;32m     51\u001b[0m   ctx\u001b[38;5;241m.\u001b[39mensure_initialized()\n\u001b[0;32m---> 52\u001b[0m   tensors \u001b[38;5;241m=\u001b[39m pywrap_tfe\u001b[38;5;241m.\u001b[39mTFE_Py_Execute(ctx\u001b[38;5;241m.\u001b[39m_handle, device_name, op_name,\n\u001b[1;32m     53\u001b[0m                                       inputs, attrs, num_outputs)\n\u001b[1;32m     54\u001b[0m \u001b[38;5;28;01mexcept\u001b[39;00m core\u001b[38;5;241m.\u001b[39m_NotOkStatusException \u001b[38;5;28;01mas\u001b[39;00m e:\n\u001b[1;32m     55\u001b[0m   \u001b[38;5;28;01mif\u001b[39;00m name \u001b[38;5;129;01mis\u001b[39;00m \u001b[38;5;129;01mnot\u001b[39;00m \u001b[38;5;28;01mNone\u001b[39;00m:\n",
      "\u001b[0;31mUnimplementedError\u001b[0m: Graph execution error:\n\nDetected at node 'Cast_1' defined at (most recent call last):\n    File \"/usr/local/anaconda3/2023.03/lib/python3.10/runpy.py\", line 196, in _run_module_as_main\n      return _run_code(code, main_globals, None,\n    File \"/usr/local/anaconda3/2023.03/lib/python3.10/runpy.py\", line 86, in _run_code\n      exec(code, run_globals)\n    File \"/usr/local/anaconda3/2023.03/lib/python3.10/site-packages/ipykernel_launcher.py\", line 17, in <module>\n      app.launch_new_instance()\n    File \"/usr/local/anaconda3/2023.03/lib/python3.10/site-packages/traitlets/config/application.py\", line 992, in launch_instance\n      app.start()\n    File \"/usr/local/anaconda3/2023.03/lib/python3.10/site-packages/ipykernel/kernelapp.py\", line 736, in start\n      self.io_loop.start()\n    File \"/usr/local/anaconda3/2023.03/lib/python3.10/site-packages/tornado/platform/asyncio.py\", line 195, in start\n      self.asyncio_loop.run_forever()\n    File \"/usr/local/anaconda3/2023.03/lib/python3.10/asyncio/base_events.py\", line 603, in run_forever\n      self._run_once()\n    File \"/usr/local/anaconda3/2023.03/lib/python3.10/asyncio/base_events.py\", line 1909, in _run_once\n      handle._run()\n    File \"/usr/local/anaconda3/2023.03/lib/python3.10/asyncio/events.py\", line 80, in _run\n      self._context.run(self._callback, *self._args)\n    File \"/usr/local/anaconda3/2023.03/lib/python3.10/site-packages/ipykernel/kernelbase.py\", line 516, in dispatch_queue\n      await self.process_one()\n    File \"/usr/local/anaconda3/2023.03/lib/python3.10/site-packages/ipykernel/kernelbase.py\", line 505, in process_one\n      await dispatch(*args)\n    File \"/usr/local/anaconda3/2023.03/lib/python3.10/site-packages/ipykernel/kernelbase.py\", line 412, in dispatch_shell\n      await result\n    File \"/usr/local/anaconda3/2023.03/lib/python3.10/site-packages/ipykernel/kernelbase.py\", line 740, in execute_request\n      reply_content = await reply_content\n    File \"/usr/local/anaconda3/2023.03/lib/python3.10/site-packages/ipykernel/ipkernel.py\", line 422, in do_execute\n      res = shell.run_cell(\n    File \"/usr/local/anaconda3/2023.03/lib/python3.10/site-packages/ipykernel/zmqshell.py\", line 546, in run_cell\n      return super().run_cell(*args, **kwargs)\n    File \"/usr/local/anaconda3/2023.03/lib/python3.10/site-packages/IPython/core/interactiveshell.py\", line 3009, in run_cell\n      result = self._run_cell(\n    File \"/usr/local/anaconda3/2023.03/lib/python3.10/site-packages/IPython/core/interactiveshell.py\", line 3064, in _run_cell\n      result = runner(coro)\n    File \"/usr/local/anaconda3/2023.03/lib/python3.10/site-packages/IPython/core/async_helpers.py\", line 129, in _pseudo_sync_runner\n      coro.send(None)\n    File \"/usr/local/anaconda3/2023.03/lib/python3.10/site-packages/IPython/core/interactiveshell.py\", line 3269, in run_cell_async\n      has_raised = await self.run_ast_nodes(code_ast.body, cell_name,\n    File \"/usr/local/anaconda3/2023.03/lib/python3.10/site-packages/IPython/core/interactiveshell.py\", line 3448, in run_ast_nodes\n      if await self.run_code(code, result, async_=asy):\n    File \"/usr/local/anaconda3/2023.03/lib/python3.10/site-packages/IPython/core/interactiveshell.py\", line 3508, in run_code\n      exec(code_obj, self.user_global_ns, self.user_ns)\n    File \"/tmp/ipykernel_4037702/237434354.py\", line 7, in <module>\n      history = model.fit(X_images_train_tens, y_images_train_tens, epochs=1, validation_data=(X_images_val_tens, y_images_val_tens))\n    File \"/usr/local/anaconda3/2023.03/lib/python3.10/site-packages/keras/utils/traceback_utils.py\", line 65, in error_handler\n      return fn(*args, **kwargs)\n    File \"/usr/local/anaconda3/2023.03/lib/python3.10/site-packages/keras/engine/training.py\", line 1729, in fit\n      val_logs = self.evaluate(\n    File \"/usr/local/anaconda3/2023.03/lib/python3.10/site-packages/keras/utils/traceback_utils.py\", line 65, in error_handler\n      return fn(*args, **kwargs)\n    File \"/usr/local/anaconda3/2023.03/lib/python3.10/site-packages/keras/engine/training.py\", line 2072, in evaluate\n      tmp_logs = self.test_function(iterator)\n    File \"/usr/local/anaconda3/2023.03/lib/python3.10/site-packages/keras/engine/training.py\", line 1852, in test_function\n      return step_function(self, iterator)\n    File \"/usr/local/anaconda3/2023.03/lib/python3.10/site-packages/keras/engine/training.py\", line 1836, in step_function\n      outputs = model.distribute_strategy.run(run_step, args=(data,))\n    File \"/usr/local/anaconda3/2023.03/lib/python3.10/site-packages/keras/engine/training.py\", line 1824, in run_step\n      outputs = model.test_step(data)\n    File \"/usr/local/anaconda3/2023.03/lib/python3.10/site-packages/keras/engine/training.py\", line 1791, in test_step\n      return self.compute_metrics(x, y, y_pred, sample_weight)\n    File \"/usr/local/anaconda3/2023.03/lib/python3.10/site-packages/keras/engine/training.py\", line 1149, in compute_metrics\n      self.compiled_metrics.update_state(y, y_pred, sample_weight)\n    File \"/usr/local/anaconda3/2023.03/lib/python3.10/site-packages/keras/engine/compile_utils.py\", line 605, in update_state\n      metric_obj.update_state(y_t, y_p, sample_weight=mask)\n    File \"/usr/local/anaconda3/2023.03/lib/python3.10/site-packages/keras/utils/metrics_utils.py\", line 77, in decorated\n      update_op = update_state_fn(*args, **kwargs)\n    File \"/usr/local/anaconda3/2023.03/lib/python3.10/site-packages/keras/metrics/base_metric.py\", line 140, in update_state_fn\n      return ag_update_state(*args, **kwargs)\n    File \"/usr/local/anaconda3/2023.03/lib/python3.10/site-packages/keras/metrics/base_metric.py\", line 676, in update_state\n      y_true = tf.cast(y_true, self._dtype)\nNode: 'Cast_1'\nCast string to float is not supported\n\t [[{{node Cast_1}}]] [Op:__inference_test_function_9448]"
     ]
    }
   ],
   "source": [
    "'''Train and test CNN'''\n",
    "X_images_train_tens = tf.convert_to_tensor(X_images_train, dtype=float)\n",
    "y_images_train_tens = tf.convert_to_tensor(y_images_train.astype(np.float32), dtype=float)\n",
    "X_images_val_tens = tf.convert_to_tensor(X_images_val, dtype=float)\n",
    "y_images_val_tens = tf.convert_to_tensor(y_images_val.astype(np.float32), dtype=float)\n",
    "model.compile(optimizer='adam', loss=tf.keras.losses.SparseCategoricalCrossentropy(from_logits=True), metrics=['accuracy'])\n",
    "history = model.fit(X_images_train_tens, y_images_train_tens, epochs=1, validation_data=(X_images_val_tens, y_images_val_tens))"
   ]
  },
  {
   "cell_type": "code",
   "execution_count": null,
   "id": "f821c845",
   "metadata": {},
   "outputs": [],
   "source": []
  }
 ],
 "metadata": {
  "kernelspec": {
   "display_name": "Python 3 (ipykernel)",
   "language": "python",
   "name": "python3"
  },
  "language_info": {
   "codemirror_mode": {
    "name": "ipython",
    "version": 3
   },
   "file_extension": ".py",
   "mimetype": "text/x-python",
   "name": "python",
   "nbconvert_exporter": "python",
   "pygments_lexer": "ipython3",
   "version": "3.10.12"
  }
 },
 "nbformat": 4,
 "nbformat_minor": 5
}
